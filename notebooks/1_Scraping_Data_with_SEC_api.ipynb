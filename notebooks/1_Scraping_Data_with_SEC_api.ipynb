{
  "nbformat": 4,
  "nbformat_minor": 0,
  "metadata": {
    "colab": {
      "provenance": [],
      "include_colab_link": true
    },
    "kernelspec": {
      "name": "python3",
      "display_name": "Python 3"
    },
    "language_info": {
      "name": "python"
    }
  },
  "cells": [
    {
      "cell_type": "markdown",
      "metadata": {
        "id": "view-in-github",
        "colab_type": "text"
      },
      "source": [
        "<a href=\"https://colab.research.google.com/github/utkarshbelkhede/Financial_Dashboard/blob/master/notebooks/1_Scraping_Data_with_SEC_api.ipynb\" target=\"_parent\"><img src=\"https://colab.research.google.com/assets/colab-badge.svg\" alt=\"Open In Colab\"/></a>"
      ]
    },
    {
      "cell_type": "markdown",
      "source": [
        "#### 1. Required Libraries"
      ],
      "metadata": {
        "id": "_g1Vt6C7GHib"
      }
    },
    {
      "cell_type": "code",
      "execution_count": null,
      "metadata": {
        "id": "aYOMmvfAC3l7"
      },
      "outputs": [],
      "source": [
        "!pip install --quiet sec-api"
      ]
    },
    {
      "cell_type": "code",
      "source": [
        "from sec_api import ExtractorApi\n",
        "import pandas as pd\n",
        "import re"
      ],
      "metadata": {
        "id": "tg0JMt3MC_0-"
      },
      "execution_count": null,
      "outputs": []
    },
    {
      "cell_type": "markdown",
      "source": [
        "#### 2. Few helper functions"
      ],
      "metadata": {
        "id": "1JAui_3YG4TG"
      }
    },
    {
      "cell_type": "code",
      "source": [
        "# This will return Compan's Name from URL string.\n",
        "\n",
        "def return_company_name(url):\n",
        "  company_name = []\n",
        "\n",
        "  for i in url[::-1]:\n",
        "    if i == '/':\n",
        "      break\n",
        "    \n",
        "    company_name.append(i)\n",
        "\n",
        "  return ''.join(company_name[-4:])[::-1]\n",
        "  "
      ],
      "metadata": {
        "id": "JFBUNonztBjc"
      },
      "execution_count": null,
      "outputs": []
    },
    {
      "cell_type": "code",
      "source": [
        "# This will extract required sections from 10-K file and return a Dataframe\n",
        "\n",
        "def extractor_filing(extractorApi, filing_url, section):\n",
        "\n",
        "  rows = []\n",
        "\n",
        "  for url in filing_url:\n",
        "\n",
        "    dict_ = {}\n",
        "\n",
        "    columns = [\"Company\", \"Reporting_Date\"]\n",
        "\n",
        "    elements = [return_company_name(url), url[-12:-4]]\n",
        "\n",
        "    for sec in section:\n",
        "\n",
        "      extracted_section = extractorApi.get_section(url, sec, \"text\")\n",
        "      cleaned_section = re.sub(r\"\\n|&#[0-9]+;\", \"\", extracted_section)\n",
        "\n",
        "      columns.append(sec)\n",
        "      elements.append(cleaned_section)\n",
        "      \n",
        "    rows.append(elements)\n",
        "\n",
        "  return pd.DataFrame(rows, columns=columns)\n"
      ],
      "metadata": {
        "id": "chsmSP47e_QN"
      },
      "execution_count": null,
      "outputs": []
    },
    {
      "cell_type": "markdown",
      "source": [
        "#### 3. Extract"
      ],
      "metadata": {
        "id": "QoNMDVcxHYvw"
      }
    },
    {
      "cell_type": "code",
      "source": [
        "# Put your api Key here\n",
        "\n",
        "extractorApi = ExtractorApi(\"45d9f1c2b30f7f412419991d951a053037a15f9bd26bf0caab292618899d573d\")"
      ],
      "metadata": {
        "id": "KOh_hqCRHiX-"
      },
      "execution_count": null,
      "outputs": []
    },
    {
      "cell_type": "code",
      "source": [
        "# URLs of 10-K filings to extract\n",
        "\n",
        "filing_url = [\n",
        "    \"https://www.sec.gov/Archives/edgar/data/320193/000032019321000105/aapl-20210925.htm\",\n",
        "    \"https://www.sec.gov/Archives/edgar/data/320193/000032019320000096/aapl-20200926.htm\",\n",
        "    \"https://www.sec.gov/Archives/edgar/data/320193/000032019319000119/a10-k20199282019.htm\",\n",
        "    \"https://www.sec.gov/Archives/edgar/data/320193/000032019318000145/a10-k20189292018.htm\",\n",
        "    \"https://www.sec.gov/Archives/edgar/data/320193/000032019317000070/a10-k20179302017.htm\",\n",
        "    \"https://www.sec.gov/Archives/edgar/data/320193/000162828016020309/a201610-k9242016.htm\",\n",
        "    \"https://www.sec.gov/Archives/edgar/data/320193/000119312515356351/d17062d10k.htm\",\n",
        "    \"https://www.sec.gov/Archives/edgar/data/320193/000119312514383437/d783162d10k.htm\",\n",
        "    \"https://www.sec.gov/Archives/edgar/data/320193/000119312513416534/d590790d10k.htm\",\n",
        "    \"https://www.sec.gov/Archives/edgar/data/320193/000119312512444068/d411355d10k.htm\"\n",
        "]"
      ],
      "metadata": {
        "id": "oydYW-QOmxai"
      },
      "execution_count": null,
      "outputs": []
    },
    {
      "cell_type": "code",
      "source": [
        "# Which section you want to Extract?\n",
        "\n",
        "section = [\"1A\", \"1B\", \"3\", \"5\", \"7\", \"7A\"]"
      ],
      "metadata": {
        "id": "Ig5OXCiBIMMX"
      },
      "execution_count": null,
      "outputs": []
    },
    {
      "cell_type": "code",
      "source": [
        "# Function call\n",
        "\n",
        "results = extractor_filing(extractorApi, filing_url, section)\n",
        "\n",
        "results"
      ],
      "metadata": {
        "colab": {
          "base_uri": "https://localhost:8080/",
          "height": 337
        },
        "id": "_poPBOI_gS8z",
        "outputId": "d04f1f0f-9bef-4363-819c-9d994b0459fe"
      },
      "execution_count": null,
      "outputs": [
        {
          "output_type": "execute_result",
          "data": {
            "text/plain": [
              "  Company Reporting_Date                                                 1A  \\\n",
              "0    tsla       20211231   ITEM 1A.RISK FACTORS You should carefully con...   \n",
              "1    tsla       20201231   ITEM 1A. RISK FACTORSYou should carefully con...   \n",
              "2    tsla       20191231   ITEM 1A. RISK FACTORSYou should carefully con...   \n",
              "3    tsla       20171231   I TEM 1A. RISK FACTORS You should carefully c...   \n",
              "4    tsla       20181231   ITEM 1A. RI SK FACTORS You should carefully c...   \n",
              "\n",
              "                                          1B  \\\n",
              "0   ITEM 1B.UNRESOLVED STAFF COMMENTS None.    \n",
              "1    ITEM 1B. UNRESOLVED STAFF COMMENTSNone.   \n",
              "2    ITEM 1B. UNRESOLVED STAFF COMMENTSNone.   \n",
              "3    I TEM 1B. UNRESOLVED STAFF COMMENTSNone   \n",
              "4    ITEM 1B. UNRESOLVED STAFF COMMENTSNone.   \n",
              "\n",
              "                                                   3  \\\n",
              "0   ITEM 3.LEGAL PROCEEDINGS For a description of...   \n",
              "1   ITEM 3. LEGA L PROCEEDINGS For a description ...   \n",
              "2   ITEM 3. LEGAL PROCEEDINGSFor a description of...   \n",
              "3   I TEM 3. LEGAL PROCEEDINGSProceedings Related...   \n",
              "4   I TEM 3. LEGA L PROCEEDINGSFor a description ...   \n",
              "\n",
              "                                                   5  \\\n",
              "0   ITEM 5. MARKET FOR REGISTRANTS COMMO N EQUITY...   \n",
              "1   ITEM 5. MARKET FOR REGISTRANTS COMMON EQUITY,...   \n",
              "2   I TEM 5. MARKET FOR REGISTRANTS COMMON EQUITY...   \n",
              "3   I TEM 5. MARKET FOR REGISTRANTS COMMON EQUITY...   \n",
              "4   I TEM 5. MARKET FOR REGISTRANTS COMMON EQUITY...   \n",
              "\n",
              "                                                   7  \\\n",
              "0   ITEM 7.MANAGEMENTS DISCUSSION AND ANALYSIS OF...   \n",
              "1   ITEM 7. MANAGEMENTS DISCUSSION AND ANALYSIS O...   \n",
              "2   I TEM 7. MANAGEMENTS DISCUSSION AND ANALYSIS ...   \n",
              "3   I TEM 7. MANAGEMENTS DISCUSSION AND ANALYSIS ...   \n",
              "4   I TEM 7. MANAGEMENTS DISCUSSION AND ANALYSIS ...   \n",
              "\n",
              "                                                  7A  \n",
              "0   ITEM 7A.QUANTITATIVE AND QUALITATIVE DISCLOSU...  \n",
              "1   ITEM 7A. QUANTITATIVE AND QUALITATIVE DISCLOS...  \n",
              "2   ITEM 7A. QUANTITATIVE AND QUALITATIVE DISCLOS...  \n",
              "3   ITEM 7A. QUANTITATIVE AND QUALITATIVE DISCLOS...  \n",
              "4   ITEM 7A. QUANTITATIVE AND QUALITAT IVE DISCLO...  "
            ],
            "text/html": [
              "\n",
              "  <div id=\"df-632634d6-fcee-4e6a-8c29-5080e3a26a2f\">\n",
              "    <div class=\"colab-df-container\">\n",
              "      <div>\n",
              "<style scoped>\n",
              "    .dataframe tbody tr th:only-of-type {\n",
              "        vertical-align: middle;\n",
              "    }\n",
              "\n",
              "    .dataframe tbody tr th {\n",
              "        vertical-align: top;\n",
              "    }\n",
              "\n",
              "    .dataframe thead th {\n",
              "        text-align: right;\n",
              "    }\n",
              "</style>\n",
              "<table border=\"1\" class=\"dataframe\">\n",
              "  <thead>\n",
              "    <tr style=\"text-align: right;\">\n",
              "      <th></th>\n",
              "      <th>Company</th>\n",
              "      <th>Reporting_Date</th>\n",
              "      <th>1A</th>\n",
              "      <th>1B</th>\n",
              "      <th>3</th>\n",
              "      <th>5</th>\n",
              "      <th>7</th>\n",
              "      <th>7A</th>\n",
              "    </tr>\n",
              "  </thead>\n",
              "  <tbody>\n",
              "    <tr>\n",
              "      <th>0</th>\n",
              "      <td>tsla</td>\n",
              "      <td>20211231</td>\n",
              "      <td>ITEM 1A.RISK FACTORS You should carefully con...</td>\n",
              "      <td>ITEM 1B.UNRESOLVED STAFF COMMENTS None.</td>\n",
              "      <td>ITEM 3.LEGAL PROCEEDINGS For a description of...</td>\n",
              "      <td>ITEM 5. MARKET FOR REGISTRANTS COMMO N EQUITY...</td>\n",
              "      <td>ITEM 7.MANAGEMENTS DISCUSSION AND ANALYSIS OF...</td>\n",
              "      <td>ITEM 7A.QUANTITATIVE AND QUALITATIVE DISCLOSU...</td>\n",
              "    </tr>\n",
              "    <tr>\n",
              "      <th>1</th>\n",
              "      <td>tsla</td>\n",
              "      <td>20201231</td>\n",
              "      <td>ITEM 1A. RISK FACTORSYou should carefully con...</td>\n",
              "      <td>ITEM 1B. UNRESOLVED STAFF COMMENTSNone.</td>\n",
              "      <td>ITEM 3. LEGA L PROCEEDINGS For a description ...</td>\n",
              "      <td>ITEM 5. MARKET FOR REGISTRANTS COMMON EQUITY,...</td>\n",
              "      <td>ITEM 7. MANAGEMENTS DISCUSSION AND ANALYSIS O...</td>\n",
              "      <td>ITEM 7A. QUANTITATIVE AND QUALITATIVE DISCLOS...</td>\n",
              "    </tr>\n",
              "    <tr>\n",
              "      <th>2</th>\n",
              "      <td>tsla</td>\n",
              "      <td>20191231</td>\n",
              "      <td>ITEM 1A. RISK FACTORSYou should carefully con...</td>\n",
              "      <td>ITEM 1B. UNRESOLVED STAFF COMMENTSNone.</td>\n",
              "      <td>ITEM 3. LEGAL PROCEEDINGSFor a description of...</td>\n",
              "      <td>I TEM 5. MARKET FOR REGISTRANTS COMMON EQUITY...</td>\n",
              "      <td>I TEM 7. MANAGEMENTS DISCUSSION AND ANALYSIS ...</td>\n",
              "      <td>ITEM 7A. QUANTITATIVE AND QUALITATIVE DISCLOS...</td>\n",
              "    </tr>\n",
              "    <tr>\n",
              "      <th>3</th>\n",
              "      <td>tsla</td>\n",
              "      <td>20171231</td>\n",
              "      <td>I TEM 1A. RISK FACTORS You should carefully c...</td>\n",
              "      <td>I TEM 1B. UNRESOLVED STAFF COMMENTSNone</td>\n",
              "      <td>I TEM 3. LEGAL PROCEEDINGSProceedings Related...</td>\n",
              "      <td>I TEM 5. MARKET FOR REGISTRANTS COMMON EQUITY...</td>\n",
              "      <td>I TEM 7. MANAGEMENTS DISCUSSION AND ANALYSIS ...</td>\n",
              "      <td>ITEM 7A. QUANTITATIVE AND QUALITATIVE DISCLOS...</td>\n",
              "    </tr>\n",
              "    <tr>\n",
              "      <th>4</th>\n",
              "      <td>tsla</td>\n",
              "      <td>20181231</td>\n",
              "      <td>ITEM 1A. RI SK FACTORS You should carefully c...</td>\n",
              "      <td>ITEM 1B. UNRESOLVED STAFF COMMENTSNone.</td>\n",
              "      <td>I TEM 3. LEGA L PROCEEDINGSFor a description ...</td>\n",
              "      <td>I TEM 5. MARKET FOR REGISTRANTS COMMON EQUITY...</td>\n",
              "      <td>I TEM 7. MANAGEMENTS DISCUSSION AND ANALYSIS ...</td>\n",
              "      <td>ITEM 7A. QUANTITATIVE AND QUALITAT IVE DISCLO...</td>\n",
              "    </tr>\n",
              "  </tbody>\n",
              "</table>\n",
              "</div>\n",
              "      <button class=\"colab-df-convert\" onclick=\"convertToInteractive('df-632634d6-fcee-4e6a-8c29-5080e3a26a2f')\"\n",
              "              title=\"Convert this dataframe to an interactive table.\"\n",
              "              style=\"display:none;\">\n",
              "        \n",
              "  <svg xmlns=\"http://www.w3.org/2000/svg\" height=\"24px\"viewBox=\"0 0 24 24\"\n",
              "       width=\"24px\">\n",
              "    <path d=\"M0 0h24v24H0V0z\" fill=\"none\"/>\n",
              "    <path d=\"M18.56 5.44l.94 2.06.94-2.06 2.06-.94-2.06-.94-.94-2.06-.94 2.06-2.06.94zm-11 1L8.5 8.5l.94-2.06 2.06-.94-2.06-.94L8.5 2.5l-.94 2.06-2.06.94zm10 10l.94 2.06.94-2.06 2.06-.94-2.06-.94-.94-2.06-.94 2.06-2.06.94z\"/><path d=\"M17.41 7.96l-1.37-1.37c-.4-.4-.92-.59-1.43-.59-.52 0-1.04.2-1.43.59L10.3 9.45l-7.72 7.72c-.78.78-.78 2.05 0 2.83L4 21.41c.39.39.9.59 1.41.59.51 0 1.02-.2 1.41-.59l7.78-7.78 2.81-2.81c.8-.78.8-2.07 0-2.86zM5.41 20L4 18.59l7.72-7.72 1.47 1.35L5.41 20z\"/>\n",
              "  </svg>\n",
              "      </button>\n",
              "      \n",
              "  <style>\n",
              "    .colab-df-container {\n",
              "      display:flex;\n",
              "      flex-wrap:wrap;\n",
              "      gap: 12px;\n",
              "    }\n",
              "\n",
              "    .colab-df-convert {\n",
              "      background-color: #E8F0FE;\n",
              "      border: none;\n",
              "      border-radius: 50%;\n",
              "      cursor: pointer;\n",
              "      display: none;\n",
              "      fill: #1967D2;\n",
              "      height: 32px;\n",
              "      padding: 0 0 0 0;\n",
              "      width: 32px;\n",
              "    }\n",
              "\n",
              "    .colab-df-convert:hover {\n",
              "      background-color: #E2EBFA;\n",
              "      box-shadow: 0px 1px 2px rgba(60, 64, 67, 0.3), 0px 1px 3px 1px rgba(60, 64, 67, 0.15);\n",
              "      fill: #174EA6;\n",
              "    }\n",
              "\n",
              "    [theme=dark] .colab-df-convert {\n",
              "      background-color: #3B4455;\n",
              "      fill: #D2E3FC;\n",
              "    }\n",
              "\n",
              "    [theme=dark] .colab-df-convert:hover {\n",
              "      background-color: #434B5C;\n",
              "      box-shadow: 0px 1px 3px 1px rgba(0, 0, 0, 0.15);\n",
              "      filter: drop-shadow(0px 1px 2px rgba(0, 0, 0, 0.3));\n",
              "      fill: #FFFFFF;\n",
              "    }\n",
              "  </style>\n",
              "\n",
              "      <script>\n",
              "        const buttonEl =\n",
              "          document.querySelector('#df-632634d6-fcee-4e6a-8c29-5080e3a26a2f button.colab-df-convert');\n",
              "        buttonEl.style.display =\n",
              "          google.colab.kernel.accessAllowed ? 'block' : 'none';\n",
              "\n",
              "        async function convertToInteractive(key) {\n",
              "          const element = document.querySelector('#df-632634d6-fcee-4e6a-8c29-5080e3a26a2f');\n",
              "          const dataTable =\n",
              "            await google.colab.kernel.invokeFunction('convertToInteractive',\n",
              "                                                     [key], {});\n",
              "          if (!dataTable) return;\n",
              "\n",
              "          const docLinkHtml = 'Like what you see? Visit the ' +\n",
              "            '<a target=\"_blank\" href=https://colab.research.google.com/notebooks/data_table.ipynb>data table notebook</a>'\n",
              "            + ' to learn more about interactive tables.';\n",
              "          element.innerHTML = '';\n",
              "          dataTable['output_type'] = 'display_data';\n",
              "          await google.colab.output.renderOutput(dataTable, element);\n",
              "          const docLink = document.createElement('div');\n",
              "          docLink.innerHTML = docLinkHtml;\n",
              "          element.appendChild(docLink);\n",
              "        }\n",
              "      </script>\n",
              "    </div>\n",
              "  </div>\n",
              "  "
            ]
          },
          "metadata": {},
          "execution_count": 119
        }
      ]
    },
    {
      "cell_type": "markdown",
      "source": [
        "**Note**\n",
        "\n",
        "Make neccessary changes in Company Name and Reporting_Date before making a csv."
      ],
      "metadata": {
        "id": "1MH-seeuKLvt"
      }
    },
    {
      "cell_type": "markdown",
      "source": [
        "#### 4. To csv"
      ],
      "metadata": {
        "id": "rnMjIWaYKlQp"
      }
    },
    {
      "cell_type": "code",
      "source": [
        "from google.colab import drive\n",
        "drive.mount('/content/drive')"
      ],
      "metadata": {
        "colab": {
          "base_uri": "https://localhost:8080/"
        },
        "id": "FBIyJc4asb8K",
        "outputId": "1fddcc80-854a-4ece-cb87-962e953f73e2"
      },
      "execution_count": null,
      "outputs": [
        {
          "output_type": "stream",
          "name": "stdout",
          "text": [
            "Drive already mounted at /content/drive; to attempt to forcibly remount, call drive.mount(\"/content/drive\", force_remount=True).\n"
          ]
        }
      ]
    },
    {
      "cell_type": "code",
      "source": [
        "# Creating a csv on G-Drive\n",
        "\n",
        "results.to_csv('/content/drive/MyDrive/Market Intelligence/tesla.csv')"
      ],
      "metadata": {
        "id": "UHmvNGXor6N0"
      },
      "execution_count": null,
      "outputs": []
    },
    {
      "cell_type": "markdown",
      "source": [
        "#### 5. Links"
      ],
      "metadata": {
        "id": "lypgtBMgB_ne"
      }
    },
    {
      "cell_type": "markdown",
      "source": [
        "Tesla\n",
        "\n",
        "    \"https://www.sec.gov/ix?doc=/Archives/edgar/data/0001318605/000095017022000796/tsla-20211231.htm\",\n",
        "    \"https://www.sec.gov/ix?doc=/Archives/edgar/data/0001318605/000156459021004599/tsla-10k_20201231.htm\",\n",
        "    \"https://www.sec.gov/ix?doc=/Archives/edgar/data/0001318605/000156459020004475/tsla-10k_20191231.htm\",\n",
        "    \"https://www.sec.gov/Archives/edgar/data/1318605/000156459018002956/tsla-10k_20171231.htm\",\n",
        "    \"https://www.sec.gov/Archives/edgar/data/1318605/000156459019003165/tsla-10k_20181231.htm\""
      ],
      "metadata": {
        "id": "zxGtJKTkIm8e"
      }
    },
    {
      "cell_type": "markdown",
      "source": [
        "Apple\n",
        "\n",
        "    \"https://www.sec.gov/Archives/edgar/data/320193/000032019321000105/aapl-20210925.htm\",\n",
        "    \"https://www.sec.gov/Archives/edgar/data/320193/000032019320000096/aapl-20200926.htm\",\n",
        "    \"https://www.sec.gov/Archives/edgar/data/320193/000032019319000119/a10-k20199282019.htm\",\n",
        "    \"https://www.sec.gov/Archives/edgar/data/320193/000032019318000145/a10-k20189292018.htm\",\n",
        "    \"https://www.sec.gov/Archives/edgar/data/320193/000032019317000070/a10-k20179302017.htm\",\n",
        "    \"https://www.sec.gov/Archives/edgar/data/320193/000162828016020309/a201610-k9242016.htm\",\n",
        "    \"https://www.sec.gov/Archives/edgar/data/320193/000119312515356351/d17062d10k.htm\",\n",
        "    \"https://www.sec.gov/Archives/edgar/data/320193/000119312514383437/d783162d10k.htm\",\n",
        "    \"https://www.sec.gov/Archives/edgar/data/320193/000119312513416534/d590790d10k.htm\",\n",
        "    \"https://www.sec.gov/Archives/edgar/data/320193/000119312512444068/d411355d10k.htm\""
      ],
      "metadata": {
        "id": "Cg-MAyZsCB3Q"
      }
    }
  ]
}