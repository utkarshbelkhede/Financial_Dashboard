{
  "cells": [
    {
      "cell_type": "markdown",
      "metadata": {
        "id": "view-in-github",
        "colab_type": "text"
      },
      "source": [
        "<a href=\"https://colab.research.google.com/github/utkarshbelkhede/Financial_Dashboard/blob/master/notebooks/5_Text_Classification_SEC.ipynb\" target=\"_parent\"><img src=\"https://colab.research.google.com/assets/colab-badge.svg\" alt=\"Open In Colab\"/></a>"
      ]
    },
    {
      "cell_type": "code",
      "source": [
        "from google.colab import drive\n",
        "drive.mount('/content/drive')"
      ],
      "metadata": {
        "colab": {
          "base_uri": "https://localhost:8080/"
        },
        "id": "ppUEeW7UnnyZ",
        "outputId": "a8d72655-7d07-45e5-ae5f-16375bda3217"
      },
      "execution_count": null,
      "outputs": [
        {
          "output_type": "stream",
          "name": "stdout",
          "text": [
            "Mounted at /content/drive\n"
          ]
        }
      ]
    },
    {
      "cell_type": "code",
      "source": [
        "# Working Directory\n",
        "import os\n",
        "\n",
        "os.chdir('/content/drive/MyDrive/Documents/Market Intelligence')"
      ],
      "metadata": {
        "id": "KHUlPmUpnpa0"
      },
      "execution_count": null,
      "outputs": []
    },
    {
      "cell_type": "code",
      "execution_count": null,
      "metadata": {
        "id": "MOsHUjgdIrIW",
        "colab": {
          "base_uri": "https://localhost:8080/"
        },
        "outputId": "22b31120-975b-40cb-912d-e2583135634b"
      },
      "outputs": [
        {
          "output_type": "stream",
          "name": "stdout",
          "text": [
            "Looking in indexes: https://pypi.org/simple, https://us-python.pkg.dev/colab-wheels/public/simple/\n",
            "Collecting datasets\n",
            "  Downloading datasets-2.7.1-py3-none-any.whl (451 kB)\n",
            "\u001b[K     |████████████████████████████████| 451 kB 41.8 MB/s \n",
            "\u001b[?25hCollecting transformers\n",
            "  Downloading transformers-4.24.0-py3-none-any.whl (5.5 MB)\n",
            "\u001b[K     |████████████████████████████████| 5.5 MB 52.9 MB/s \n",
            "\u001b[?25hCollecting xxhash\n",
            "  Downloading xxhash-3.1.0-cp37-cp37m-manylinux_2_17_x86_64.manylinux2014_x86_64.whl (212 kB)\n",
            "\u001b[K     |████████████████████████████████| 212 kB 71.7 MB/s \n",
            "\u001b[?25hRequirement already satisfied: pyarrow>=6.0.0 in /usr/local/lib/python3.7/dist-packages (from datasets) (9.0.0)\n",
            "Requirement already satisfied: pandas in /usr/local/lib/python3.7/dist-packages (from datasets) (1.3.5)\n",
            "Requirement already satisfied: tqdm>=4.62.1 in /usr/local/lib/python3.7/dist-packages (from datasets) (4.64.1)\n",
            "Requirement already satisfied: packaging in /usr/local/lib/python3.7/dist-packages (from datasets) (21.3)\n",
            "Requirement already satisfied: pyyaml>=5.1 in /usr/local/lib/python3.7/dist-packages (from datasets) (6.0)\n",
            "Requirement already satisfied: numpy>=1.17 in /usr/local/lib/python3.7/dist-packages (from datasets) (1.21.6)\n",
            "Collecting huggingface-hub<1.0.0,>=0.2.0\n",
            "  Downloading huggingface_hub-0.11.0-py3-none-any.whl (182 kB)\n",
            "\u001b[K     |████████████████████████████████| 182 kB 72.1 MB/s \n",
            "\u001b[?25hRequirement already satisfied: dill<0.3.7 in /usr/local/lib/python3.7/dist-packages (from datasets) (0.3.6)\n",
            "Collecting multiprocess\n",
            "  Downloading multiprocess-0.70.14-py37-none-any.whl (115 kB)\n",
            "\u001b[K     |████████████████████████████████| 115 kB 73.5 MB/s \n",
            "\u001b[?25hCollecting responses<0.19\n",
            "  Downloading responses-0.18.0-py3-none-any.whl (38 kB)\n",
            "Requirement already satisfied: fsspec[http]>=2021.11.1 in /usr/local/lib/python3.7/dist-packages (from datasets) (2022.11.0)\n",
            "Requirement already satisfied: requests>=2.19.0 in /usr/local/lib/python3.7/dist-packages (from datasets) (2.23.0)\n",
            "Requirement already satisfied: aiohttp in /usr/local/lib/python3.7/dist-packages (from datasets) (3.8.3)\n",
            "Requirement already satisfied: importlib-metadata in /usr/local/lib/python3.7/dist-packages (from datasets) (4.13.0)\n",
            "Requirement already satisfied: async-timeout<5.0,>=4.0.0a3 in /usr/local/lib/python3.7/dist-packages (from aiohttp->datasets) (4.0.2)\n",
            "Requirement already satisfied: typing-extensions>=3.7.4 in /usr/local/lib/python3.7/dist-packages (from aiohttp->datasets) (4.1.1)\n",
            "Requirement already satisfied: attrs>=17.3.0 in /usr/local/lib/python3.7/dist-packages (from aiohttp->datasets) (22.1.0)\n",
            "Requirement already satisfied: frozenlist>=1.1.1 in /usr/local/lib/python3.7/dist-packages (from aiohttp->datasets) (1.3.3)\n",
            "Requirement already satisfied: yarl<2.0,>=1.0 in /usr/local/lib/python3.7/dist-packages (from aiohttp->datasets) (1.8.1)\n",
            "Requirement already satisfied: asynctest==0.13.0 in /usr/local/lib/python3.7/dist-packages (from aiohttp->datasets) (0.13.0)\n",
            "Requirement already satisfied: charset-normalizer<3.0,>=2.0 in /usr/local/lib/python3.7/dist-packages (from aiohttp->datasets) (2.1.1)\n",
            "Requirement already satisfied: multidict<7.0,>=4.5 in /usr/local/lib/python3.7/dist-packages (from aiohttp->datasets) (6.0.2)\n",
            "Requirement already satisfied: aiosignal>=1.1.2 in /usr/local/lib/python3.7/dist-packages (from aiohttp->datasets) (1.3.1)\n",
            "Requirement already satisfied: filelock in /usr/local/lib/python3.7/dist-packages (from huggingface-hub<1.0.0,>=0.2.0->datasets) (3.8.0)\n",
            "Requirement already satisfied: pyparsing!=3.0.5,>=2.0.2 in /usr/local/lib/python3.7/dist-packages (from packaging->datasets) (3.0.9)\n",
            "Requirement already satisfied: idna<3,>=2.5 in /usr/local/lib/python3.7/dist-packages (from requests>=2.19.0->datasets) (2.10)\n",
            "Requirement already satisfied: certifi>=2017.4.17 in /usr/local/lib/python3.7/dist-packages (from requests>=2.19.0->datasets) (2022.9.24)\n",
            "Requirement already satisfied: urllib3!=1.25.0,!=1.25.1,<1.26,>=1.21.1 in /usr/local/lib/python3.7/dist-packages (from requests>=2.19.0->datasets) (1.24.3)\n",
            "Requirement already satisfied: chardet<4,>=3.0.2 in /usr/local/lib/python3.7/dist-packages (from requests>=2.19.0->datasets) (3.0.4)\n",
            "Collecting urllib3!=1.25.0,!=1.25.1,<1.26,>=1.21.1\n",
            "  Downloading urllib3-1.25.11-py2.py3-none-any.whl (127 kB)\n",
            "\u001b[K     |████████████████████████████████| 127 kB 69.1 MB/s \n",
            "\u001b[?25hCollecting tokenizers!=0.11.3,<0.14,>=0.11.1\n",
            "  Downloading tokenizers-0.13.2-cp37-cp37m-manylinux_2_17_x86_64.manylinux2014_x86_64.whl (7.6 MB)\n",
            "\u001b[K     |████████████████████████████████| 7.6 MB 56.4 MB/s \n",
            "\u001b[?25hRequirement already satisfied: regex!=2019.12.17 in /usr/local/lib/python3.7/dist-packages (from transformers) (2022.6.2)\n",
            "Requirement already satisfied: zipp>=0.5 in /usr/local/lib/python3.7/dist-packages (from importlib-metadata->datasets) (3.10.0)\n",
            "Requirement already satisfied: pytz>=2017.3 in /usr/local/lib/python3.7/dist-packages (from pandas->datasets) (2022.6)\n",
            "Requirement already satisfied: python-dateutil>=2.7.3 in /usr/local/lib/python3.7/dist-packages (from pandas->datasets) (2.8.2)\n",
            "Requirement already satisfied: six>=1.5 in /usr/local/lib/python3.7/dist-packages (from python-dateutil>=2.7.3->pandas->datasets) (1.15.0)\n",
            "Installing collected packages: urllib3, xxhash, tokenizers, responses, multiprocess, huggingface-hub, transformers, datasets\n",
            "  Attempting uninstall: urllib3\n",
            "    Found existing installation: urllib3 1.24.3\n",
            "    Uninstalling urllib3-1.24.3:\n",
            "      Successfully uninstalled urllib3-1.24.3\n",
            "Successfully installed datasets-2.7.1 huggingface-hub-0.11.0 multiprocess-0.70.14 responses-0.18.0 tokenizers-0.13.2 transformers-4.24.0 urllib3-1.25.11 xxhash-3.1.0\n"
          ]
        }
      ],
      "source": [
        "pip install datasets transformers"
      ]
    },
    {
      "cell_type": "code",
      "execution_count": null,
      "metadata": {
        "id": "riuHXpJG-Bko",
        "colab": {
          "base_uri": "https://localhost:8080/",
          "height": 414,
          "referenced_widgets": [
            "7c36cd539c7b4309b027a20724e5e16b",
            "4080605fd7614a08a3d35ecb066bde90",
            "303c9660479b42f69e50b6bd5429a7cd",
            "3c6dddc07c8c46b19a3ddd557162f2b8",
            "9ee24c0c96bd487e86420b574e0daba4",
            "e1a8f3d73e1848378ee36e9d372ff785",
            "ef200672e3a54df397ee2576a6a6bebc",
            "a1921fc036b9498fa0016c521af98945",
            "34ee38de2c5e4d5a9016c7423cde64e6",
            "be99433e66ab4ed6bb75e19df2e8a16b",
            "2dba21d1c4ac413a8899f42f703f0e9d",
            "ead48a7db0cf4da08883171214b97740",
            "90add355049d478fa45e81eee3d5cf55",
            "2eef880631cf4562a11e0d3de8dbf7dc",
            "903bb98e16444b00b08117a06bd7ac8e",
            "1d73a6bd5a7a4bb7908634aede368d9e",
            "98d7b9d4088b4321ae38c1db3b4f6720"
          ]
        },
        "outputId": "92ca5f38-86ed-46f8-c1af-1abf74fb696b"
      },
      "outputs": [
        {
          "output_type": "stream",
          "name": "stdout",
          "text": [
            "Token is valid.\n",
            "Your token has been saved in your configured git credential helpers (store).\n",
            "Your token has been saved to /root/.huggingface/token\n",
            "Login successful\n"
          ]
        }
      ],
      "source": [
        "from huggingface_hub import notebook_login\n",
        "\n",
        "notebook_login()"
      ]
    },
    {
      "cell_type": "code",
      "execution_count": null,
      "metadata": {
        "id": "aDOzLxqO-Bkp",
        "colab": {
          "base_uri": "https://localhost:8080/"
        },
        "outputId": "15d9d22a-aed4-45d4-df4c-01b0e9d345d1"
      },
      "outputs": [
        {
          "output_type": "stream",
          "name": "stdout",
          "text": [
            "Reading package lists... Done\n",
            "Building dependency tree       \n",
            "Reading state information... Done\n",
            "git-lfs is already the newest version (2.3.4-1).\n",
            "The following package was automatically installed and is no longer required:\n",
            "  libnvidia-common-460\n",
            "Use 'apt autoremove' to remove it.\n",
            "0 upgraded, 0 newly installed, 0 to remove and 5 not upgraded.\n"
          ]
        }
      ],
      "source": [
        "!apt install git-lfs"
      ]
    },
    {
      "cell_type": "code",
      "execution_count": null,
      "metadata": {
        "id": "gMuG-eZ3-Bkq",
        "colab": {
          "base_uri": "https://localhost:8080/"
        },
        "outputId": "23fecce1-5fb8-420e-d081-ce3f312002af"
      },
      "outputs": [
        {
          "output_type": "stream",
          "name": "stdout",
          "text": [
            "4.24.0\n"
          ]
        }
      ],
      "source": [
        "import transformers\n",
        "\n",
        "print(transformers.__version__)"
      ]
    },
    {
      "cell_type": "markdown",
      "metadata": {
        "id": "rEJBSTyZIrIb"
      },
      "source": [
        "# Fine-tuning a model on a text classification task"
      ]
    },
    {
      "cell_type": "markdown",
      "metadata": {
        "id": "kTCFado4IrIc"
      },
      "source": [
        "In this notebook, we will see how to fine-tune one of the [🤗 Transformers](https://github.com/huggingface/transformers) model to a text classification task of the [GLUE Benchmark](https://gluebenchmark.com/).\n",
        "\n",
        "![Widget inference on a text classification task](https://github.com/huggingface/notebooks/blob/main/examples/images/text_classification.png?raw=1)\n",
        "\n",
        "The GLUE Benchmark is a group of nine classification tasks on sentences or pairs of sentences which are:\n",
        "\n",
        "- [CoLA](https://nyu-mll.github.io/CoLA/) (Corpus of Linguistic Acceptability) Determine if a sentence is grammatically correct or not.is a  dataset containing sentences labeled grammatically correct or not.\n",
        "- [MNLI](https://arxiv.org/abs/1704.05426) (Multi-Genre Natural Language Inference) Determine if a sentence entails, contradicts or is unrelated to a given hypothesis. (This dataset has two versions, one with the validation and test set coming from the same distribution, another called mismatched where the validation and test use out-of-domain data.)\n",
        "- [MRPC](https://www.microsoft.com/en-us/download/details.aspx?id=52398) (Microsoft Research Paraphrase Corpus) Determine if two sentences are paraphrases from one another or not.\n",
        "- [QNLI](https://rajpurkar.github.io/SQuAD-explorer/) (Question-answering Natural Language Inference) Determine if the answer to a question is in the second sentence or not. (This dataset is built from the SQuAD dataset.)\n",
        "- [QQP](https://data.quora.com/First-Quora-Dataset-Release-Question-Pairs) (Quora Question Pairs2) Determine if two questions are semantically equivalent or not.\n",
        "- [RTE](https://aclweb.org/aclwiki/Recognizing_Textual_Entailment) (Recognizing Textual Entailment) Determine if a sentence entails a given hypothesis or not.\n",
        "- [SST-2](https://nlp.stanford.edu/sentiment/index.html) (Stanford Sentiment Treebank) Determine if the sentence has a positive or negative sentiment.\n",
        "- [STS-B](http://ixa2.si.ehu.es/stswiki/index.php/STSbenchmark) (Semantic Textual Similarity Benchmark) Determine the similarity of two sentences with a score from 1 to 5.\n",
        "- [WNLI](https://cs.nyu.edu/faculty/davise/papers/WinogradSchemas/WS.html) (Winograd Natural Language Inference) Determine if a sentence with an anonymous pronoun and a sentence with this pronoun replaced are entailed or not. (This dataset is built from the Winograd Schema Challenge dataset.)\n",
        "\n",
        "We will see how to easily load the dataset for each one of those tasks and use the `Trainer` API to fine-tune a model on it. Each task is named by its acronym, with `mnli-mm` standing for the mismatched version of MNLI (so same training set as `mnli` but different validation and test sets):"
      ]
    },
    {
      "cell_type": "code",
      "execution_count": null,
      "metadata": {
        "id": "YZbiBDuGIrId"
      },
      "outputs": [],
      "source": [
        "GLUE_TASKS = [\"cola\", \"mnli\", \"mnli-mm\", \"mrpc\", \"qnli\", \"qqp\", \"rte\", \"sst2\", \"stsb\", \"wnli\"]"
      ]
    },
    {
      "cell_type": "markdown",
      "metadata": {
        "id": "4RRkXuteIrIh"
      },
      "source": [
        "This notebook is built to run on any of the tasks in the list above, with any model checkpoint from the [Model Hub](https://huggingface.co/models) as long as that model has a version with a classification head. Depending on you model and the GPU you are using, you might need to adjust the batch size to avoid out-of-memory errors. Set those three parameters, then the rest of the notebook should run smoothly:"
      ]
    },
    {
      "cell_type": "code",
      "execution_count": null,
      "metadata": {
        "id": "zVvslsfMIrIh"
      },
      "outputs": [],
      "source": [
        "task = \"cola\"\n",
        "model_checkpoint = \"distilbert-base-uncased\"\n",
        "batch_size = 16"
      ]
    },
    {
      "cell_type": "markdown",
      "metadata": {
        "id": "whPRbBNbIrIl"
      },
      "source": [
        "## Loading the dataset"
      ]
    },
    {
      "cell_type": "markdown",
      "metadata": {
        "id": "W7QYTpxXIrIl"
      },
      "source": [
        "We will use the [🤗 Datasets](https://github.com/huggingface/datasets) library to download the data and get the metric we need to use for evaluation (to compare our model to the benchmark). This can be easily done with the functions `load_dataset` and `load_metric`.  "
      ]
    },
    {
      "cell_type": "code",
      "execution_count": null,
      "metadata": {
        "id": "IreSlFmlIrIm"
      },
      "outputs": [],
      "source": [
        "from datasets import load_dataset, load_metric"
      ]
    },
    {
      "cell_type": "markdown",
      "metadata": {
        "id": "CKx2zKs5IrIq"
      },
      "source": [
        "Apart from `mnli-mm` being a special code, we can directly pass our task name to those functions. `load_dataset` will cache the dataset to avoid downloading it again the next time you run this cell."
      ]
    },
    {
      "cell_type": "code",
      "source": [
        "import pandas as pd\n",
        "import numpy as np\n",
        "from datasets import Dataset"
      ],
      "metadata": {
        "id": "nDb65Dy4pJXu"
      },
      "execution_count": null,
      "outputs": []
    },
    {
      "cell_type": "code",
      "source": [
        "actual_task = \"mnli\" if task == \"mnli-mm\" else task"
      ],
      "metadata": {
        "id": "13lm3w8qp6bc"
      },
      "execution_count": null,
      "outputs": []
    },
    {
      "cell_type": "code",
      "source": [
        "df = pd.read_csv('./datasets/final_labeled_sentement_analysis.csv')\n",
        "df = df.dropna()\n",
        "\n",
        "dataset = Dataset.from_pandas(df)\n",
        "dataset"
      ],
      "metadata": {
        "colab": {
          "base_uri": "https://localhost:8080/"
        },
        "id": "h_0eKIfipNfm",
        "outputId": "c3f022da-95ff-4cee-de19-c313e351677e"
      },
      "execution_count": null,
      "outputs": [
        {
          "output_type": "execute_result",
          "data": {
            "text/plain": [
              "Dataset({\n",
              "    features: ['sentence', 'label', '__index_level_0__'],\n",
              "    num_rows: 441\n",
              "})"
            ]
          },
          "metadata": {},
          "execution_count": 18
        }
      ]
    },
    {
      "cell_type": "code",
      "source": [
        "dataset = dataset.train_test_split(train_size=0.8)\n",
        "dataset"
      ],
      "metadata": {
        "colab": {
          "base_uri": "https://localhost:8080/"
        },
        "id": "rJW8Dz8qphOx",
        "outputId": "4e325947-fce3-4f17-e28d-94e5689e8936"
      },
      "execution_count": null,
      "outputs": [
        {
          "output_type": "execute_result",
          "data": {
            "text/plain": [
              "DatasetDict({\n",
              "    train: Dataset({\n",
              "        features: ['sentence', 'label', '__index_level_0__'],\n",
              "        num_rows: 352\n",
              "    })\n",
              "    test: Dataset({\n",
              "        features: ['sentence', 'label', '__index_level_0__'],\n",
              "        num_rows: 89\n",
              "    })\n",
              "})"
            ]
          },
          "metadata": {},
          "execution_count": 19
        }
      ]
    },
    {
      "cell_type": "code",
      "execution_count": null,
      "metadata": {
        "colab": {
          "base_uri": "https://localhost:8080/",
          "height": 104,
          "referenced_widgets": [
            "cfd7be4c0fbd4bbb815c50ac218db96f",
            "7a8dc281d42547159950eefa6a6e8a92",
            "96b936249da34660a061df8d6f2494ab",
            "b1ab38f544df4b9bb6663ac74b3301a2",
            "a3a1497b5a2344acb7280ee895757b1e",
            "8d754cc3020b4f5ebc74240bd9ce3e11",
            "9eef3113bd564db4aed782358886b355",
            "3a9ac515e6744a178dd6c66d3b6892cd",
            "9eac356f17914163863f39741c12ccfc",
            "9c5e125cdafa4d31aca3cb9267330490",
            "df66faff09294c2aaa949ff375d5c8dc"
          ]
        },
        "id": "s_AY1ATSIrIq",
        "outputId": "e2696c4e-faca-4823-9d67-feef7bbbf7fb"
      },
      "outputs": [
        {
          "output_type": "stream",
          "name": "stderr",
          "text": [
            "/usr/local/lib/python3.7/dist-packages/ipykernel_launcher.py:1: FutureWarning: load_metric is deprecated and will be removed in the next major version of datasets. Use 'evaluate.load' instead, from the new library 🤗 Evaluate: https://huggingface.co/docs/evaluate\n",
            "  \"\"\"Entry point for launching an IPython kernel.\n"
          ]
        },
        {
          "output_type": "display_data",
          "data": {
            "text/plain": [
              "Downloading builder script:   0%|          | 0.00/1.84k [00:00<?, ?B/s]"
            ],
            "application/vnd.jupyter.widget-view+json": {
              "version_major": 2,
              "version_minor": 0,
              "model_id": "cfd7be4c0fbd4bbb815c50ac218db96f"
            }
          },
          "metadata": {}
        }
      ],
      "source": [
        "metric = load_metric('glue', actual_task)"
      ]
    },
    {
      "cell_type": "markdown",
      "metadata": {
        "id": "RzfPtOMoIrIu"
      },
      "source": [
        "The `dataset` object itself is [`DatasetDict`](https://huggingface.co/docs/datasets/package_reference/main_classes.html#datasetdict), which contains one key for the training, validation and test set (with more keys for the mismatched validation and test set in the special case of `mnli`)."
      ]
    },
    {
      "cell_type": "code",
      "execution_count": null,
      "metadata": {
        "id": "GWiVUF0jIrIv",
        "outputId": "d22a80a9-e1e0-4955-a142-38c0ca656ebf",
        "colab": {
          "base_uri": "https://localhost:8080/"
        }
      },
      "outputs": [
        {
          "output_type": "execute_result",
          "data": {
            "text/plain": [
              "DatasetDict({\n",
              "    train: Dataset({\n",
              "        features: ['sentence', 'label', '__index_level_0__'],\n",
              "        num_rows: 352\n",
              "    })\n",
              "    test: Dataset({\n",
              "        features: ['sentence', 'label', '__index_level_0__'],\n",
              "        num_rows: 89\n",
              "    })\n",
              "})"
            ]
          },
          "metadata": {},
          "execution_count": 21
        }
      ],
      "source": [
        "dataset"
      ]
    },
    {
      "cell_type": "markdown",
      "metadata": {
        "id": "u3EtYfeHIrIz"
      },
      "source": [
        "To access an actual element, you need to select a split first, then give an index:"
      ]
    },
    {
      "cell_type": "code",
      "execution_count": null,
      "metadata": {
        "id": "X6HrpprwIrIz",
        "outputId": "e4e47be1-11e4-4295-9bf5-88a97cab0865",
        "colab": {
          "base_uri": "https://localhost:8080/"
        }
      },
      "outputs": [
        {
          "output_type": "execute_result",
          "data": {
            "text/plain": [
              "{'sentence': ' ITEM 1B. UNRESOLVED STAFF COMMENTS  None. ',\n",
              " 'label': 'NEGATIVE',\n",
              " '__index_level_0__': 382}"
            ]
          },
          "metadata": {},
          "execution_count": 22
        }
      ],
      "source": [
        "dataset[\"train\"][0]"
      ]
    },
    {
      "cell_type": "markdown",
      "metadata": {
        "id": "WHUmphG3IrI3"
      },
      "source": [
        "To get a sense of what the data looks like, the following function will show some examples picked randomly in the dataset."
      ]
    },
    {
      "cell_type": "code",
      "execution_count": null,
      "metadata": {
        "id": "i3j8APAoIrI3"
      },
      "outputs": [],
      "source": [
        "import datasets\n",
        "import random\n",
        "import pandas as pd\n",
        "from IPython.display import display, HTML\n",
        "\n",
        "def show_random_elements(dataset, num_examples=10):\n",
        "    assert num_examples <= len(dataset), \"Can't pick more elements than there are in the dataset.\"\n",
        "    picks = []\n",
        "    for _ in range(num_examples):\n",
        "        pick = random.randint(0, len(dataset)-1)\n",
        "        while pick in picks:\n",
        "            pick = random.randint(0, len(dataset)-1)\n",
        "        picks.append(pick)\n",
        "    \n",
        "    df = pd.DataFrame(dataset[picks])\n",
        "    for column, typ in dataset.features.items():\n",
        "        if isinstance(typ, datasets.ClassLabel):\n",
        "            df[column] = df[column].transform(lambda i: typ.names[i])\n",
        "    display(HTML(df.to_html()))"
      ]
    },
    {
      "cell_type": "code",
      "execution_count": null,
      "metadata": {
        "id": "SZy5tRB_IrI7",
        "outputId": "17d9a083-053f-4bb8-d1bc-40b97bbc9cac",
        "colab": {
          "base_uri": "https://localhost:8080/",
          "height": 1000
        }
      },
      "outputs": [
        {
          "output_type": "display_data",
          "data": {
            "text/plain": [
              "<IPython.core.display.HTML object>"
            ],
            "text/html": [
              "<table border=\"1\" class=\"dataframe\">\n",
              "  <thead>\n",
              "    <tr style=\"text-align: right;\">\n",
              "      <th></th>\n",
              "      <th>sentence</th>\n",
              "      <th>label</th>\n",
              "      <th>__index_level_0__</th>\n",
              "    </tr>\n",
              "  </thead>\n",
              "  <tbody>\n",
              "    <tr>\n",
              "      <th>0</th>\n",
              "      <td>Item 3Legal Proceedings See discussion of Legal Proceedings in Note 10 to the consolidated financial statements included in Item 8 of this Report.</td>\n",
              "      <td>NEGATIVE</td>\n",
              "      <td>224</td>\n",
              "    </tr>\n",
              "    <tr>\n",
              "      <th>1</th>\n",
              "      <td>ITEM 7A. QUANTITATIVE AND QUALITATIVE DISCLOSURES ABOUT MARKET RISK  The company is exposed to risk that its earnings, cash flows and equity could be adversely impacted by changes in foreign exchange rates and interest rates. Certain derivative instruments are used when available on a cost-effective basis to hedge the company's underlying economic exposures. See Note 10 to the Consolidated Financial Statements for additional information regarding the company's financial instruments and hedging strategies. Foreign Currency Risk AbbVie's primary net foreign currency exposures are the Euro, Japanese yen and British pound. The following table reflects the total foreign currency forward exchange contracts outstanding at December 31, 2018 and 2017 :   (in millions) Contract amount  Weighted average exchange rate  Fair and carrying value receivable/(payable)  Contract amount  Weighted average exchange rate  Fair and carrying value receivable/(payable) Receive primarily U.S. dollars in exchange for the following currencies:            Euro $ 6,660  1.157  $  $ 6,366  1.175  $ (88 ) Japanese yen 1,076  111.5  (12 )   112.4  British pound  1.328    1.310  (22 ) All other currencies 1,776  n/a   1,877  n/a  (18 ) Total $ 10,011    $  $ 9,943    $ (126 ) The company estimates that a 10% appreciation in the underlying currencies being hedged from their levels against the U.S. dollar, with all other variables held constant, would decrease the fair value of foreign exchange forward contracts by $1.0 billion at December 31, 2018 . If realized, this appreciation would negatively affect earnings over the remaining life of the contracts. However, gains and losses on the hedging instruments offset losses and gains on the hedged transactions and reduce the earnings and stockholders' equity volatility relating to foreign exchange. A 10% appreciation is believed to be a reasonably possible near-term change in foreign currencies. In November 2016, the company issued 3.6 billion aggregate principal amount of unsecured senior Euro notes, which are exposed to foreign currency risk. The company has designated these foreign currency denominated notes as hedges of its net investments in certain foreign subsidiaries and affiliates. As a result, any foreign currency translation gains or losses related to the Euro notes will be included in accumulated other comprehensive income. See Note 9 to the Consolidated Financial Statements for additional information related to the senior Euro note issuance and Note 10 to the Consolidated Financial Statements for additional information related to the net investment hedging program. Interest Rate Risk The company estimates that an increase in interest rates of 100 basis points would adversely impact the fair value of AbbVie's interest rate swap contracts by approximately $403 million at December 31, 2018 . If realized, the fair value reduction would affect earnings over the remaining life of the contracts. The company estimates that an increase of 100 basis points in long-term interest rates would decrease the fair value of long-term debt by $2.4 billion at December 31, 2018 . A 100 basis point change is believed to be a reasonably possible near-term change in interest rates. Market Price Risk AbbVies debt securities investment portfolio (the portfolio) is its main exposure to market price risk. The portfolio is subject to changes in fair value as a result of interest rate fluctuations and other market factors. It is AbbVies policy to mitigate market price risk by maintaining a diversified portfolio that limits the amount of exposure to a particular issuer and security type while placing limits on the amount of time to maturity. AbbVies investment policy limits investments to investment grade credit ratings. The company estimates that an increase in interest rates of 100 basis points would decrease the fair value of the portfolio by approximately $16 million as of December 31, 2018 . If the portfolio were to be liquidated, the fair value reduction would affect the statement of earnings in the period sold.   2018 Form 10-K  |   41</td>\n",
              "      <td>NEGATIVE</td>\n",
              "      <td>377</td>\n",
              "    </tr>\n",
              "    <tr>\n",
              "      <th>2</th>\n",
              "      <td>ITEM 3. LEGAL PROCEEDINGS While not material to the Company, the Company was required to make annual reports of the general activities of the Companys Antitrust Compliance Office as required by the Final Order and Judgment in Barovic v. Ballmer et al, United States District Court for the Western District of Washington (Final Order). For more information see http://aka.ms/MSLegalNotice2015 . The Final Order expired in April of 2021. During fiscal year 2021, the Antitrust Compliance Office (a) monitored the Companys compliance with the European Commission Decision of March 24, 2004, (2004 Decision) and with the Companys Public Undertaking to the European Commission dated December 16, 2009 (2009 Undertaking) (b) monitored, in the manner required by the Final Order, employee, customer, competitor, regulator, or other third-party complaints regarding compliance with the 2004 Decision, the 2009 Undertaking, or other EU or U.S. laws or regulations governing tying, bundling, and exclusive dealing contracts and, (c) monitored, in the manner required by the Final Order, the training of the Companys employees regarding the Companys antitrust compliance polices. In addition, prior to expiration of the Final Order, the Antitrust Compliance Officer reported to the Regulatory and Public Policy Committee of the Board at each of its regularly scheduled meetings.Refer to Note 15  Contingencies of the Notes to Financial Statements (Part II, Item 8 of this Form 10-K) for information regarding legal proceedings in which we are involved.</td>\n",
              "      <td>NEGATIVE</td>\n",
              "      <td>154</td>\n",
              "    </tr>\n",
              "    <tr>\n",
              "      <th>3</th>\n",
              "      <td>ITEM 2. PROPERTIES Our worldwide headquarters is located on a 35-acre office complex in Atlanta, Georgia. The complex includes our 621,000 square foot headquarters building and an 870,000 square foot building in which our North America group's main offices are located. The complex also includes several other buildings, including our 264,000 square foot Coca-Cola Plaza building, technical and engineering facilities and a reception center. We also own an office and retail building at 711 Fifth Avenue in New York, New York. These properties, except for the North America group's main offices, are included in the Corporate operating segment. The North America group's main offices are included in the North America operating segment. We own or lease additional facilities, real estate and office space throughout the world which we use for administrative, manufacturing, processing, packaging, storage, warehousing, distribution and retail operations. These properties are generally included in the geographic operating segment in which they are located. The following table summarizes our principal production, distribution and storage facilities by operating segment as of December 31, 2017 :  Principal Concentrate and/or Syrup Plants  Principal Beverage Manufacturing/Bottling Plants  Distribution and Storage Warehouses  Owned  Leased  Owned  Leased  Owned  Leased Europe, Middle East  Africa          Latin America         North America        Asia Pacific          Bottling Investments        Corporate          Total 1       1 Does not include 34 owned and 1 leased principal beverage manufacturing/bottling plants and 28 owned and 17 leased distribution and storage warehouses related to our discontinued operations. Management believes that our Company's facilities for the production of our products are suitable and adequate, that they are being appropriately utilized in line with past experience, and that they have sufficient production capacity for their present intended purposes. The extent of utilization of such facilities varies based upon seasonal demand for our products. However, management believes that additional production can be achieved at the existing facilities by adding personnel and capital equipment and, at some facilities, by adding shifts of personnel or expanding the facilities. We continuously review our anticipated requirements for facilities and, on the basis of that review, may from time to time acquire or lease additional facilities and/or dispose of existing facilities.</td>\n",
              "      <td>NEGATIVE</td>\n",
              "      <td>433</td>\n",
              "    </tr>\n",
              "    <tr>\n",
              "      <th>4</th>\n",
              "      <td>ITEM 7. MANAGEMENTS DISCUSSION AND ANALYSIS OF FINANCIAL CONDITION AND RESULTS OF OPERATIONSThe following Managements Discussion and Analysis of Financial Condition and Results of Operations (MDA) is intended to help the reader understand the results of operations and financial condition of Microsoft Corporation. MDA is provided as a supplement to, and should be read in conjunction with, our consolidated financial statements and the accompanying Notes to Financial Statements (Part II, Item 8 of this Form 10-K). This section generally discusses the results of our operations for the year ended June 30, 2022 compared to the year ended June 30, 2021. For a discussion of the year ended June 30, 2021 compared to the year ended June 30, 2020, please refer to Part II, Item 7, Managements Discussion and Analysis of Financial Condition and Results of Operations in our Annual Report on Form 10-K for the year ended June 30, 2021.OVERVIEW Microsoft is a technology company whose mission is to empower every person and every organization on the planet to achieve more. We strive to create local opportunity, growth, and impact in every country around the world. Our platforms and tools help drive small business productivity, large business competitiveness, and public-sector efficiency. They also support new startups, improve educational and health outcomes, and empower human ingenuity. We generate revenue by offering a wide range of cloud-based and other services to people and businesses licensing and supporting an array of software products designing, manufacturing, and selling devices and delivering relevant online advertising to a global audience. Our most significant expenses are related to compensating employees designing, manufacturing, marketing, and selling our products and services datacenter costs in support of our cloud-based services and income taxes.Highlights from fiscal year 2022 compared with fiscal year 2021 included: Microsoft Cloud (formerly commercial cloud) revenue increased 32% to $91.2 billion. Office Commercial products and cloud services revenue increased 13% driven by Office 365 Commercial growth of 18%. Office Consumer products and cloud services revenue increased 11% and Microsoft 365 Consumer subscribers grew to 59.7 million. LinkedIn revenue increased 34%. Dynamics products and cloud services revenue increased 25% driven by Dynamics 365 growth of 39%. Server products and cloud services revenue increased 28% driven by Azure and other cloud services growth of 45%. Windows original equipment manufacturer licensing (Windows OEM) revenue increased 11%. Windows Commercial products and cloud services revenue increased 11%. Xbox content and services revenue increased 3%.  Search and news advertising revenue excluding traffic acquisition costs increased 27%. Surface revenue increased 3%.On March 4, 2022, we completed our acquisition of Nuance Communications, Inc. (Nuance) for a total purchase price of $18.8 billion, consisting primarily of cash. Nuance is a cloud and artificial intelligence (AI) software provider with healthcare and enterprise AI experience, and the acquisition will build on our industry-specific cloud offerings. The financial results of Nuance have been included in our consolidated financial statements since the date of the acquisition. Nuance is reported as part of our Intelligent Cloud segment. Refer to Note 8  Business Combinations of the Notes to Financial Statements ( Part II, Item 8 of this Form 10-K ) for further discussion. Industry Trends Our industry is dynamic and highly competitive, with frequent changes in both technologies and business models. Each industry shift is an opportunity to conceive new products, new technologies, or new ideas that can further transform the industry and our business. At Microsoft, we push the boundaries of what is possible through a broad range of research and development activities that seek to identify and address the changing demands of customers and users, industry trends, and competitive forces.PART II Item 7Economic Conditions, Challenges, and Risks The markets for software, devices, and cloud-based services are dynamic and highly competitive. Our competitors are developing new software and devices, while also deploying competing cloud-based services for consumers and businesses. The devices and form factors customers prefer evolve rapidly, and influence how users access services in the cloud, and in some cases, the users choice of which suite of cloud-based services to use. We must continue to evolve and adapt over an extended time in pace with this changing environment. The investments we are making in infrastructure and devices will continue to increase our operating costs and may decrease our operating margins.Our success is highly dependent on our ability to attract and retain qualified employees. We hire a mix of university and industry talent worldwide. We compete for talented individuals globally by offering an exceptional working environment, broad customer reach, scale in resources, the ability to grow ones career across many different products and businesses, and competitive compensation and benefits. Aggregate demand for our software, services, and devices is correlated to global macroeconomic and geopolitical factors, which remain dynamic.Our devices are primarily manufactured by third-party contract manufacturers, some of which contain certain components for which there are very few qualified suppliers. For these components, we have limited near-term flexibility to use other manufacturers if a current vendor becomes unavailable or is unable to meet our requirements. Extended disruptions at these suppliers and/or manufacturers could lead to a similar disruption in our ability to manufacture devices on time to meet consumer demand.Our international operations provide a significant portion of our total revenue and expenses. Many of these revenue and expenses are denominated in currencies other than the U.S. dollar. As a result, changes in foreign exchange rates may significantly affect revenue and expenses. Fluctuations in the U.S. dollar relative to certain foreign currencies did not have a material impact on reported revenue or expenses from our international operations in fiscal year 2022.Refer to Risk Factors (Part I, Item 1A of this Form 10-K) for a discussion of these factors and other risks.SeasonalityOur revenue fluctuates quarterly and is generally higher in the second and fourth quarters of our fiscal year. Second quarter revenue is driven by corporate year-end spending trends in our major markets and holiday season spending by consumers, and fourth quarter revenue is driven by the volume of multi-year on-premises contracts executed during the period.Reportable SegmentsWe report our financial performance based on the following segments: Productivity and Business Processes, Intelligent Cloud, and More Personal Computing. The segment amounts included in MDA are presented on a basis consistent with our internal management reporting. Additional information on our reportable segments is contained in Note 19  Segment Information and Geographic Data of the Notes to Financial Statements (Part II, Item 8 of this Form 10-K). MetricsWe use metrics in assessing the performance of our business and to make informed decisions regarding the allocation of resources. We disclose metrics to enable investors to evaluate progress against our ambitions, provide transparency into performance trends, and reflect the continued evolution of our products and services. Our commercial and other business metrics are fundamentally connected based on how customers use our products and services. The metrics are disclosed in the MDA or the Notes to Financial Statements (Part II, Item 8 of this Form 10-K). Financial metrics are calculated based on financial results prepared in accordance with accounting principles generally accepted in the United States of America (GAAP), and growth comparisons relate to the corresponding period of last fiscal year.In the first quarter of fiscal year 2022, we made updates to the presentation and method of calculation for certain metrics, most notably changes to incorporate all current and anticipated revenue streams within our Office Consumer and Server products and cloud services metrics and changes to align with how we manage our Windows OEM and Search and news advertising businesses. None of these changes had a material impact on previously reported amounts in our MDA.PART II Item 7In the third quarter of fiscal year 2022, we completed our acquisition of Nuance. Nuance is included in all commercial metrics and our Server products and cloud services revenue growth metric. Azure and other cloud services revenue includes Nuance cloud services, and Server products revenue includes Nuance on-premises offerings. CommercialOur commercial business primarily consists of Server products and cloud services, Office Commercial, Windows Commercial, the commercial portion of LinkedIn, Enterprise Services, and Dynamics. Our commercial metrics allow management and investors to assess the overall health of our commercial business and include leading indicators of future performance.Commercial remaining performance obligation Commercial portion of revenue allocated to remaining performance obligations, which includes unearned revenue and amounts that will be invoiced and recognized as revenue in future periods Microsoft Cloud revenue Revenue from Azure and other cloud services, Office 365 Commercial, the commercial portion of LinkedIn, Dynamics 365, and other commercial cloud properties Microsoft Cloud gross margin percentageGross margin percentage for our Microsoft Cloud business Productivity and Business Processes and Intelligent CloudMetrics related to our Productivity and Business Processes and Intelligent Cloud segments assess the health of our core businesses within these segments. The metrics reflect our cloud and on-premises product strategies and trends.Office Commercial products and cloud services revenue growthRevenue from Office Commercial products and cloud services (Office 365 subscriptions, the Office 365 portion of Microsoft 365 Commercial subscriptions, and Office licensed on-premises), comprising Office, Exchange, SharePoint, Microsoft Teams, Office 365 Security and Compliance, and Microsoft VivaOffice Consumer products and cloud services revenue growthRevenue from Office Consumer products and cloud services, including Microsoft 365 Consumer subscriptions, Office licensed on-premises, and other Office servicesOffice 365 Commercial seat growthThe number of Office 365 Commercial seats at end of period where seats are paid users covered by an Office 365 Commercial subscriptionMicrosoft 365 Consumer subscribersThe number of Microsoft 365 Consumer subscribers at end of periodDynamics products and cloud services revenue growthRevenue from Dynamics products and cloud services, including Dynamics 365, comprising a set of intelligent, cloud-based applications across ERP, CRM, Customer Insights, Power Apps, and Power Automate and on-premises ERP and CRM applicationsLinkedIn revenue growthRevenue from LinkedIn, including Talent Solutions, Marketing Solutions, Premium Subscriptions, and Sales SolutionsServer products and cloud services revenue growthRevenue from Server products and cloud services, including Azure and other cloud services SQL Server, Windows Server, Visual Studio, System Center, and related Client Access Licenses (CALs) and Nuance and GitHubPART II Item 7More Personal ComputingMetrics related to our More Personal Computing segment assess the performance of key lines of business within this segment. These metrics provide strategic product insights which allow us to assess the performance across our commercial and consumer businesses. As we have diversity of target audiences and sales motions within the Windows business, we monitor metrics that are reflective of those varying motions.Windows OEM revenue growthRevenue from sales of Windows Pro and non-Pro licenses sold through the OEM channelWindows Commercial products and cloud services revenue growthRevenue from Windows Commercial products and cloud services, comprising volume licensing of the Windows operating system, Windows cloud services, and other Windows commercial offeringsSurface revenue growthRevenue from Surface devices and accessoriesXbox content and services revenue growth Revenue from Xbox content and services, comprising first- and third-party content (including games and in-game content), Xbox Game Pass and other subscriptions, Xbox Cloud Gaming, third-party disc royalties, advertising, and other cloud servicesSearch and news advertising revenue, excluding TAC, growthRevenue from search and news advertising excluding traffic acquisition costs (TAC) paid to Bing Ads network publishers and news partnersSUMMARY RESULTS OF OPERATIONS (In millions, except percentages and per share amounts)Percentage Change Revenue$198,270$168,08818%Gross margin135,620115,85617%Operating income83,38369,91619% Net income72,73861,27119%Diluted earnings per share9.658.0520%Adjusted net income (non-GAAP)69,44760,65115% Adjusted diluted earnings per share (non-GAAP)9.217.9716%Adjusted net income and adjusted diluted earnings per share (EPS) are non-GAAP financial measures which exclude the net income tax benefit related to transfer of intangible properties in the first quarter of fiscal year 2022 and the net income tax benefit related to an India Supreme Court decision on withholding taxes in the third quarter of fiscal year 2021 . Refer to the Non-GAAP Financial Measures section below for a reconciliation of our financial results reported in accordance with GAAP to non-GAAP financial results. See Note 12  Income Taxes of the Notes to Financial Statements (Part II, Item 8 of this Form 10-K) for further discussion.Fiscal Year 2022 Compared with Fiscal Year 2021Revenue increased $30.2 billion or 18% driven by growth across each of our segments. Intelligent Cloud revenue increased driven by Azure and other cloud services. Productivity and Business Processes revenue increased driven by Office 365 Commercial and LinkedIn. More Personal Computing revenue increased driven by Search and news advertising and Windows. Cost of revenue increased $10.4 billion or 20% driven by growth in Microsoft Cloud.Gross margin increased $19.8 billion or 17% driven by growth across each of our segments.  Gross margin percentage decreased slightly. Excluding the impact of the fiscal year 2021 change in accounting estimate for the useful lives of our server and network equipment, gross margin percentage increased 1 point driven by improvement in Productivity and Business Processes. Microsoft Cloud gross margin percentage decreased slightly to 70%. Excluding the impact of the change in accounting estimate, Microsoft Cloud gross margin percentage increased 3 points driven by improvement across our cloud services, offset in part by sales mix shift to Azure and other cloud services.PART II Item 7Operating expenses increased $ 6 .3 billion or 14 % driven by investments in cloud engineering , LinkedIn, Gaming, and commercial sales . Key changes in operating expenses were: Research and development expenses increased $3.8 billion or 18% driven by investments in cloud engineering, Gaming, and LinkedIn. Sales and marketing expenses increased $1.7 billion or 8% driven by investments in commercial sales and LinkedIn. Sales and marketing included a favorable foreign currency impact of 2%. General and administrative expenses increased $793 million or 16% driven by investments in corporate functions.Operating income increased $13.5 billion or 19% driven by growth across each of our segments.Current year net income and diluted EPS were positively impacted by the net tax benefit related to the transfer of intangible properties, which resulted in an increase to net income and diluted EPS of $3.3 billion and $0.44, respectively. Prior year net income and diluted EPS were positively impacted by the net tax benefit related to the India Supreme Court decision on withholding taxes, which resulted in an increase to net income and diluted EPS of $620 million and $0.08, respectively. Gross margin and operating income both included an unfavorable foreign currency impact of 2%. SEGMENT RESULTS OF OPERATIONS (In millions, except percentages)Percentage Change RevenueProductivity and Business Processes$63,364$53,91518%Intelligent Cloud75,25160,08025%More Personal Computing59,65554,09310%Total $198,270$168,08818%Operating Income Productivity and Business Processes$29,687$24,35122%Intelligent Cloud32,72126,12625%More Personal Computing20,97519,4398%Total $83,383$69,91619%Reportable SegmentsFiscal Year 2022 Compared with Fiscal Year 2021 Productivity and Business Processes Revenue increased $9.4 billion or 18%.  Office Commercial products and cloud services revenue increased $4.4 billion or 13%. Office 365 Commercial revenue grew 18% driven by seat growth of 14%, with continued momentum in small and medium business and frontline worker offerings, as well as growth in revenue per user. Office Commercial products revenue declined 22% driven by continued customer shift to cloud offerings.  Office Consumer products and cloud services revenue increased $641 million or 11% driven by Microsoft 365 Consumer subscription revenue. Microsoft 365 Consumer subscribers grew 15% to 59.7 million. LinkedIn revenue increased $3.5 billion or 34% driven by a strong job market in our Talent Solutions business and advertising demand in our Marketing Solutions business. Dynamics products and cloud services revenue increased 25% driven by Dynamics 365 growth of 39%. PART II Item 7Operating income increased $5.3 billion or 22%. Gross margin increased $7.3 billion or 17% driven by growth in Office 365 Commercial and LinkedIn. Gross margin percentage was relatively unchanged. Excluding the impact of the change in accounting estimate, gross margin percentage increased 2 points driven by improvement across all cloud services.  Operating expenses increased $2.0 billion or 11% driven by investments in LinkedIn and cloud engineering. Gross margin and operating income both included an unfavorable foreign currency impact of 2%.Intelligent Cloud Revenue increased $15.2 billion or 25%.  Server products and cloud services revenue increased $14.7 billion or 28% driven by Azure and other cloud services. Azure and other cloud services revenue grew 45% driven by growth in our consumption-based services. Server products revenue increased 5% driven by hybrid solutions, including Windows Server and SQL Server running in multi-cloud environments. Enterprise Services revenue increased $464 million or 7% driven by growth in Enterprise Support Services.Operating income increased $6.6 billion or 25%.  Gross margin increased $9.4 billion or 22% driven by growth in Azure and other cloud services. Gross margin percentage decreased. Excluding the impact of the change in accounting estimate, gross margin percentage was relatively unchanged driven by improvement in Azure and other cloud services, offset in part by sales mix shift to Azure and other cloud services. Operating expenses increased $2.8 billion or 16% driven by investments in Azure and other cloud services. Revenue and operating income included an unfavorable foreign currency impact of 2% and 3%, respectively.More Personal Computing Revenue increased $5.6 billion or 10%.  Windows revenue increased $2.3 billion or 10% driven by growth in Windows OEM and Windows Commercial. Windows OEM revenue increased 11% driven by continued strength in the commercial PC market, which has higher revenue per license. Windows Commercial products and cloud services revenue increased 11% driven by demand for Microsoft 365. Search and news advertising revenue increased $2.3 billion or 25%. Search and news advertising revenue excluding traffic acquisition costs increased 27% driven by higher revenue per search and search volume. Gaming revenue increased $860 million or 6% on a strong prior year comparable that benefited from Xbox Series X|S launches and stay-at-home scenarios, driven by growth in Xbox hardware and Xbox content and services. Xbox hardware revenue increased 16% due to continued demand for Xbox Series X|S. Xbox content and services revenue increased 3% driven by growth in Xbox Game Pass subscriptions and first-party content, offset in part by a decline in third-party content.  Surface revenue increased $226 million or 3%.Operating income increased $1.5 billion or 8%. Gross margin increased $3.1 billion or 10% driven by growth in Windows and Search and news advertising. Gross margin percentage was relatively unchanged. Operating expenses increased $1.5 billion or 14% driven by investments in Gaming, Search and news advertising, and Windows marketing.PART II Item 7OPERATING EXPENSES Research and Development(In millions, except percentages)Percentage ChangeResearch and development$24,512$20,71618%As a percent of revenue12%12%0pptResearch and development expenses include payroll, employee benefits, stock-based compensation expense, and other headcount-related expenses associated with product development. Research and development expenses also include third-party development and programming costs, localization costs incurred to translate software for international markets, and the amortization of purchased software code and services content. Research and development expenses increased $3.8 billion or 18% driven by investments in cloud engineering, Gaming, and LinkedIn.Sales and Marketing(In millions, except percentages)Percentage ChangeSales and marketing$21,825$20,1178%As a percent of revenue11%12%(1)pptSales and marketing expenses include payroll, employee benefits, stock-based compensation expense, and other headcount-related expenses associated with sales and marketing personnel, and the costs of advertising, promotions, trade shows, seminars, and other programs. Sales and marketing expenses increased $1.7 billion or 8% driven by investments in commercial sales and LinkedIn. Sales and marketing included a favorable foreign currency impact of 2%.General and Administrative(In millions, except percentages)Percentage Change General and administrative$5,900$5,10716%As a percent of revenue3%3%0pptGeneral and administrative expenses include payroll, employee benefits, stock-based compensation expense, and other headcount-related expenses associated with finance, legal, facilities, certain human resources and other administrative personnel, certain taxes, and legal and other administrative fees.General and administrative expenses increased $793 million or 16% driven by investments in corporate functions.PART II Item 7OTHER INCOME (EXPENSE), NET The components of other income (expense), net were as follows: (In millions)Year Ended June 30,Interest and dividends income$2,094$2,131Interest expense(2,063)(2,346)Net recognized gains on investments1,232Net gains (losses) on derivatives(52)Net gains (losses) on foreign currency remeasurements(75)Other, net(32)Total$$1,186We use derivative instruments to manage risks related to foreign currencies, equity prices, interest rates, and credit enhance investment returns and facilitate portfolio diversification. Gains and losses from changes in fair values of derivatives that are not designated as hedging instruments are primarily recognized in other income (expense), net. Interest and dividends income decreased due to lower portfolio balances. Interest expense decreased due to a decrease in outstanding long-term debt due to debt maturities. Net recognized gains on investments decreased primarily due to lower gains on equity securities. INCOME TAXES Effective Tax RateOur effective tax rate for fiscal years 2022 and 2021 was 13% and 14%, respectively. The decrease in our effective tax rate was primarily due to a $3.3 billion net income tax benefit in the first quarter of fiscal year 2022 related to the transfer of intangible properties, offset in part by changes in the mix of our income before income taxes between the U.S. and foreign countries, as well as tax benefits in the prior year from the India Supreme Court decision on withholding taxes in the case of Engineering Analysis Centre of Excellent Private Limited vs The Commissioner of Income Tax, an agreement between the U.S. and India tax authorities related to transfer pricing, and final Tax Cuts and Jobs Act (TCJA) regulations.In the first quarter of fiscal year 2022, we transferred certain intangible properties from our Puerto Rico subsidiary to the U.S. The transfer of intangible properties resulted in a $3.3 billion net income tax benefit in the first quarter of fiscal year 2022, as the value of future U.S. tax deductions exceeds the current tax liability from the U.S. global intangible low-taxed income tax.We have historically paid India withholding taxes on software sales through distributor withholding and tax audit assessments in India. In March 2021, the India Supreme Court ruled favorably for companies in 86 separate appeals, some dating back to 2012, holding that software sales are not subject to India withholding taxes. Although we were not a party to the appeals, our software sales in India were determined to be not subject to withholding taxes. Therefore, we recorded a net income tax benefit of $620 million in the third quarter of fiscal year 2021 to reflect the results of the India Supreme Court decision impacting fiscal year 1996 through fiscal year 2016.Our effective tax rate was lower than the U.S. federal statutory rate, primarily due to the net income tax benefit related to the transfer of intangible properties, earnings taxed at lower rates in foreign jurisdictions resulting from producing and distributing our products and services through our foreign regional operations center in Ireland, and tax benefits relating to stock-based compensation. The mix of income before income taxes between the U.S. and foreign countries impacted our effective tax rate as a result of the geographic distribution of, and customer demand for, our products and services. In fiscal year 2022, our U.S. income before income taxes was $47.8 billion and our foreign income before income taxes was $35.9 billion. In fiscal year 2021, our U.S. income before income taxes was $35.0 billion and our foreign income before income taxes was $36.1 billion.PART II Item 7Uncertain Tax Positions We settled a portion of the Internal Revenue Service (IRS) audit for tax years 2004 to 2006 in fiscal year 2011. In February 2012, the IRS withdrew its 2011 Revenue Agents Report related to unresolved issues for tax years 2004 to 2006 and reopened the audit phase of the examination. We also settled a portion of the IRS audit for tax years 2007 to 2009 in fiscal year 2016, and a portion of the IRS audit for tax years 2010 to 2013 in fiscal year 2018. In the second quarter of fiscal year 2021, we settled an additional portion of the IRS audits for tax years 2004 to 2013 and made a payment of $1.7 billion, including tax and interest. We remain under audit for tax years 2004 to 2017. As of June 30, 2022, the primary unresolved issues for the IRS audits relate to transfer pricing, which could have a material impact in our consolidated financial statements when the matters are resolved. We believe our allowances for income tax contingencies are adequate. We have not received a proposed assessment for the unresolved key transfer pricing issues and do not expect a final resolution of these issues in the next 12 months. Based on the information currently available, we do not anticipate a significant increase or decrease to our tax contingencies for these issues within the next 12 months.We are subject to income tax in many jurisdictions outside the U.S. Our operations in certain jurisdictions remain subject to examination for tax years 1996 to 2021, some of which are currently under audit by local tax authorities. The resolution of each of these audits is not expected to be material to our consolidated financial statements.NON-GAAP FINANCIAL MEASURES Adjusted net income and adjusted diluted EPS are non-GAAP financial measures which exclude the net tax benefit related to the transfer of intangible properties in the first quarter of fiscal year 2022 and the net income tax benefit related to an India Supreme Court decision on withholding taxes in the third quarter of fiscal year 2021. We believe these non-GAAP measures aid investors by providing additional insight into our operational performance and help clarify trends affecting our business. For comparability of reporting, management considers non-GAAP measures in conjunction with GAAP financial results in evaluating business performance. These non-GAAP financial measures presented should not be considered a substitute for, or superior to, the measures of financial performance prepared in accordance with GAAP.The following table reconciles our financial results reported in accordance with GAAP to non-GAAP financial results:(In millions, except percentages and per share amounts)Percentage Change Net income$72,738$61,27119%Net income tax benefit related to transfer of intangible properties(3,291)*Net income tax benefit related to India Supreme Court decision on withholding taxes(620)*Adjusted net income (non-GAAP)$69,447$60,65115%Diluted earnings per share$9.65$8.0520% Net income tax benefit related to transfer of intangible properties(0.44)*Net income tax benefit related to India Supreme Court decision on withholding taxes(0.08)*Adjusted diluted earnings per share (non-GAAP)$9.21$7.9716% * Not meaningful. PART II Item 7LIQUIDITY AND CAPITAL RESOURCES We expect existing cash, cash equivalents, short-term investments, cash flows from operations, and access to capital markets to continue to be sufficient to fund our operating activities and cash commitments for investing and financing activities, such as dividends, share repurchases, debt maturities, material capital expenditures, and the transition tax related to the TCJA, for at least the next 12 months and thereafter for the foreseeable future. Cash, Cash Equivalents, and Investments Cash, cash equivalents, and short-term investments totaled $104.8 billion and $130.3 billion as of June 30, 2022 and 2021, respectively. Equity investments were $6.9 billion and $6.0 billion as of June 30, 2022 and 2021, respectively. Our short-term investments are primarily intended to facilitate liquidity and capital preservation. They consist predominantly of highly liquid investment-grade fixed-income securities, diversified among industries and individual issuers. The investments are predominantly U.S. dollar-denominated securities, but also include foreign currency-denominated securities to diversify risk. Our fixed-income investments are exposed to interest rate risk and credit risk. The credit risk and average maturity of our fixed-income portfolio are managed to achieve economic returns that correlate to certain fixed-income indices. The settlement risk related to these investments is insignificant given that the short-term investments held are primarily highly liquid investment-grade fixed-income securities. Valuation In general, and where applicable, we use quoted prices in active markets for identical assets or liabilities to determine the fair value of our financial instruments. This pricing methodology applies to our Level 1 investments, such as U.S. government securities, common and preferred stock, and mutual funds. If quoted prices in active markets for identical assets or liabilities are not available to determine fair value, then we use quoted prices for similar assets and liabilities or inputs other than the quoted prices that are observable either directly or indirectly. This pricing methodology applies to our Level 2 investments, such as commercial paper, certificates of deposit, U.S. agency securities, foreign government bonds, mortgage- and asset-backed securities, corporate notes and bonds, and municipal securities. Level 3 investments are valued using internally-developed models with unobservable inputs. Assets and liabilities measured at fair value on a recurring basis using unobservable inputs are an immaterial portion of our portfolio. A majority of our investments are priced by pricing vendors and are generally Level 1 or Level 2 investments as these vendors either provide a quoted market price in an active market or use observable inputs for their pricing without applying significant adjustments. Broker pricing is used mainly when a quoted price is not available, the investment is not priced by our pricing vendors, or when a broker price is more reflective of fair values in the market in which the investment trades. Our broker-priced investments are generally classified as Level 2 investments because the broker prices these investments based on similar assets without applying significant adjustments. In addition, all our broker-priced investments have a sufficient level of trading volume to demonstrate that the fair values used are appropriate for these investments. Our fair value processes include controls that are designed to ensure appropriate fair values are recorded. These controls include model validation, review of key model inputs, analysis of period-over-period fluctuations, and independent recalculation of prices where appropriate. Cash Flows Cash from operations increased $12.3 billion to $89.0 billion for fiscal year 2022, mainly due to an increase in cash received from customers, offset in part by an increase in cash paid to suppliers and employees. Cash used in financing increased $10.4 billion to $58.9 billion for fiscal year 2022, mainly due to a $5.3 billion increase in common stock repurchases and a $5.3 billion increase in repayments of debt. Cash used in investing increased $2.7 billion to $30.3 billion for fiscal year 2022, mainly due to a $13.1 billion increase in cash used for acquisitions of companies, net of cash acquired, and purchases of intangible and other assets, and a $3.3 billion increase in additions to property and equipment, offset in part by a $15.6 billion increase in cash from net investment purchases, sales, and maturities.PART II Item 7Debt ProceedsWe issue debt to take advantage of favorable pricing and liquidity in the debt markets, reflecting our credit rating and the low interest rate environment. The proceeds of these issuances were or will be used for general corporate purposes, which may include, among other things, funding for working capital, capital expenditures, repurchases of capital stock, acquisitions, and repayment of existing debt. In March 2021 and June 2020, we exchanged a portion of our existing debt at a premium for cash and new debt with longer maturities to take advantage of favorable financing rates in the debt markets, reflecting our credit rating and the low interest rate environment. Refer to Note 11  Debt of the Notes to Financial Statements (Part II, Item 8 of this Form 10-K) for further discussion.Unearned Revenue Unearned revenue comprises mainly unearned revenue related to volume licensing programs, which may include Software Assurance (SA) and cloud services. Unearned revenue is generally invoiced annually at the beginning of each contract period for multi-year agreements and recognized ratably over the coverage period. Unearned revenue also includes payments for other offerings for which we have been paid in advance and earn the revenue when we transfer control of the product or service. Refer to Note 1  Accounting Policies of the Notes to Financial Statements (Part II, Item 8 of this Form 10-K) for further discussion.The following table outlines the expected future recognition of unearned revenue as of June 30, 2022:(In millions)Three Months EndingSeptember 30, 2022$17,691December 31, 202213,923March 31, 20239,491June 30, 20234,433Thereafter2,870Total$48,408If our customers choose to license cloud-based versions of our products and services rather than licensing transaction-based products and services, the associated revenue will shift from being recognized at the time of the transaction to being recognized over the subscription period or upon consumption, as applicable. PART II Item 7Material Cash Requirements and Other Obligations Contractual ObligationsThe following table summarizes the payments due by fiscal year for our outstanding contractual obligations as of June 30, 2022:(In millions)ThereafterTotalLong-term debt: (a) Principal payments$2,750$52,761$55,511Interest payments1,46821,13922,607Construction commitments (b) 7,9428,518Operating and finance leases, including imputed interest (c) 4,60944,04548,654Purchase commitments ( d ) 42,6692,98545,654Total$59,438$121,506$180,944( a) Refer to Note 11  Debt of the Notes to Financial Statements (Part II, Item 8 of this Form 10-K). (b) Refer to Note 7  Property and Equipment of the Notes to Financial Statements (Part II, Item 8 of this Form 10-K). (c) Refer to Note 14  Leases of the Notes to Financial Statements (Part II, Item 8 of this Form 10-K). ( d ) Purchase commitments primarily relate to datacenters and include open purchase orders and take-or-pay contracts that are not presented as construction commitments above. Income TaxesAs a result of the TCJA, we are required to pay a one-time transition tax on deferred foreign income not previously subject to U.S. income tax. Under the TCJA, the transition tax is payable in interest-free installments over eight years, with 8% due in each of the first five years, 15% in year six, 20% in year seven, and 25% in year eight. We have paid transition tax of $6.2 billion, which included $1.5 billion for fiscal year 2022. The remaining transition tax of $12.0 billion is payable over the next four years, with $1.3 billion payable within 12 months. Provisions enacted in the TCJA related to the capitalization for tax purposes of research and experimental expenditures became effective on July 1, 2022. These provisions require us to capitalize research and experimental expenditures and amortize them on the U.S. tax return over five or fifteen years, depending on where research is conducted. The final foreign tax credit regulations, also effective on July 1, 2022, introduced significant changes to foreign tax credit calculations in the U.S. tax return. While these provisions are not expected to have a material impact on our fiscal year 2023 effective tax rate on a net basis, our cash paid for taxes would increase unless these provisions are postponed or modified through legislative processes.Share Repurchases During fiscal years 2022 and 2021, we repurchased 95 million shares and 101 million shares of our common stock for $28.0 billion and $23.0 billion, respectively, through our share repurchase programs. All repurchases were made using cash resources. As of June 30, 2022, $40.7 billion remained of our $60 billion share repurchase program. Refer to Note 16  Stockholders Equity of the Notes to Financial Statements (Part II, Item 8 of this Form 10-K) for further discussion.Dividends During fiscal year 2022, our Board of Directors declared quarterly dividends of $0.62 per share. We intend to continue returning capital to shareholders in the form of dividends, subject to declaration by our Board of Directors. Refer to Note 16  Stockholders Equity of the Notes to Financial Statements (Part II, Item 8 of this Form 10-K) for further discussion.PART II Item 7Other Planned Uses of Capital On January 18, 2022 , we entered into a definitive agreement to acquire Activision Blizzard , Inc. (Activision Blizzard ) for $ 95 .00 per share in an all-cash transaction valued at $ 68 .7 billion, inclusive of Activision Blizzards net cash. The acquisition has been approved by Activision Blizzards shareholders, and we expect it to close in fiscal year 2023, subject to the satisfaction of certain regulatory approvals and other customary closing conditions.We will continue to invest in sales, marketing, product support infrastructure, and existing and advanced areas of technology, as well as continue making acquisitions that align with our business strategy. Additions to property and equipment will continue, including new facilities, datacenters, and computer systems for research and development, sales and marketing, support, and administrative staff. We expect capital expenditures to increase in coming years to support growth in our cloud offerings. We have operating and finance leases for datacenters, corporate offices, research and development facilities, Microsoft Experience Centers, and certain equipment. We have not engaged in any related party transactions or arrangements with unconsolidated entities or other persons that are reasonably likely to materially affect liquidity or the availability of capital resources. RECENT ACCOUNTING GUIDANCE Refer to Note 1  Accounting Policies of the Notes to Financial Statements (Part II, Item 8 of this Form 10-K) for further discussion.CRITICAL ACCOUNTING ESTIMATES Our consolidated financial statements and accompanying notes are prepared in accordance with GAAP. Preparing consolidated financial statements requires management to make estimates and assumptions that affect the reported amounts of assets, liabilities, revenue, and expenses. Critical accounting estimates are those estimates that involve a significant level of estimation uncertainty and could have a material impact on our financial condition or results of operations. We have critical accounting estimates in the areas of revenue recognition, impairment of investment securities, goodwill, research and development costs, legal and other contingencies, income taxes, and inventories. Revenue Recognition Our contracts with customers often include promises to transfer multiple products and services to a customer. Determining whether products and services are considered distinct performance obligations that should be accounted for separately versus together may require significant judgment. When a cloud-based service includes both on-premises software licenses and cloud services, judgment is required to determine whether the software license is considered distinct and accounted for separately, or not distinct and accounted for together with the cloud service and recognized over time. Certain cloud services, primarily Office 365, depend on a significant level of integration, interdependency, and interrelation between the desktop applications and cloud services, and are accounted for together as one performance obligation. Revenue from Office 365 is recognized ratably over the period in which the cloud services are provided. Judgment is required to determine the stand-alone selling price (SSP\") for each distinct performance obligation. We use a single amount to estimate SSP for items that are not sold separately, including on-premises licenses sold with SA or software updates provided at no additional charge. We use a range of amounts to estimate SSP when we sell each of the products and services separately and need to determine whether there is a discount to be allocated based on the relative SSP of the various products and services. In instances where SSP is not directly observable, such as when we do not sell the product or service separately, we determine the SSP using information that may include market conditions and other observable inputs. We typically have more than one SSP for individual products and services due to the stratification of those products and services by customers and circumstances. In these instances, we may use information such as the size of the customer and geographic region in determining the SSP. Due to the various benefits from and the nature of our SA program, judgment is required to assess the pattern of delivery, including the exercise pattern of certain benefits across our portfolio of customers. PART II Item 7Our products are generally sold with a right of return, we may provide other credits or incentives, and in certain instances we estimate customer usage of our products and services, which are accounted for as variable consideration when determining the amount of revenue to recognize. Returns and credits are estimated at contract inception and updated at the end of each reporting period if additional information becomes available. Changes to our estimated variable consideration were not material for the periods presented. Impairment of Investment Securities We review debt investments quarterly for credit losses and impairment. If the cost of an investment exceeds its fair value, we evaluate, among other factors, general market conditions, credit quality of debt instrument issuers, and the extent to which the fair value is less than cost. This determination requires significant judgment. In making this judgment, we employ a systematic methodology that considers available quantitative and qualitative evidence in evaluating potential impairment of our investments. In addition, we consider specific adverse conditions related to the financial health of, and business outlook for, the investee. If we have plans to sell the security or it is more likely than not that we will be required to sell the security before recovery, then a decline in fair value below cost is recorded as an impairment charge in other income (expense), net and a new cost basis in the investment is established. If market, industry, and/or investee conditions deteriorate, we may incur future impairments. Equity investments without readily determinable fair values are written down to fair value if a qualitative assessment indicates that the investment is impaired and the fair value of the investment is less than carrying value. We perform a qualitative assessment on a periodic basis. We are required to estimate the fair value of the investment to determine the amount of the impairment loss. Once an investment is determined to be impaired, an impairment charge is recorded in other income (expense), net. Goodwill We allocate goodwill to reporting units based on the reporting unit expected to benefit from the business combination. We evaluate our reporting units on an annual basis and, if necessary, reassign goodwill using a relative fair value allocation approach. Goodwill is tested for impairment at the reporting unit level (operating segment or one level below an operating segment) on an annual basis (May 1 for us) and between annual tests if an event occurs or circumstances change that would more likely than not reduce the fair value of a reporting unit below its carrying value. These events or circumstances could include a significant change in the business climate, legal factors, operating performance indicators, competition, or sale or disposition of a significant portion of a reporting unit. Application of the goodwill impairment test requires judgment, including the identification of reporting units, assignment of assets and liabilities to reporting units, assignment of goodwill to reporting units, and determination of the fair value of each reporting unit. The fair value of each reporting unit is estimated primarily through the use of a discounted cash flow methodology. This analysis requires significant judgments, including estimation of future cash flows, which is dependent on internal forecasts, estimation of the long-term rate of growth for our business, estimation of the useful life over which cash flows will occur, and determination of our weighted average cost of capital. The estimates used to calculate the fair value of a reporting unit change from year to year based on operating results, market conditions, and other factors. Changes in these estimates and assumptions could materially affect the determination of fair value and goodwill impairment for each reporting unit. Research and Development Costs Costs incurred internally in researching and developing a computer software product are charged to expense until technological feasibility has been established for the product. Once technological feasibility is established, software costs are capitalized until the product is available for general release to customers. Judgment is required in determining when technological feasibility of a product is established. We have determined that technological feasibility for our software products is reached after all high-risk development issues have been resolved through coding and testing. Generally, this occurs shortly before the products are released to production. The amortization of these costs is included in cost of revenue over the estimated life of the products. PART II Item 7Legal and Other Contingencies The outcomes of legal proceedings and claims brought against us are subject to significant uncertainty. An estimated loss from a loss contingency such as a legal proceeding or claim is accrued by a charge to income if it is probable that an asset has been impaired or a liability has been incurred and the amount of the loss can be reasonably estimated. In determining whether a loss should be accrued we evaluate, among other factors, the degree of probability of an unfavorable outcome and the ability to make a reasonable estimate of the amount of loss. Changes in these factors could materially impact our consolidated financial statements.Income Taxes The objectives of accounting for income taxes are to recognize the amount of taxes payable or refundable for the current year, and deferred tax liabilities and assets for the future tax consequences of events that have been recognized in an entitys financial statements or tax returns. We recognize the tax benefit from an uncertain tax position only if it is more likely than not that the tax position will be sustained on examination by the taxing authorities, based on the technical merits of the position. The tax benefits recognized in the financial statements from such a position are measured based on the largest benefit that has a greater than 50% likelihood of being realized upon ultimate settlement. Accounting literature also provides guidance on derecognition of income tax assets and liabilities, classification of deferred income tax assets and liabilities, accounting for interest and penalties associated with tax positions, and income tax disclosures. Judgment is required in assessing the future tax consequences of events that have been recognized in our consolidated financial statements or tax returns. Variations in the actual outcome of these future tax consequences could materially impact our consolidated financial statements. Inventories Inventories are stated at average cost, subject to the lower of cost or net realizable value. Cost includes materials, labor, and manufacturing overhead related to the purchase and production of inventories. Net realizable value is the estimated selling price less estimated costs of completion, disposal, and transportation. We regularly review inventory quantities on hand, future purchase commitments with our suppliers, and the estimated utility of our inventory. These reviews include analysis of demand forecasts, product life cycle status, product development plans, current sales levels, pricing strategy, and component cost trends. If our review indicates a reduction in utility below carrying value, we reduce our inventory to a new cost basis through a charge to cost of revenue.CHANGE IN ACCOUNTING ESTIMATE In July 2022, we completed an assessment of the useful lives of our server and network equipment. Due to investments in software that increased efficiencies in how we operate our server and network equipment, as well as advances in technology, we determined we should increase the estimated useful lives of both server and network equipment from four years to six years. This change in accounting estimate will be effective beginning fiscal year 2023. Based on the carrying amount of server and network equipment included in property and equipment, net as of June 30, 2022, it is estimated this change will increase our fiscal year 2023 operating income by $3.7 billion. We had previously increased the estimated useful lives of both server and network equipment in July 2020.PART II Item 7STATEMENT OF MANAGEMENTS RESPONSIBILITY FOR FINANCIAL STATEMENTS Management is responsible for the preparation of the consolidated financial statements and related information that are presented in this report. The consolidated financial statements, which include amounts based on managements estimates and judgments, have been prepared in conformity with accounting principles generally accepted in the United States of America. The Company designs and maintains accounting and internal control systems to provide reasonable assurance at reasonable cost that assets are safeguarded against loss from unauthorized use or disposition, and that the financial records are reliable for preparing consolidated financial statements and maintaining accountability for assets. These systems are augmented by written policies, an organizational structure providing division of responsibilities, careful selection and training of qualified personnel, and a program of internal audits. The Company engaged Deloitte  Touche LLP, an independent registered public accounting firm, to audit and render an opinion on the consolidated financial statements and internal control over financial reporting in accordance with the standards of the Public Company Accounting Oversight Board (United States). The Board of Directors, through its Audit Committee, consisting solely of independent directors of the Company, meets periodically with management, internal auditors, and our independent registered public accounting firm to ensure that each is meeting its responsibilities and to discuss matters concerning internal controls and financial reporting. Deloitte  Touche LLP and the internal auditors each have full and free access to the Audit Committee. Satya NadellaChief Executive OfficerAmy E. HoodExecutive Vice President and Chief Financial OfficerAlice L. JollaCorporate Vice President and Chief Accounting OfficerPART II Item 7A</td>\n",
              "      <td>POSITIVE</td>\n",
              "      <td>146</td>\n",
              "    </tr>\n",
              "    <tr>\n",
              "      <th>5</th>\n",
              "      <td>ITEM 1B. UNRESOLVED STAFF COMMENTS Not applicable. Alphabet Inc.</td>\n",
              "      <td>NEGATIVE</td>\n",
              "      <td>112</td>\n",
              "    </tr>\n",
              "    <tr>\n",
              "      <th>6</th>\n",
              "      <td>ITEM 7. MANAGEMENTS DISCUSSION AND ANALYSIS OF FINANCIAL CONDITION AND RESULTS OF OPERATIONS OVERVIEW OF OUR PERFORMANCE, OPERATING ENVIRONMENT, STRATEGY AND OUTLOOK Financial Highlights The following is a summary of certain financial performance metrics (in billions, except per share data): 2021 Total Revenues$81.3 billion 2021 Net Cash Flow from Operations$32.6 billion An increase of 95% compared to 2020 An increase of 126% compared to 2020 2021 Reported Diluted EPS$3.85 2021 Adjusted Diluted EPS (Non-GAAP)$4.42* An increase of 137% compared to 2020 An increase of 96% compared to 2020 * For additional information regarding Adjusted diluted EPS (which is a non-GAAP financial measure), including reconciliations of certain GAAP reported to non-GAAP adjusted information, see the Non-GAAP Financial Measure: Adjusted Income section within MDA. References to operational variances pertain to period-over-period changes that exclude the impact of foreign exchange rates. Although foreign exchange rate changes are part of our business, they are not within our control and since they can mask positive or negative trends in the business, we believe presenting operational variances excluding these foreign exchange changes provides useful information to evaluate our results. Our Business and Strategy Most of our revenues come from the manufacture and sale of biopharmaceutical products. With the formation of the Consumer Healthcare JV in 2019 and the spin-off of our former Upjohn Business in the fourth quarter of 2020, Pfizer transformed into a more focused, global leader in science-based innovative medicines and vaccines and beginning in the fourth quarter of 2020 operated as a single operating segment engaged in the discovery, development, manufacturing, marketing, sale and distribution of biopharmaceutical products worldwide. At the beginning of our fiscal fourth quarter of 2021, we reorganized our commercial operations and began to manage our commercial operations through a new global structure consisting of two operating segments: Biopharma and PC1. Biopharma is the only reportable segment. On December 31, 2021, we completed the sale of our Meridian subsidiary, and beginning in the fourth quarter of 2021, the financial results of Meridian are reflected as discontinued operations for all periods presented. Beginning in the fourth quarter of 2020, the financial results of the Upjohn Business and the Mylan-Japan collaboration were reflected as discontinued operations for all periods presented. Prior-period information has been restated to reflect our current organizational structure. See Note 1A and Item 1. BusinessCommercial Operations of this Form 10-K for additional information. We expect to incur costs of approximately $700 million in connection with separating Upjohn, of which, approximately 75% has been incurred since inception and through December 31, 2021. These charges include costs and expenses related to separation of legal entities and transaction costs. Transforming to a More Focused Company: We have undertaken efforts to ensure our cost base and support model align appropriately with our new operating structure. While certain direct costs transferred to the Consumer Healthcare JV and to the Upjohn Business in connection with the spin-off, there are indirect costs which did not transfer. We are taking steps to restructure our corporate enabling functions to appropriately support our business, RD and PGS platform functions. In addition, we are transforming our commercial go-to market model in the way we engage patients and physicians. See the Costs and ExpensesRestructuring Charges and Other Costs Associated with Acquisitions and Cost-Reduction/Productivity Initiatives section of this MDA . RD: We believe we have a strong pipeline and are well-positioned for future growth. RD is at the heart of fulfilling our purpose to deliver breakthroughs that change patients lives as we work to translate advanced science and technologies into the therapies that may be the most impactful for patients. Innovation, drug discovery and development are critical to our success. In addition to discovering and developing new Pfizer Inc. 2021 Form 10-K products, our RD efforts seek to add value to our existing products by improving their effectiveness and ease of dosing and by discovering potential new indications. See the Item 1. Business  Research and Development section of this Form 10-K for our RD priorities and strategy. We seek to leverage a strong pipeline, organize around expected operational growth drivers and capitalize on trends creating long-term growth opportunities, including:  an aging global population that is generating increased demand for innovative medicines and vaccines that address patients unmet needs;  advances in both biological science and digital technology that are enhancing the delivery of breakthrough new medicines and vaccines; and  the increasingly significant role of hospitals in healthcare systems. Our Business Development Initiatives We are committed to strategically capitalizing on growth opportunities, primarily by advancing our own product pipeline and maximizing the value of our existing products, but also through various business development activities. We view our business development activity as an enabler of our strategies and seek to generate growth by pursuing opportunities and transactions that have the potential to strengthen our business and our capabilities. We assess our business, assets and scientific capabilities/portfolio as part of our regular, ongoing portfolio review process and also continue to consider business development activities that will help advance our business strategy. Our significant recent business development activities that closed or are targeted to close in 2022 include: Acquisition of Arena In December 2021, we and Arena announced that the companies entered into a definitive agreement under which we will acquire Arena, a clinical stage company developing innovative potential therapies for the treatment of several immuno-inflammatory diseases. Under the terms of the agreement, we will acquire all outstanding shares of Arena for $100 per share in an all-cash transaction for a total equity value of approximately $6.7 billion. On February 2, 2022, Arena shareholders voted to approve the proposed acquisition, which is targeted to close in the first half of 2022, subject to review under antitrust laws and other customary closing conditions. Collaboration with Biohaven In November 2021, we entered into a collaboration and license agreement and related sublicense agreement with Biohaven Pharmaceutical Holding Company Ltd., Biohaven Pharmaceutical Ireland DAC and BioShin Limited (collectively, Biohaven) pursuant to which we acquired rights to commercialize rimegepant and zavegepant for the treatment and prevention of migraines outside of the U.S., subject to regulatory approval. Rimegepant is currently commercialized in the U.S., Israel, and the U.A.E. under the brand name Nurtec  ODT, with certain additional applications pending outside of the U.S. Biohaven will continue to lead RD globally and we have the exclusive right to commercialization globally, outside of the U.S. Upon the closing of the transaction, which occurred on January 4, 2022, we paid Biohaven $500 million, including an upfront payment of $150 million and an equity investment of $350 million. Biohaven is also eligible to receive up to $740 million in non-U.S. commercialization milestone payments, in addition to tiered double-digit royalties on net sales outside of the U.S. In addition to the milestone payments and royalties above, we will also reimburse Biohaven for the portion of certain additional milestone payments and royalties due to third parties in accordance with preexisting Biohaven agreements, which are attributed to ex-U.S. sales. For additional information, including discussion of recent significant business development activities, see Note 2 . Our 2021 Performance Revenues Revenues increased $39.6 billion, or 95%, to $81.3 billion in 2021 from $41.7 billion in 2020, reflecting an operational increase of $38.4 billion, or 92%, as well as a favorable impact of foreign exchange of $1.2 billion, or 3%. Excluding direct sales and alliance revenues of Comirnaty and sales of Paxlovid, revenues increased 6% operationally, reflecting strong growth in Eliquis, Biosimilars, PC1, Vyndaqel/Vyndamax, the Hospital therapeutic area, Inlyta and Xtandi, partially offset by declines in the Prevnar family, Chantix/Champix, Enbrel and Sutent. The following outlines the components of the net change in revenues: See the Analysis of the Consolidated Statements of IncomeRevenues by Geography and RevenuesSelected Product Discussion sections within MDA for more information, including a discussion of key drivers of our revenue performance. For information regarding the primary indications or class of certain products, see Note 17C. Pfizer Inc. 2021 Form 10-K Income from Continuing Operations Before Provision/(Benefit) for Taxes on Income The increase in Income from continuing operations before provision/(benefit) for taxes on income of $17.3 billion in 2021, compared to 2020, was primarily attributable to: (i) higher revenues, (ii) net periodic benefit credits in 2021 versus net periodic benefit costs in 2020, (iii) lower asset impairment charges, and (iv) higher net gains on equity securities, partially offset by (v) increases in: Cost of sales, Research and development expenses and Selling, informational and administrative expenses. See the Analysis of the Consolidated Statements of Income within MDA and Note 4 for additional information. For information on our tax provision and effective tax rate, see the Provision/(Benefit) for Taxes on Income section within MDA and Note 5 . Our Operating Environment We, like other businesses in our industry, are subject to certain industry-specific challenges. These include, among others, the topics listed below. See also the Item 1. BusinessGovernment Regulation and Price Constraints and Item 1A. Risk Factors sections of this Form 10-K. Regulatory EnvironmentPipeline Productivity Our product lines must be replenished to offset revenue losses when products lose exclusivity or market share or to respond to healthcare and innovation trends, as well as to provide for earnings growth. As a result, we devote considerable resources to our RD activities which, while essential to our growth, incorporate a high degree of risk and cost, including whether a particular product candidate or new indication for an in-line product will achieve the desired clinical endpoint or safety profile, will be approved by regulators or will be successful commercially. We conduct clinical trials to provide data on safety and efficacy to support the evaluation of a products overall benefit-risk profile for a particular patient population. In addition, after a product has been approved or authorized and launched, we continue to monitor its safety as long as it is available to patients. This includes postmarketing trials that may be conducted voluntarily or pursuant to a regulatory request to gain additional medical knowledge. For the entire life of the product, we collect safety data and report safety information to the FDA and other regulatory authorities. Regulatory authorities may evaluate potential safety concerns and take regulatory actions in response, such as updating a products labeling, restricting its use, communicating new safety information to the public, or, in rare cases, requiring us to suspend or remove a product from the market. The commercial potential of in-line products may be negatively impacted by post-marketing developments. Intellectual Property Rights and Collaboration/Licensing Rights The loss, expiration or invalidation of intellectual property rights, patent litigation settlements with manufacturers and the expiration of co-promotion and licensing rights can have a material adverse effect on our revenues. Certain of our products have experienced patent-based expirations or loss of regulatory exclusivity in certain markets in the last few years, and we expect certain products to face increased generic competition over the next few years. While additional patent expiries will continue, we expect a moderate impact of reduced revenues due to patent expiries from 2022 through 2025. We continue to vigorously defend our patent rights against infringement, and we will continue to support efforts that strengthen worldwide recognition of patent rights while taking necessary steps to help ensure appropriate patient access. For additional information on patent rights we consider most significant to our business as a whole, see the Item 1. BusinessPatents and Other Intellectual Property Rights section in this Form 10-K. For a discussion of recent developments with respect to patent litigation, see Note 16A1. Regulatory Environment/Pricing and AccessGovernment and Other Payer Group Pressures The pricing of medicines by pharmaceutical manufacturers and the cost of healthcare, which includes medicines, medical services and hospital services, continues to be important to payers, governments, patients, and other stakeholders. Federal and state governments and private third-party payers in the U.S. continue to take action to manage the utilization of drugs and cost of drugs, including increasingly employing formularies to control costs by taking into account discounts in connection with decisions about formulary inclusion or favorable formulary placement. We consider a number of factors impacting the pricing of our medicines and vaccines. Within the U.S., we often engage with patients, doctors and healthcare plans. We also often provide significant discounts from the list price to insurers, including PBMs and MCOs. The price that patients pay in the U.S. for prescribed medicines and vaccines is ultimately set by healthcare providers and insurers. Governments globally may use a variety of measures to control costs, including proposing pricing reform or legislation, cross country collaboration and procurement, price cuts, mandatory rebates, health technology assessments, forced localization as a condition of market access, international reference pricing (i.e., the practice of a country linking its regulated medicine prices to those of other countries), QCE processes and VBP. In the U.S., we expect to see continued focus by Congress and the Biden Administration on regulating pricing which could result in legislative and regulatory changes designed to control costs. For example, there is proposed legislation that, if enacted, would allow Medicare to negotiate prices for certain prescription drugs, as well as require that penalties be paid by manufacturers who raise drug prices faster than inflation. Also, certain changes proposed by the CMS in December 2020 to the Medicaid program and 340B drug pricing program, which imposes ceilings on prices that drug manufacturers can charge for medications sold to certain health care facilities, could increase our Medicaid rebate obligations and increase the discounts we extend to 340B covered entities if they go into effect. Additional changes to the 340B program are undergoing review and their status is unclear. We anticipate that these and similar initiatives will continue to increase pricing pressures globally. For additional information, see the Item 1. Business  Pricing Pressures and Managed Care Organizations and  Government Regulation and Price Constraints sections in this Form 10-K. Product Supply We periodically encounter supply delays, disruptions or shortages, including due to voluntary product recalls such as our recent Chantix recall. For information on our recent Chantix recall and risks related to product manufacturing, see the Item 1A. Risk FactorsProduct Manufacturing, Sales and Marketing Risks section in this Form 10-K. The Global Economic Environment In addition to the industry-specific factors discussed above, we, like other businesses of our size and global extent of activities, are exposed to economic cycles. Certain factors in the global economic environment that may impact our global operations include, among other things, currency fluctuations, capital and exchange controls, global economic conditions including inflation, restrictive government actions, changes in intellectual property, legal protections and remedies, trade regulations, tax laws and regulations and procedures and actions affecting approval, Pfizer Inc. 2021 Form 10-K production, pricing, and marketing of, reimbursement for and access to our products, as well as impacts of political or civil unrest or military action, including the current conflict between Russia and Ukraine, terrorist activity, unstable governments and legal systems, inter-governmental disputes, public health outbreaks, epidemics, pandemics, natural disasters or disruptions related to climate change. Government pressures can lead to negative pricing pressure in various markets where governments take an active role in setting prices, access criteria or other means of cost control. COVID-19 Pandemic The COVID-19 pandemic has impacted our business, operations and financial condition and results. Our Response to COVID-19 Pfizer has helped lead the global effort to confront the COVID-19 pandemic by advancing a vision for industry-wide collaboration while making significant investments in breakthrough science and global manufacturing.  Comirnaty/BNT162b2 :  We have collaborated with BioNTech to jointly develop Comirnaty/BNT162b2, a mRNA-based coronavirus vaccine to help prevent COVID-19. The FDA has approved Comirnaty in the U.S. to prevent COVID-19 in individuals 16 years of age and older as a two-dose primary series (30 g per dose). Comirnaty is the first COVID-19 vaccine to be granted approval by the FDA and had previously been available to this patient population in the U.S. under an EUA since December 2020. The vaccine is also available to individuals 5 to 15 years old under an EUA granted by the FDA in 2021 (10 g per dose for children 5 through 11 years of age (October 2021) and 30 g per dose for individuals 12 years of age and older (May 2021)). The FDA has also authorized for emergency use: (i) a third dose of Comirnaty/BNT162b2 in certain immunocompromised individuals 5 years of age and older and (ii) Comirnaty/BNT162b2 as a booster dose in individuals 12 years of age and older. Comirnaty/BNT162b2 has also been granted an approval or an authorization in many other countries around the world in populations varying by country. We continue to evaluate our vaccine, including for additional pediatric indications, and the short- and long-term efficacy of Comirnaty. We are also studying vaccine candidates to potentially prevent COVID-19 caused by new and emerging variants, such as the Omicron variant, or an updated vaccine as needed.  In 2021, we manufactured more than three billion doses and, in fiscal 2021, delivered 2.2 billion doses around the world. Pfizer and BioNTech expect we can manufacture up to four billion doses in total by the end of 2022. The companies have entered into agreements to supply pre-specified doses of Comirnaty in 2022 with multiple developed and emerging countries around the world and are continuing to deliver doses of Comirnaty to governments under such agreements. We also signed agreements with multiple countries to supply Comirnaty doses in 2023 and are currently negotiating similar potential agreements with multiple other countries. We anticipate delivering at least two billion doses to low- and middle-income countries by the end of 2022one billion that was delivered in 2021 and one billion expected to be delivered in 2022, with the possibility to increase those deliveries if more orders are placed by these countries for 2022. One billion of the aforementioned doses to low- and middle-income countries are being supplied to the U.S. government at a not-for-profit price to be donated to the worlds poorest nations at no charge to those countries.  As of February 8, 2022, we forecasted approximately $32 billion in revenues for Comirnaty in 2022, with gross profit to be split evenly with BioNTech, which includes doses expected to be delivered in fiscal 2022 under contracts signed as of late-January 2022.  Paxlovid :  In December 2021, the FDA authorized the emergency use of Paxlovid, a novel oral COVID-19 treatment, which is a SARS-CoV2-3CL protease inhibitor and is co-administered with a low dose of ritonavir, for the treatment of mild-to-moderate COVID-19 in adults and pediatric patients (12 years of age and older weighing at least 40 kg [88 lbs]) with positive results of direct SARS-CoV-2 viral testing, and who are at high risk for progression to severe COVID-19, including hospitalization or death. The FDA based its decision on clinical data from the Phase 2/3 EPIC-HR (Evaluation of Protease Inhibition for COVID-19 in High-Risk Patients), which enrolled non-hospitalized adults aged 18 and older with confirmed COVID-19 who are at increased risk of progressing to severe illness. Paxlovid has been granted an authorization or approval in many other countries.  We continue to evaluate Paxlovid in other populations, including in patients with a confirmed diagnosis of SARS-CoV-2 infection who are at standard risk (i.e., low risk of hospitalization or death) (Phase 2/3 EPIC-SR (Evaluation of Protease Inhibition for COVID-19 in Standard Risk Patients)) and in adults living in the same household as someone with a confirmed COVID-19 infection (Phase 2/3 EPIC-PEP (Evaluation of Protease Inhibition for COVID-19 in Post-Exposure Prophylaxis)).  We have entered into agreements with multiple countries to supply pre-specified courses of Paxlovid, such as the U.S. and U.K., and have initiated bilateral outreach to approximately 100 countries around the world. Additionally, we have signed a voluntary non-exclusive license agreement with the Medicines Patent Pool (MPP) for Paxlovid. Under the terms of the agreement, MPP can grant sublicenses to qualified generic medicine manufacturers worldwide to manufacture and supply Paxlovid to 95 low- and middle-income countries, covering up to approximately 53% of the worlds population.  Pfizer plans to manufacture up to 120 million treatment courses by the end of 2022, depending on the global need, which will be driven by advance purchase agreements, with 30 million courses expected to be produced in the first half of 2022 and the remaining 90 million courses expected to be produced in the second half of 2022.  As of February 8, 2022, we forecasted approximately $22 billion of revenues for Paxlovid in 2022, which includes treatment courses expected to be delivered in fiscal 2022, primarily relating to supply contracts signed or committed as of late-January 2022.  IV Protease Inhibitor:  In February 2022, we discontinued the global clinical development program for PF-07304814, an intravenously administered SARS-CoV-2 main protease inhibitor being evaluated in adults hospitalized with severe COVID-19. This decision was made based on a totality of information, including a careful review of early data and a thorough assessment of the candidates potential to successfully fulfill patient needs. Dosing of PF-07304814 in the National Institutes of Healths ongoing Accelerating COVID-19 Therapeutic Interventions and Vaccines (ACTIV)-3 study has ceased. Impact of COVID-19 on Our Business and Operations As part of our on-going monitoring and assessment, we have made certain assumptions regarding the pandemic for purposes of our operational planning and financial projections, including assumptions regarding the duration, severity and the global macroeconomic impact of the pandemic, Pfizer Inc. 2021 Form 10-K as well as COVID-19 vaccine and oral COVID-19 treatment supply and contracts, which remain dynamic. Despite careful tracking and planning, we are unable to accurately predict the extent of the impact of the pandemic on our business, operations and financial condition and results due to the uncertainty of future developments. We are focused on all aspects of our business and are implementing measures aimed at mitigating issues where possible, including by using digital technology to assist in operations for our commercial, manufacturing, RD and corporate enabling functions globally. Apart from our introduction of Comirnaty/BNT162b2 and Paxlovid, our business and operations have been impacted by the pandemic in various ways. Our portfolio of products experienced varying impacts from the pandemic in 2021. For example, certain of our vaccines such as the Prevnar family were impacted by disruptions to healthcare activity related to COVID-19, including the prioritization of primary and booster vaccination campaigns for COVID-19. For some products such as Vyndaqel/Vyndamax, we continued to see postponement of elective and diagnostic procedures in 2021 due to COVID-19, which may subside in 2022 as COVID-19 vaccination and booster rates continue to increase and/or if COVID-19 cases subside. On the other hand, some products such as Ibrance saw accelerating demand in 2021 as the delays in diagnosis and treatment initiations caused by the COVID-19 pandemic show signs of recovery across several international markets. For detail on the impact of the COVID-19 pandemic on certain of our products, see the Analysis of the Consolidated Statements of IncomeRevenues by Geography and RevenuesSelected Product Discussion sections within this MDA. In 2021, engagement with healthcare professionals started to return to pre-pandemic levels and we continue to review and assess epidemiological data to inform in-person engagements with healthcare professionals and to help ensure the safety of our colleagues, customers and communities. As part of our commitment to engaging our customers in the manner they prefer, we are also taking a hybrid approach of virtual and in person engagements and saw customer response to both approaches. During the pandemic, we adapted our promotional platform by amplifying our digital capabilities to reach healthcare professionals and customers to provide critical education and information, including increasing the scale of our remote engagement. Most of our colleagues who are able to perform their job functions outside of our facilities continue to temporarily work remotely, while certain colleagues in the PGS and WRDM organizations continue to work onsite and are subject to strict protocols intended to reduce the risk of transmission. As of December 31, 2021, more than 96% of our U.S. employee population had been fully vaccinated or received an approved exception. Also, in 2021 and to date, we have not seen a significant disruption to our supply chain, and all of our manufacturing sites globally have continued to operate at or near normal levels. However, we are seeing an increase in overall demand in the industry for certain components and raw materials potentially constraining available supply, which could have a future impact on our business. We are continuing to monitor and implement mitigation strategies in an effort to reduce any potential risk or impact including active supplier management, qualification of additional suppliers and advanced purchasing to the extent possible. Certain of our clinical trials were impacted by the COVID-19 pandemic in 2021, which included, in some cases, challenges related to recruiting clinical trial participants and accruing cases in certain studies. Our clinical trials also progressed in this challenging environment through innovation, such as decentralized visits (e.g., telemedicine and home visits) to accommodate participants ability to maintain scheduled visits, as well as working with suppliers to manage the shortage of certain clinical supplies. We will continue to pursue efforts to maintain the continuity of our operations while monitoring for new developments related to the pandemic. Future developments could result in additional favorable or unfavorable impacts on our business, operations or financial condition and results. If we experience significant disruption in our manufacturing or supply chains or significant disruptions in clinical trials or other operations, or if demand for our products is significantly reduced as a result of the COVID-19 pandemic, we could experience a material adverse impact on our business, operations and financial condition and results. For additional information, please see the Item 1A. Risk FactorsCOVID-19 Pandemic section of this Form 10-K. SIGNIFICANT ACCOUNTING POLICIES AND APPLICATION OF CRITICAL ACCOUNTING ESTIMATES AND ASSUMPTIONS Following is a discussion about the critical accounting estimates and assumptions impacting our consolidated financial statements. Also, see Note 1D . For a description of our significant accounting policies, see Note 1 . Of these policies, the following are considered critical to an understanding of our consolidated financial statements as they require the application of the most subjective and the most complex judgments: Acquisitions ( Note 1E ); Fair Value ( Note 1F ); Revenues ( Note 1H ); Asset Impairments ( Note 1M ); Tax Assets and Liabilities and Income Tax Contingencies ( Note 1Q ); Pension and Postretirement Benefit Plans ( Note 1R ); and Legal and Environmental Contingencies ( Note 1S ). For a discussion of a recently adopted accounting standard and a change in accounting principle related to our pension and postretirement plans, see Notes 1B and 1C. Acquisitions We account for acquired businesses using the acquisition method of accounting, which requires, among other things, that most assets acquired and liabilities assumed be recognized at their estimated fair value as of the acquisition date. For further detail on acquisition accounting, see Note 1E . Historically, intangible assets have been the most significant fair values within our business combinations. For further information on our process to estimate the fair value of intangible assets, see Asset Impairments below. Revenues Our gross product revenues are subject to a variety of deductions, which generally are estimated and recorded in the same period that the revenues are recognized. Such variable consideration represents chargebacks, rebates, sales allowances and sales returns. These deductions represent estimates of the related obligations and, as such, knowledge and judgment are required when estimating the impact of these revenue deductions on gross sales for a reporting period. Historically, adjustments to these estimates to reflect actual results or updated expectations, have not been material to our overall business and generally have been less than 1% of revenues. Product-specific rebates, however, can have a significant impact on year-over-year individual product revenue growth trends. If any of our ratios, factors, assessments, experiences or judgments are not indicative or accurate estimates of our future experience, our results could be materially affected. The potential of our estimates to vary (sensitivity) differs by program, product, type of customer and geographic location. However, estimates associated with U.S. Medicare, Medicaid and performance-based contract rebates are most at risk for material adjustment because of the extensive time delay Pfizer Inc. 2021 Form 10-K between the recording of the accrual and its ultimate settlement, an interval that can generally range up to one year. Because of this lag, our recording of adjustments to reflect actual amounts can incorporate revisions of several prior quarters. Rebate accruals are product specific and, therefore for any period, are impacted by the mix of products sold as well as the forecasted channel mix for each individual product. For further information, see the Analysis of the Consolidated Statements of IncomeRevenue Deductions section within MDA and Note 1H . Asset Impairments We review all of our long-lived assets for impairment indicators throughout the year. We perform impairment testing for indefinite-lived intangible assets and goodwill at least annually and for all other long-lived assets whenever impairment indicators are present. When necessary, we record charges for impairments of long-lived assets for the amount by which the fair value is less than the carrying value of these assets. Our impairment review processes are described in Note 1M. Examples of events or circumstances that may be indicative of impairment include:  A significant adverse change in legal factors or in the business climate that could affect the value of the asset. For example, a successful challenge of our patent rights would likely result in generic competition earlier than expected.  A significant adverse change in the extent or manner in which an asset is used such as a restriction imposed by the FDA or other regulatory authorities that could affect our ability to manufacture or sell a product.  An expectation of losses or reduced profits associated with an asset. This could result, for example, from a change in a government reimbursement program that results in an inability to sustain projected product revenues and profitability. This also could result from the introduction of a competitors product that impacts projected revenue growth, as well as the lack of acceptance of a product by patients, physicians and payers. For IPRD projects, this could result from, among other things, a change in outlook based on clinical trial data, a delay in the projected launch date or additional expenditures to commercialize the product. Identifiable Intangible Assets We use an income approach, specifically the discounted cash flow method to determine the fair value of intangible assets, other than goodwill. We start with a forecast of all the expected net cash flows associated with the asset, which incorporates the consideration of a terminal value for indefinite-lived assets, and then we apply an asset-specific discount rate to arrive at a net present value amount. Some of the more significant estimates and assumptions that impact our fair value estimates include: the amount and timing of the projected net cash flows, which includes the expected impact of competitive, legal and/or regulatory forces on the projections and the impact of technological advancements and risk associated with IPRD assets, as well as the selection of a long-term growth rate; the discount rate, which seeks to reflect the various risks inherent in the projected cash flows; and the tax rate, which seeks to incorporate the geographic origin of the projected cash flows. While all intangible assets other than goodwill can face events and circumstances that can lead to impairment, those that are most at risk of impairment include IPRD assets (approximately $3.1 billion as of December 31, 2021) and newly acquired or recently impaired indefinite-lived brand assets. IPRD assets are high-risk assets, given the uncertain nature of RD. Newly acquired and recently impaired indefinite-lived assets are more vulnerable to impairment as the assets are recorded at fair value and are then subsequently measured at the lower of fair value or carrying value at the end of each reporting period. As such, immediately after acquisition or impairment, even small declines in the outlook for these assets can negatively impact our ability to recover the carrying value and can result in an impairment charge. Goodwill Our goodwill impairment review work as of December 31, 2021 concluded that none of our goodwill was impaired and we do not believe the risk of impairment is significant at this time. In our review, we first assess qualitative factors to determine whether it is more likely than not that the fair value of a reporting unit is less than its carrying amount. Qualitative factors that we consider include, for example, macroeconomic and industry conditions, overall financial performance and other relevant entity-specific events. If we conclude that it is more likely than not that the fair value of a reporting unit is less than its carrying value, we then perform a quantitative fair value test. When we are required to determine the fair value of a reporting unit, we typically use the income approach. The income approach is a forward-looking approach to estimating fair value and relies primarily on internal forecasts. Within the income approach, we use the discounted cash flow method. We start with a forecast of all the expected net cash flows for the reporting unit, which includes the application of a terminal value, and then we apply a reporting unit-specific discount rate to arrive at a net present value amount. Some of the more significant estimates and assumptions inherent in this approach include: the amount and timing of the projected net cash flows, which includes the expected impact of technological risk and competitive, legal and/or regulatory forces on the projections, as well as the selection of a long-term growth rate; the discount rate, which seeks to reflect the various risks inherent in the projected cash flows; and the tax rate, which seeks to incorporate the geographic diversity of the projected cash flows. For all of our reporting units, there are a number of future events and factors that may impact future results and that could potentially have an impact on the outcome of subsequent goodwill impairment testing. For a list of these factors, see the Forward-Looking Information and Factors That May Affect Future Result s and the Item 1A. Risk Factors sections in this Form 10-K. Benefit Plans For a description of our different benefit plans, see Note 11 . Our assumptions reflect our historical experiences and our judgment regarding future expectations that have been deemed reasonable by management. The judgments made in determining the costs of our benefit plans can materially impact our results of operations. Pfizer Inc. 2021 Form 10-K The following provides (i) at the end of each year, the expected annual rate of return on plan assets for the following year, (ii) the actual annual rate of return on plan assets achieved in each year, and (iii) the weighted-average discount rate used to measure the benefit obligations at the end of each year for our U.S. pension plans and our international pension plans (a) : 2021 2020 2019 U.S. Pension Plans Expected annual rate of return on plan assets 6.3  % 6.8 % 7.0 % Actual annual rate of return on plan assets 9.2  14.1 22.6 Discount rate used to measure the plan obligations 2.9  2.6 3.3 International Pension Plans Expected annual rate of return on plan assets 3.1  3.4 3.6 Actual annual rate of return on plan assets 11.4  9.7 10.7 Discount rate used to measure the plan obligations 1.6  1.5 1.7 (a) For detailed assumptions associated with our benefit plans, see Note 11B . Expected Annual Rate of Return on Plan Assets The assumptions for the expected annual rate of return on all of our plan assets reflect our actual historical return experience and our long-term assessment of forward-looking return expectations by asset classes, which is used to develop a weighted-average expected return based on the implementation of our targeted asset allocation in our respective plans. The expected annual rate of return on plan assets for our U.S. plans and the majority of our international plans is applied to the fair value of plan assets at each year-end and the resulting amount is reflected in our net periodic benefit costs in the following year. The following illustrates the sensitivity of net periodic benefit costs to a 50 basis point decline in our assumption for the expected annual rate of return on plan assets, holding all other assumptions constant (in millions, pre-tax): Assumption Change Increase in 2022 Net Periodic Benefit Costs Expected annual rate of return on plan assets 50 basis point decline $133 The actual return on plan assets was approximately $2.6 billion during 2021 . Discount Rate Used to Measure Plan Obligations The weighted-average discount rate used to measure the plan obligations for our U.S. defined benefit plans is determined at least annually and evaluated and modified, as required, to reflect the prevailing market rate of a portfolio of high-quality fixed income investments, rated AA/Aa or better, that reflect the rates at which the pension benefits could be effectively settled. The discount rate used to measure the plan obligations for our international plans is determined at least annually by reference to investment grade corporate bonds, rated AA/Aa or better, including, when there is sufficient data, a yield-curve approach. These discount rate determinations are made in consideration of local requirements. The measurement of the plan obligations at the end of the year will affect the amount of service cost, interest cost and amortization expense reflected in our net periodic benefit costs in the following year. The following illustrates the sensitivity of net periodic benefit costs and benefit obligations to a 10 basis point decline in our assumption for the discount rate, holding all other assumptions constant (in millions, pre-tax): Assumption Change Decrease in 2022 Net Periodic Benefit Costs Increase to 2021 Benefit Obligations Discount rate 10 basis point decline $16 $442 The change in the discount rates used in measuring our plan obligations as of December 31, 2021 resulted in a decrease in the measurement of our aggregate plan obligations by approximately $786 million. Income Tax Assets and Liabilities Income tax assets and liabilities include income tax valuation allowances and accruals for uncertain tax positions. For additional information, see Notes 1Q and 5, as well as the Analysis of Financial Condition, Liquidity, Capital Resources and Market Risk section within MDA . Contingencies We and certain of our subsidiaries are subject to numerous contingencies arising in the ordinary course of business, including tax, legal contingencies and guarantees and indemnifications. For additional information, see Notes 1Q , 1S , 5D and 16 . Pfizer Inc. 2021 Form 10-K ANALYSIS OF THE CONSOLIDATED STATEMENTS OF INCOME Revenues by Geography The following presents worldwide revenues by geography:  Year Ended December 31, % Change  Worldwide U.S. International Worldwide U.S. International (MILLIONS) 2021 2020 2019 2021 2020 2019 2021 2020 2019 21/20 20/19 21/20 20/19 21/20 20/19 Operating segments: Biopharma $ 79,557  $ 40,724 $ 38,013 $ 29,221  $ 21,055 $ 18,901 $ 50,336  $ 19,670 $ 19,112 95  7 39  11 156  3 Pfizer CentreOne 1,731  926 810 524  400 437 1,206  526 374 87  14 31  (8) 129  41 Consumer Healthcare    2,082    988    1,094   (100)   (100)   (100) Total revenues $ 81,288  $ 41,651 $ 40,905 $ 29,746  $ 21,455 $ 20,326 $ 51,542  $ 20,196 $ 20,579 95  2 39  6 155  (2) 2021 v. 2020 The following provides an analysis of the change in worldwide revenues by geographic areas in 2021: (MILLIONS) Worldwide U.S. International Operational growth/(decline): Growth from Comirnaty, Eliquis, Biosimilars, Vyndaqel/Vyndamax, the Hospital therapeutic area, Inlyta and Xtandi, partially offset by a decline from the Prevnar family, while Xeljanz and Ibrance were flat. See the Analysis of the Consolidated Statements of IncomeRevenuesSelected Product Discussion within MDA for additional analysis $ 38,546  $ 8,802  $ 29,744  Growth from PC1 primarily reflecting manufacturing of legacy Upjohn products for Viatris under manufacturing and supply agreements and certain Comirnaty-related manufacturing activities performed on behalf of BioNTech. See the Analysis of the Consolidated Statements of IncomeRevenuesSelected Product Discussion within MDA for additional analysis 780  124  656  Lower revenues for Chantix/Champix, Enbrel and Sutent:  The decrease for Chantix/Champix was driven by the voluntary recall across multiple markets in the second half of 2021 and the ongoing global pause in shipments of Chantix due to the presence of N-nitroso-varenicline above an acceptable level of intake set by various global regulators, the ultimate timing for resolution of which may vary by country, and the negative impact of the COVID-19 pandemic resulting in a decline in patient visits to doctors for preventive health purposes  The decrease for Enbrel internationally primarily reflects continued biosimilar competition, which is expected to continue  The decrease for Sutent primarily reflects lower volume demand in the U.S. resulting from its loss of exclusivity in August 2021, as well as continued erosion as a result of increased competition in certain international developed markets (869) (501) (368) Other operational factors, net (27) (134) 106  Operational growth, net 38,429  8,291  30,137  Favorable impact of foreign exchange 1,208    1,208  Revenues increase/(decrease) $ 39,637  $ 8,291  $ 31,346  Emerging markets revenues increased $12.3 billion, or 147%, in 2021 to $20.7 billion from $8.4 billion in 2020, reflecting an operational increase of $12.2 billion, or 145%, and a favorable impact from foreign exchange of approximately 2%. The operational increase in emerging markets was primarily driven by revenues from Comirnaty and growth from certain products in the Hospital therapeutic area, Eliquis and PC1, partially offset by a decline from the Prevnar family. Pfizer Inc. 2021 Form 10-K 2020 v. 2019 The following provides an analysis of the change in worldwide revenues by geographic areas in 2020: (MILLIONS) Worldwide U.S. International Operational growth/(decline): Growth from Vyndaqel/Vyndamax, Eliquis, Biosimilars, Ibrance, Inlyta, Xeljanz, Xtandi, the Hospital therapeutic area and the Prevnar family $ 3,560 $ 2,132 $ 1,428 Growth from PC1 in international markets driven by growth of certain key accounts as well new contract manufacturing activities 114 (36) 151 Impact of completion of the Consumer Healthcare JV transaction. Revenues in 2019 reflect seven months of Consumer Healthcare business domestic operations and eight months of international operations, and none in 2020 (2,082) (988) (1,094) Lower revenues for Enbrel internationally, primarily reflecting continued biosimilar competition in most developed Europe markets, as well as in Japan and Brazil, all of which is expected to continue (320)  (320) Decline from Chantix/Champix reflecting the negative impact of the COVID-19 pandemic resulting in a decline in patient visits to doctors for preventive health purposes as well as the loss of patent protection in the U.S. in November 2020 (185) (183) (2) Other operational factors, net (9) 205 (214) Operational growth/(decline), net 1,078 1,129 (50) Unfavorable impact of foreign exchange (331)  (331) Revenues increase/(decrease) $ 746 $ 1,129 $ (383) Revenues for 2020 included an estimated unfavorable impact of approximately $700 million, or 2%, due to COVID-19, primarily reflecting lower demand for certain products in China and unfavorable disruptions to wellness visits for patients in the U.S., which negatively impacted prescribing patterns for certain products, partially offset by increased U.S. demand for certain sterile injectable products and increased adult uptake for the Prevnar family in certain international markets, resulting from greater vaccine awareness for respiratory illnesses, and U.S. revenues for Comirnaty. Emerging markets revenues decreased $456 million, or 5%, in 2020 to $8.4 billion, from $8.8 billion in 2019, and were relatively flat operationally, reflecting an unfavorable impact of foreign exchange of 5% on emerging markets revenues. The relatively flat operational performance was primarily driven by growth from Eliquis, the Prevnar family, Ibrance and Zavicefta, offset by lower revenues for Consumer Healthcare, reflecting the July 31, 2019 completion of the Consumer Healthcare JV transaction. Revenue Deductions Our gross product revenues are subject to a variety of deductions, which generally are estimated and recorded in the same period that the revenues are recognized. These deductions represent estimates of related obligations and, as such, knowledge and judgment are required when estimating the impact of these revenue deductions on gross sales for a reporting period. Historically, adjustments to these estimates to reflect actual results or updated expectations, have not been material to our overall business and generally have been less than 1% of revenues. Product-specific rebates, however, can have a significant impact on year-over-year individual product revenue growth trends. The following presents information about revenue deductions:  Year Ended December 31, (MILLIONS) 2021 2020 2019 Medicare rebates $ 726  $ 647 $ 628 Medicaid and related state program rebates 1,214  1,136 1,259 Performance-based contract rebates 3,253  2,660 2,332 Chargebacks 6,122  4,531 3,411 Sales allowances 4,809  3,835 3,776 Sales returns and cash discounts 1,054  924 878 Total $ 17,178  $ 13,733 $ 12,284 Revenue deductions are primarily a function of product sales volume, mix of products sold, contractual or legislative discounts and rebates. For information on our accruals for revenue deductions, including the balance sheet classification of these accruals, see Note 1H . Pfizer Inc. 2021 Form 10-K RevenuesSelected Product Discussion Biopharma Revenue (MILLIONS) Year Ended Dec. 31, % Change Product Global Revenues Region 2021 2020 Total Oper. Operational Results Commentary Comirnaty (a) $36,781 * U.S. $ 7,809  $ 154 * Driven by global uptake, following a growing number of regulatory approvals and temporary authorizations. Intl. 28,972   * * Worldwide $ 36,781  $ 154 * * Eliquis $5,970 Up 19% (operationally) U.S. $ 3,160  $ 2,688 18 Global growth driven primarily by continued increased adoption in non-valvular atrial fibrillation and oral anti-coagulant market share gains, as well as a favorable adjustment related to the Medicare coverage gap provision resulting from lower than previously expected discounts in prior periods. Intl. 2,810  2,260 24 21 Worldwide $ 5,970  $ 4,949 21 19 Ibrance $5,437 Flat  (operationally) U.S. $ 3,418  $ 3,634 (6) Flat performance driven primarily by accelerating demand internationally as the delays in diagnosis and treatment initiations caused by the COVID-19 pandemic show signs of recovery across several international markets, offset by a decline in the U.S., primarily driven by an increase in the proportion of patients accessing Ibrance through our Patient Assistance Program. Intl. 2,019  1,758 15 12 Worldwide $ 5,437  $ 5,392 1  Prevnar family $5,272 Down 11% (operationally) U.S. $ 2,701  $ 2,930 (8) Decline primarily resulting from:  the normalization of demand in Germany and certain other developed markets following significantly increased adult demand in 2020 resulting from greater vaccine awareness for respiratory illnesses due to the COVID-19 pandemic;  the adult indication due to disruptions to healthcare activity related to COVID-19, including the prioritization of primary and booster vaccination campaigns for COVID-19 in the U.S.;  the continued impact of the lower remaining unvaccinated eligible adult population in the U.S. and the June 2019 change to the ACIP recommendation for the Prevnar 13 adult indication to shared clinical decision-making; and  a decline in the pediatric indication internationally due to disruptions to healthcare activity related to COVID-19. This decline was partially offset by:  U.S. growth in the pediatric indication, driven by government purchasing patterns, which was partially offset by disruptions to healthcare activity related to COVID-19. Intl. 2,571  2,920 (12) (13) Worldwide $ 5,272  $ 5,850 (10) (11) Xeljanz $2,455 Flat (operationally) U.S. $ 1,647  $ 1,706 (3) Flat performance as a decline in the U.S. was offset by operational growth internationally. The decline in the U.S. was primarily driven by:  the negative impact of data from a long-term safety study, which resulted in JAK class labeling issued by the FDA in December 2021;  an unfavorable change in channel mix toward lower-priced channels, despite a 2% increase in underlying demand, driven by growth in our UC and PsA indications; and  continued investments to improve formulary positioning and unlock access to additional patient lives. The decline in the U.S. was offset by:  operational growth internationally mainly driven by continued uptake in the UC indication in certain developed markets. Intl. 808  731 11 8 Worldwide $ 2,455  $ 2,437 1  Vyndaqel/ Vyndamax $2,015 Up 55% (operationally) U.S. $ 909  $ 613 48 Growth primarily driven by continued strong uptake of the ATTR-CM indication in the U.S., developed Europe and Japan. Intl. 1,106  675 64 61 Worldwide $ 2,015  $ 1,288 56 55 Xtandi $1,185 Up 16% (operationally) U.S. $ 1,185  $ 1,024 16 Growth primarily driven by strong demand across the mCRPC, nmCRPC and mCSPC indications. Intl.      Worldwide $ 1,185  $ 1,024 16 16 Inlyta $1,002 Up 26% (operationally) U.S. $ 599  $ 523 15 Growth primarily reflects continued adoption in developed Europe and the U.S. of combinations of certain immune checkpoint inhibitors and Inlyta for the first-line treatment of patients with advanced RCC. Intl. 403  264 53 49 Worldwide $ 1,002  $ 787 27 26 Pfizer Inc. 2021 Form 10-K Revenue (MILLIONS) Year Ended Dec. 31, % Change Product Global Revenues Region 2021 2020 Total Oper. Operational Results Commentary Biosimilars $2,343 Up 51% (operationally) U.S. $ 1,561  $ 899 74 Growth primarily driven by recent oncology monoclonal antibody biosimilar launches and growth from Retacrit in the U.S. Intl. 782  628 25 19 Worldwide $ 2,343  $ 1,527 53 51 Hospital $7,301 Up 5% (operationally) U.S. $ 2,688  $ 2,705 (1) Growth primarily driven by the anti-infectives portfolio in international markets, primarily as a result of recent launches of Zavicefta and Cresemba. Intl. 4,613  4,073 13 9 Worldwide $ 7,301  $ 6,777 8 5 Pfizer CentreOne Revenue (MILLIONS) Year Ended Dec. 31, % Change Operating Segment Global Revenues Region 2021 2020 Total Oper. Operational Results Commentary PC1 $1,731 Up 84% (operationally) U.S. $ 524  $ 400 31 Growth primarily reflects manufacturing of legacy Upjohn products for Viatris under manufacturing and supply agreements and certain Comirnaty-related manufacturing activities performed on behalf of BioNTech. Intl. 1,206  526 129 125 Worldwide $ 1,731  $ 926 87 84 (a) Comirnaty includes direct sales and alliance revenues related to sales of the Pfizer-BioNTech COVID-19 vaccine, which are recorded within our Vaccines therapeutic area. It does not include revenues for certain Comirnaty-related manufacturing activities performed on behalf of BioNTech, which are included in the PC1 contract development and manufacturing organization. Revenues related to these manufacturing activities totaled $320 million for 2021 and $0 million in 2020. * Calculation is not meaningful or results are equal to or greater than 100%. See the Item 1. Business  Patents and Other Intellectual Property Rights section in this Form 10-K for information regarding the expiration of various patent rights, Note 16 for a discussion of recent developments concerning patent and product litigation relating to certain of the products discussed above and Note 17C for additional information regarding the primary indications or class of the selected products discussed above. Costs and Expenses Costs and expenses follow: Year Ended December 31, % Change (MILLIONS) 2021 2020 2019 21/20 20/19 Cost of sales $ 30,821  $ 8,484 $ 8,054 * 5 Percentage of Revenues 37.9  % 20.4 % 19.7 % Selling, informational and administrative expenses 12,703  11,597 12,726 10  (9) Research and development expenses 13,829  9,393 8,385 47  12 Amortization of intangible assets 3,700  3,348 4,429 11  (24) Restructuring charges and certain acquisition-related costs 802  579 601 38  (4) Other (income)/deductionsnet (4,878) 1,219 3,497 * (65) * Calculation is not meaningful or results are equal to or greater than 100%. Cost of Sales 2021 v. 2020 Cost of sales increased $22.3 billion, primarily due to:  the impact of Comirnaty, which includes a charge for the 50% gross profit split with BioNTech and applicable royalty expenses;  increased sales volumes of other products, driven mostly by PC1; and  the unfavorable impact of foreign exchange and hedging activity on intercompany inventory. The increase in Cost of sales as a percentage of revenues was primarily due to all of the factors discussed above, partially offset by an increase in alliance revenues, which have no associated cost of sales. 2020 v. 2019 Cost of sales increased $431 million, primarily due to:  increased sales volumes;  an increase in royalty expenses, due to an increase in sales of related products;  an unfavorable impact of incremental costs incurred in response to the COVID-19 pandemic; and Pfizer Inc. 2021 Form 10-K  an unfavorable impact of foreign exchange and hedging activity on intercompany inventory, partially offset by:  the favorable impact of the July 31, 2019 completion of the Consumer Healthcare JV transaction. The increase in Cost of sales as a percentage of revenues was primarily due to all of the factors discussed above, partially offset by an increase in alliance revenues, which have no associated cost of sales. Selling, Informational and Administrative (SIA) Expenses 2021 v. 2020 SIA expenses increased $1.1 billion, mostly due to:  increased product-related spending across multiple therapeutic areas;  costs related to Comirnaty, driven by a higher provision for healthcare reform fees based on sales; and  an increase in costs related to implementing our cost-reduction/productivity initiatives, partially offset by:  lower spending on Chantix following the loss of patent protection in the U.S. in November 2020. 2020 v. 2019 SIA expenses decreased $1.1 billion, mostly due to:  the favorable impact of the July 31, 2019 completion of the Consumer Healthcare JV transaction;  lower spending for corporate enabling functions;  lower spending on sales and marketing activities due to the impact of the COVID-19 pandemic; and  lower investments across the Internal Medicine and Inflammation  Immunology portfolios, partially offset by:  an increase in costs related to implementing our cost-reduction/productivity initiatives; and  an increase in business and legal entity alignment costs. Research and Development (RD) Expenses 2021 v. 2020 RD expenses increased $4.4 billion, primarily due to:  a charge for acquired IPRD related to our acquisition of Trillium;  a net increase in charges for upfront and milestone payments on collaboration and licensing arrangements, driven by payments to Arvinas and Beam; and  increased investments across multiple therapeutic areas, including additional spending related to the development of the oral COVID-19 treatment program. 2020 v. 2019 RD expenses increased $1.0 billion, mainly due to:  costs related to our collaboration agreement with BioNTech to co-develop a COVID-19 vaccine, including an upfront payment to BioNTech and a premium paid on our equity investment in BioNTech;  a net increase in upfront payments, mainly related to Myovant and Valneva; and  increased investments towards building new capabilities and driving automation, partially offset by:  a net reduction of upfront and milestone payments associated with the acquisition of Therachon and Akcea in 2019. Amortization of Intangible Assets 2021 v. 2020 Amortization of intangible assets increased $353 million, primarily due to amortization of capitalized Comirnaty sales milestones to BioNTech. 2020 v. 2019 Amortization of intangible assets decreased $1.1 billion, mainly due the non-recurrence of amortization of fully amortized assets and the impairment of Eucrisa in the fourth quarter of 2019, partially offset by the increase in amortization of intangible assets from our acquisition of Array. For additional information, see Notes 2A and 10A . Restructuring Charges and Other Costs Associated with Acquisitions and Cost-Reduction/Productivity Initiatives Transforming to a More Focused Company Program For a description of our program, as well as the anticipated and actual costs, see Note 3. The program savings discussed below may be rounded and represent approximations. In connection with restructuring our corporate enabling functions, we expect gross cost savings of $1.0 billion, or net cost savings, excluding merit and inflation growth and certain real estate cost increases, of $700 million, to be achieved primarily from 2021 through 2022. In connection with transforming our marketing strategy, we expect net cost savings of $1.3 billion, to be achieved primarily from Pfizer Inc. 2021 Form 10-K 2022 through 2024. In connection with manufacturing network optimization, we expect net cost savings of $550 million to be achieved primarily from 2020 through 2023. Certain qualifying costs for this program were recorded in 2021 and 2020, and in the fourth quarter of 2019, and are reflected as Certain Significant Items and excluded from our non-GAAP measure of Adjusted Income. See the Non-GAAP Financial Measure: Adjusted Income section of this MDA. In addition to this program, we continuously monitor our operations for cost reduction and/or productivity opportunities, especially in light of the losses of exclusivity and the expiration of collaborative arrangements for various products. Other (Income)/DeductionsNet 2021 v. 2020 Other incomenet increased $6.1 billion, mainly due to:  net periodic benefit credits recorded in 2021 versus net periodic benefit costs recorded in 2020;  lower asset impairment charges;  higher net gains on equity securities; and  net gains on asset disposals in 2021 versus net losses in 2020. 2020 v. 2019 Other deductionsnet decreased $2.3 billion, mainly due to:  lower asset impairment charges;  lower business and legal entity alignment costs;  higher Consumer Healthcare JV equity method income;  lower charges for certain legal matters; and  higher income from collaborations, out-licensing arrangements and sales of compound/product rights, partially offset by:  higher net losses on asset disposals. See Note 4 for additional information . Provision/(Benefit) for Taxes on Income  Year Ended December 31, % Change (MILLIONS) 2021 2020 2019 21/20 20/19 Provision/(benefit) for taxes on income $ 1,852  $ 370 $ 583 * (36) Effective tax rate on continuing operations 7.6  % 5.3 % 5.2 % * Indicates calculation not meaningful or result is equal to or greater than 100%. For information about our effective tax rate and the events and circumstances contributing to the changes between periods, as well as details about discrete elements that impacted our tax provisions, see Note 5 . Discontinued Operations For information about our discontinued operations, see Note 2B . PRODUCT DEVELOPMENTS A comprehensive update of Pfizers development pipeline was published as of February 8, 2022 and is available at www.pfizer.com/science/drug-product-pipeline. It includes an overview of our research and a list of compounds in development with targeted indication and phase of development, as well as mechanism of action for some candidates in Phase 1 and all candidates from Phase 2 through registration. The following provides information about significant marketing application-related regulatory actions by, and filings pending with, the FDA and regulatory authorities in the EU and Japan. The table below includes only approvals for products that have occurred in the last twelve months and does not include approvals that may have occurred prior to that time. The table includes filings with regulatory decisions pending (even if the filing occurred outside of the last twelve-month period). Pfizer Inc. 2021 Form 10-K PRODUCT DISEASE AREA APPROVED/FILED* U.S. EU JAPAN Comirnaty/BNT162b2 (PF-07302048) (a) Immunization to prevent COVID-19 (16 years of age and older) BLA Aug. CMA Dec. Approved Feb. Immunization to prevent COVID-19 (12-15 years of age) EUA May CMA May Approved May Immunization to prevent COVID-19 (booster) EUA Sep. CMA Oct. Approved Nov. Immunization to prevent COVID-19 (5-11 years of age) EUA Oct. CMA Nov. Approved Jan. Bavencio (avelumab) (b) First-line maintenance urothelial cancer Approved Jan. Approved Feb. Xtandi (enzalutamide) (c) mCSPC Approved April Cibinqo (abrocitinib) Atopic dermatitis Approved Jan. Approved Dec. Approved Sep. Xeljanz (tofacitinib) Ankylosing spondylitis Approved Dec. Approved Nov. Myfembree (relugolix fixed dose combination) (d) Uterine fibroids (combination with estradiol and norethindrone acetate) Approved May Endometriosis (combination with estradiol and norethindrone acetate) Filed Sep. Lorbrena/Lorviqua (lorlatinib) First-line ALK-positive NSCLC Approved Mar. Approved Jan. Approved Nov. Ngenla (somatrogon) (e) Pediatric growth hormone deficiency Filed Jan. Approved Feb. Approved Jan. Prevnar 20/Apexxnar (Vaccine) (f) Immunization to prevent invasive and non-invasive pneumococcal infections (adults) Approved June Approved Feb. TicoVac (Vaccine) Immunization to prevent tick-borne encephalitis Approved Aug. Paxlovid (g) (nirmatrelvir [PF-07321332]; ritonavir) COVID-19 infection (high risk population) EUA Dec. CMA Jan. Approved Feb. Rimegepant (h) Acute migraine Filed Feb. Migraine prevention Filed Feb. * For the U.S., the filing date is the date on which the FDA accepted our submission. For the EU, the filing date is the date on which the EMA validated our submission. (a) Being developed in collaboration with BioNTech. Prior to BLA, Comirnaty/BNT162b2 for ages 16 and up was available in the U.S. pursuant to an EUA from the FDA on December 11, 2020. In December 2021, a supplemental BLA was submitted to the FDA requesting to expand the approval of Comirnaty to include individuals ages 12 through 15 years. In February 2022, following a request from the FDA, a rolling submission seeking to amend the EUA to include children 6 months through 4 years of age (6 months to 5 years of age) was initiated as we wait for data evaluating a third 3 g dose given at least two months after the second dose of the two-dose series in this age group. A booster dose received EUA from the FDA on September 22, 2021 for individuals 65 years of age and older, individuals 18 through 64 years of age at high risk of severe COVID-19, and individuals 18 through 64 years of age with frequent institutional or occupational exposure to SARS-CoV-2. In addition, in October 2021, the FDA authorized for emergency use a booster dose to eligible individuals who have completed primary vaccination with a different authorized COVID-19 vaccine. Subsequently, the FDA expanded the booster EUA: (i) in November 2021 to include individuals 18 years of age and older, (ii) in December 2021 to include individuals 16 years of age and older and (iii) in January 2022 to include individuals 12 years of age and older as well as individuals 5 through 11 years of age who have been determined to have certain kinds of immunocompromise. A booster dose received conditional marketing authorization from the EMA in October 2021 for individuals 18 years of age and older and may be given to individuals 5 years and older with a severely weakened immune system, at least 28 days after their second dose. A booster dose received approval in Japan in November 2021 for 18 years of age and older. (b) Being developed in collaboration with Merck KGaA, Germany. (c) Being developed in collaboration with Astellas. (d) Being developed in collaboration with Myovant. (e) Being developed in collaboration with OPKO. In January 2022, Pfizer and OPKO received a Complete Response Letter (CRL) from the FDA for the BLA for somatrogon. Pfizer is evaluating the CRL and will work with the FDA to determine an appropriate path forward in the U.S. (f) In October 2021, the CDCs ACIP voted to recommend Prevnar 20 for routine use in adults. Specifically, the ACIP voted to recommend the following: (i) adults 65 years of age or older who have not previously received a pneumococcal conjugate vaccine or whose previous vaccination history is unknown should receive a pneumococcal conjugate vaccine (either pneumococcal 20-valent conjugate vaccine (PCV20) or pneumococcal 15-valent conjugate vaccine (PCV15)). If PCV15 is used, this should be followed by a dose of pneumococcal polysaccharide vaccine (PPSV23); and (ii) adults aged 19 years of age or older with certain underlying medical conditions or other risk factors who have not previously received a pneumococcal conjugate vaccine or whose previous vaccination history is unknown should receive a pneumococcal conjugate vaccine (either PCV20 or PCV15). If PCV15 is used, this should be followed by a dose of PPSV23. The Pfizer Inc. 2021 Form 10-K recommendations were published in the Morbidity and Mortality Weekly Report on January 28, 2022. The publication also notes for adults who have received pneumococcal conjugate vaccine (PCV13) but have not completed their recommended pneumococcal vaccine series with PPSV23, one dose of Prevnar 20 may be used if PPSV23 is not available. (g) In December 2021, the FDA authorized the emergency use of Paxlovid for the treatment of mild-to-moderate COVID-19 in adults and pediatric patients (12 years of age and older weighing at least 40 kg [88 lbs]) with positive results of direct SARS-CoV-2 viral testing, and who are at high risk for progression to severe COVID-19, including hospitalization or death. In January 2022, the EMA approved the CMA of Paxlovid for treating COVID-19 in adults who do not require supplemental oxygen and who are at increased risk of the disease becoming severe. (h) Under a commercialization arrangement with Biohaven. In September 2021, the FDA issued a Drug Safety Communication (DSC) related to Xeljanz/Xeljanz XR and two competitors arthritis medicines in the same drug class, based on its completed review of the ORAL Surveillance trial. The DSC stated that the FDA will require revisions to the Boxed Warnings for each of these medicines to include information about the risks of serious heart-related events, cancer, blood clots, and death. In addition, the DSC indicated the FDAs intention to limit approved uses of these products to certain patients who have not responded or cannot tolerate one or more tumor necrosis factor (TNF) blockers. In December 2021, in light of the results from the completed required postmarketing safety study of Xeljanz, ORAL Surveillance (A3921133), the U.S. label for Xeljanz was revised. In addition, at the request of the EC, the PRAC of the EMA has adopted a referral procedure under Article 20 of Regulation (EC) No 726/2004 to assess safety information relating to oral JAK inhibitors authorized for inflammatory diseases, including Xeljanz and Cibinqo, which is ongoing. For additional information, see Item 1A. Risk FactorsPost-Authorization/Approval Data . In China, the following products received regulatory approvals in the last twelve months: Cresemba for fungal infection and Besponsa for second line acute lymphoblastic leukemia, both in December 2021. The following provides information about additional indications and new drug candidates in late-stage development: PRODUCT/CANDIDATE PROPOSED DISEASE AREA LATE-STAGE CLINICAL PROGRAMS FOR ADDITIONAL USES AND DOSAGE FORMS FOR IN-LINE AND IN-REGISTRATION PRODUCTS Ibrance (palbociclib) (a) ER+/HER2+ metastatic breast cancer Xtandi (enzalutamide) (b) Non-metastatic high-risk castration sensitive prostate cancer Talzenna (talazoparib) Combination with Xtandi (enzalutamide) for first-line mCRPC Combination with Xtandi (enzalutamide) for DNA Damage Repair (DDR)-deficient mCSPC PF-06482077 (Vaccine) Immunization to prevent invasive and non-invasive pneumococcal infections (pediatric) somatrogon (PF-06836922) (c) Adult growth hormone deficiency Braftovi (encorafenib) and Erbitux  (cetuximab) (d) First-line BRAF v600E -mutant mCRC Myfembree (relugolix fixed dose combination) (e) Combination with estradiol and norethindrone acetate for contraceptive efficacy Braftovi (encorafenib) and Mektovi (binimetinib) and Keytruda  (pembrolizumab) (f) BRAF v600E -mutant metastatic or unresectable locally advanced melanoma Comirnaty / BNT162b2 (PF-07302048) (g) Immunization to prevent COVID-19 (children 2 to 5years of age) Immunization to prevent COVID-19 (infants 6 months to 24 months) Paxlovid (nirmatrelvir [PF-07321332]; ritonavir) COVID-19 Infection (standard risk population) COVID-19 Infection ( post exposure prophylaxis) NEW DRUG CANDIDATES IN LATE-STAGE DEVELOPMENT aztreonam-avibactam (PF-06947387) Treatment of infections caused by Gram-negative bacteria fidanacogene elaparvovec (PF-06838435) (h) Hemophilia B giroctocogene fitelparvovec (PF-07055480) (i) Hemophilia A PF-06425090 (Vaccine) Immunization to prevent primary clostridioides difficile infection PF-06886992 (Vaccine) Immunization to prevent serogroups meningococcal infection (adolescent and young adults) PF-06928316 (Vaccine) Immunization to prevent respiratory syncytial virus infection (maternal) Immunization to prevent respiratory syncytial virus infection (older adults) PF-07265803 Dilated cardiomyopathy due to Lamin A/C gene mutation ritlecitinib (PF-06651600) Alopecia areata sasanlimab (PF-06801591) Combination with Bacillus Calmette-Guerin for non-muscle-invasive bladder cancer fordadistrogene movaparvovec (PF-06939926) Duchenne muscular dystrophy marstacimab (PF-06741086) Hemophilia elranatamab (PF-06863135) Multiple myeloma, double-class exposed Omicron-based mRNA vaccine (g) Immunization to prevent COVID-19 (adults) (a) Being developed in collaboration with The Alliance Foundation Trials, LLC. (b) Being developed in collaboration with Astellas. (c) Being developed in collaboration with OPKO. (d) Erbitux  is a registered trademark of ImClone LLC. In the EU, we are developing in collaboration with the Pierre Fabre Group. In Japan, we are developing in collaboration with Ono Pharmaceutical Co., Ltd. (e) Being developed in collaboration with Myovant. (f) Keytruda  is a registered trademark of Merck Sharp  Dohme Corp. (g) Being developed in collaboration with BioNTech. Pfizer Inc. 2021 Form 10-K (h) Being developed in collaboration with Spark Therapeutics, Inc. (i) Being developed in collaboration with Sangamo Therapeutics, Inc. In February 2022, Pfizer and Merck KGaA, Darmstadt, Germany (Merck KGaA) provided an update on the Phase 3 JAVELIN Lung 100 trial, which assessed the safety and efficacy of two dosing regimens of avelumab monotherapy compared with platinum-based doublet chemotherapy as first-line treatment in patients with metastatic NSCLC whose tumors express PD-L1. While avelumab showed clinical activity in this population, the study did not meet the primary endpoints of overall survival and progression-free survival in the high PD-L1+population for either of the avelumab dosing regimens evaluated. The safety profile for avelumab in this trial was consistent with that observed in the overall JAVELIN clinical development program. Avelumab is not approved for the treatment of any patients with NSCLC. The outcome of the JAVELIN Lung 100 trial has no bearing on any of avelumabs currently-approved indications. Full results of the study will be shared at a future date. In the fourth quarter of 2021, enrollment was stopped in C4591015 Study (a Phase 2/3 placebo controlled randomized observer-blind study to evaluate the safety, tolerability, and immunogenicity of BNT162b2 against COVID-19 in healthy pregnant women 18 years of age and older). This study was developed prior to availability or recommendation for COVID-19 vaccination in pregnant women. The environment changed during 2021 and by September 2021, COVID-19 vaccines were recommended by applicable recommending bodies (e.g., ACIP in the U.S.) for pregnant women in all participating/planned countries, and as a result the enrollment rate declined significantly. With the declining enrollment, the study had insufficient sample size to assess the primary immunogenicity objective and continuation of this placebo controlled study could no longer be justified due to global recommendations. This proposal was shared with and agreed to by FDA and EMA. For additional information about our RD organization, see the Item 1. Business  Research and Development section of this Form 10-K. NON-GAAP FINANCIAL MEASURE: ADJUSTED INCOME Adjusted income is an alternative measure of performance used by management to evaluate our overall performance in conjunction with other performance measures. As such, we believe that investors understanding of our performance is enhanced by disclosing this measure. We use Adjusted income, certain components of Adjusted income and Adjusted diluted EPS to present the results of our major operationsthe discovery, development, manufacture, marketing, sale and distribution of biopharmaceutical products worldwideprior to considering certain income statement elements as follows: Measure Definition Relevance of Metrics to Our Business Performance Adjusted income Net income attributable to Pfizer Inc. common shareholders (a) before the impact of purchase accounting for acquisitions, acquisition-related items, discontinued operations and certain significant items  Provides investors useful information to:  evaluate the normal recurring operational activities, and their components, on a comparable year-over-year basis  assist in modeling expected future performance on a normalized basis  Provides investors insight into the way we manage our budgeting and forecasting, how we evaluate and manage our recurring operations and how we reward and compensate our senior management (b) Adjusted cost of sales, Adjusted selling, informational and administrative expenses, Adjusted research and development expenses, Adjusted amortization of intangible assets and Adjusted other (income)/deductions  net Cost of sales, Selling, informational and administrative expenses, Research and development expenses, Amortization of intangible assets an d Other (income)/deductionsnet (a) , each before the impact of purchase accounting for acquisitions, acquisition-related items, discontinued operations and certain significant items, which are components of the Adjusted income measure Adjusted diluted EPS EPS attributable to Pfizer Inc. common shareholdersdiluted (a) before the impact of purchase accounting for acquisitions, acquisition-related items, discontinued operations and certain significant items (a) Most directly comparable GAAP measure. (b) The short-term incentive plans for substantially all non-sales-force employees worldwide are funded from a pool based on our performance, measured in significant part by three metrics, one of which is Adjusted diluted EPS, which is derived from Adjusted income and accounts for 40% of the bonus pool funding tied to financial performance. Additionally, the payout for performance share awards is determined in part by Adjusted net income, which is derived from Adjusted income. The bonus pool funding, which is largely based on financial performance, may be modified by our RD performance as measured by four metrics relating to our pipeline and may be further modified by our Compensation Committees assessment of other factors. Adjusted income and its components and Adjusted diluted EPS are non-GAAP financial measures that have no standardized meaning prescribed by GAAP and, therefore, are limited in their usefulness to investors. Because of their non-standardized definitions, they may not be comparable to the calculation of similar measures of other companies and are presented to permit investors to more fully understand how management assesses performance. A limitation of these measures is that they provide a view of our operations without including all events during a period, and do not provide a comparable view of our performance to peers. These measures are not, and should not be viewed as, substitutes for their directly comparable GAAP measures of Net income attributable to Pfizer Inc. common shareholders , components of Net income attributable to Pfizer Inc. common shareholders and EPS attributable to Pfizer Inc. common shareholdersdiluted , respectively. See the accompanying reconciliations of certain GAAP reported to non-GAAP adjusted informationcertain line items for 2021, 2020 and 2019 below. We also recognize that, as internal measures of performance, these measures have limitations, and we do not restrict our performance-management process solely to these measures. We also use other tools designed to achieve the highest levels of performance. For example, our RD organization has productivity targets, upon which its effectiveness is measured. In addition, total shareholder return, both on an absolute basis and relative to a publicly traded pharmaceutical index, plays a significant role in determining payouts under certain of our incentive compensation plans. Pfizer Inc. 2021 Form 10-K Purchase Accounting Adjustments Adjusted income excludes certain significant purchase accounting impacts resulting from business combinations and net asset acquisitions. These impacts can include the incremental charge to cost of sales from the sale of acquired inventory that was written up to fair value, amortization related to the increase in fair value of the acquired finite-lived intangible assets, and to a much lesser extent, depreciation related to the increase/decrease in fair value of the acquired fixed assets, amortization related to the increase in fair value of acquired debt, and the fair value changes for contingent consideration. Therefore, the Adjusted income measure includes the revenues earned upon the sale of the acquired products without considering the acquisition cost of those products. The exclusion of amortization attributable to acquired intangible assets provides management and investors an alternative view of our results by providing a degree of parity to internally developed intangible assets for which RD costs have been expensed. However, we have not factored in the impacts of any other differences that might have occurred if we had discovered and developed those intangible assets on our own, such as different RD costs, timelines or resulting sales; accordingly, this approach does not intend to be representative of the results that would have occurred if we had discovered and developed the acquired intangible assets internally. Acquisition-Related Items Adjusted income excludes acquisition-related items, which are comprised of transaction, integration, restructuring charges and additional depreciation costs for business combinations because these costs are unique to each transaction and represent costs that were incurred to restructure and integrate businesses as a result of an acquisition. We have made no adjustments for resulting synergies. The significant costs incurred in connection with a business combination result primarily from the need to eliminate duplicate assets, activities or employeesa natural result of acquiring a fully integrated set of activities. For this reason, we believe that such costs incurred can be viewed differently in the context of an acquisition from those costs incurred in other, more normal, business contexts. The integration and restructuring costs for a business combination may occur over several years, with the more significant impacts typically ending within three years of the relevant transaction. Because of the need for certain external approvals for some actions, the span of time needed to achieve certain restructuring and integration activities can be lengthy. Discontinued Operations Adjusted income excludes the results of discontinued operations, as well as any related gains or losses on the disposal of such operations. We believe that this presentation is meaningful to investors because, while we review our therapeutic areas and product lines for strategic fit with our operations, we do not build or run our business with the intent to discontinue parts of our business. Restatements due to discontinued operations do not impact compensation or change the Adjusted income measure for the compensation in respect of the restated periods, but are presented for consistency across all periods. Certain Significant Items Adjusted income excludes certain significant items representing substantive and/or unusual items that are evaluated individually on a quantitative and qualitative basis. Certain significant items may be highly variable and difficult to predict. Furthermore, in some cases it is reasonably possible that they could reoccur in future periods. For example, although major non-acquisition-related cost-reduction programs are specific to an event or goal with a defined term, we may have subsequent programs based on reorganizations of the business, cost productivity or in response to LOE or economic conditions. Legal charges to resolve litigation are also related to specific cases, which are facts and circumstances specific and, in some cases, may also be the result of litigation matters at acquired companies that were inestimable, not probable or unresolved at the date of acquisition. Gains and losses on equity securities have a very high degree of inherent market volatility, which we do not control and cannot predict with any level of certainty and because we do not believe including these gains and losses assists investors in understanding our business or is reflective of our core operations and business. Unusual items represent items that are not part of our ongoing business; items that, either as a result of their nature or size, we would not expect to occur as part of our normal business on a regular basis; items that would be non-recurring; or items that relate to products we no longer sell. See the Reconciliations of GAAP Reported to Non-GAAP Adjusted InformationCertain Line Items below for a non-inclusive list of certain significant items. Beginning in 2021, we exclude pension and postretirement actuarial remeasurement gains and losses from our measure of Adjusted income because of their inherent market volatility, which we do not control and cannot predict with any level of certainty and because we do not believe including these gains and losses assists investors in understanding our business or is reflective of our core operations and business. Pfizer Inc. 2021 Form 10-K Reconciliations of GAAP Reported to Non-GAAP Adjusted InformationCertain Line Items 2021 Data presented will not (in all cases) aggregate to totals. IN MILLIONS, EXCEPT PER COMMON SHARE DATA Cost of sales Selling, informational and administrative expenses Research and development expenses Amortization of intangible assets Other (income)/deductionsnet Net income attributable to Pfizer Inc. common shareholders (a) Earnings per common share attributable to Pfizer Inc. common shareholdersdiluted GAAP reported $ 30,821  $ 12,703  $ 13,829  $ 3,700  $ (4,878) $ 21,979  $ 3.85  Purchase accounting adjustments (b) 25 (3) 6 (3,088) (114) 3,175 Acquisition-related items      52 Discontinued operations (c)      585 Certain significant items: Restructuring charges/(credits) and implementation costs and additional depreciationasset restructuring (d) (108) (450) (1)   1,309 Certain asset impairments (e)     (86) 86 Upfront and milestone payments on collaborative and licensing arrangements (f)   (1,056)   1,056 (Gains)/losses on equity securities (g)     1,338 (1,338) Actuarial valuation and other pension and postretirement plan (gains)/losses (g)     1,601 (1,601) Asset acquisitions of IPRD (h)   (2,240)   2,240 Other (52) (141) (15)  (334) (i) 542 Income tax provisionNon-GAAP items (2,848) Non-GAAP adjusted $ 30,685 $ 12,110 $ 10,523 $ 613 $ (2,473) $ 25,236 $ 4.42 2020 Data presented will not (in all cases) aggregate to totals. IN MILLIONS, EXCEPT PER COMMON SHARE DATA Cost of sales Selling, informational and administrative expenses Research and development expenses Amortization of intangible assets Other (income)/deductionsnet Net income attributable to Pfizer Inc. common shareholders (a) Earnings per common share attributable to Pfizer Inc. common shareholdersdiluted GAAP reported $ 8,484  $ 11,597  $ 9,393  $ 3,348  $ 1,219  $ 9,159  $ 1.63  Purchase accounting adjustments (b) 18 (2) 5 (3,064) (75) 3,117 Acquisition-related items      44 Discontinued operations (c)      (2,879) Certain significant items: Restructuring charges/(credits) and implementation costs and additional depreciationasset restructuring (d) (61) (197) 2   791 Certain asset impairments (e)     (1,691) 1,691 Upfront and milestone payments on collaborative and licensing arrangements (f)   (454)   454 (Gains)/losses on equity securities (g)     557 (557) Actuarial valuation and other pension and postretirement plan (gains)/losses (g)     (1,092) 1,092 Asset acquisitions of IPRD (h)   (50)   50 Other (56) (292) (j) (24)  (697) (i) 1,063 Income tax provisionNon-GAAP items (1,299) Non-GAAP adjusted $ 8,386 $ 11,106 $ 8,872 $ 284 $ (1,779) $ 12,727 $ 2.26 Pfizer Inc. 2021 Form 10-K 2019 Data presented will not (in all cases) aggregate to totals. IN MILLIONS, EXCEPT PER COMMON SHARE DATA Cost of sales Selling, informational and administrative expenses Research and development expenses Amortization of intangible assets Other (income)/deductionsnet Net income attributable to Pfizer Inc. common shareholders (a) Earnings per common share attributable to Pfizer Inc. common shareholdersdiluted GAAP reported $ 8,054  $ 12,726  $ 8,385  $ 4,429  $ 3,497  $ 16,026  $ 2.82  Purchase accounting adjustments (b) 19 2 4 (4,158) (21) 4,153 Acquisition-related items  (2)    185 Discontinued operations (c)      (6,056) Certain significant items: Restructuring charges/(credits) and implementation costs and additional depreciationasset restructuring (d) (89) (73) (30)   611 Certain asset impairments (e)     (2,757) 2,757 Upfront and milestone payments on collaborative and licensing arrangements (f)   (279)   279 (Gains)/losses on equity securities (g)     415 (415) Actuarial valuation and other pension and postretirement plan (gains)/losses (g)     (750) 750 (Gain) on completion of Consumer Healthcare JV transaction      (8,107) Asset acquisitions of IPRD (h)   (337)   337 Other (118) (190) (18)  (1,007) (i) 1,333 Income tax provisionNon-GAAP items (797) Non-GAAP adjusted $ 7,865 $ 12,463 $ 7,726 $ 271 $ (623) $ 11,056 $ 1.95 (a) Items that reconcile GAAP Reported to Non-GAAP Adjusted balances are shown pre-tax and include discontinued operations. Our effective tax rates for GAAP reported income from continuing operations were: 7.6% in 2021, 5.3% in 2020 and 5.2% in 2019. See Note 5 . Our effective tax rates on Non-GAAP adjusted income were: 15.3% in 2021, 13.7% in 2020 and 16.0% in 2019. (b) Purchase accounting adjustments include items such as the incremental charge to cost of sales from the sale of acquired inventory that was written up to fair value, amortization related to the increase in fair value of the acquired finite-lived intangible assets, depreciation related to the increase/decrease in fair value of the acquired fixed assets, amortization related to the increase in fair value of acquired debt, and the fair value changes for contingent consideration. For all years presented, primarily consists of amortization of intangible assets. (c) Relates primarily to the spin-off of our Upjohn Business, and our sale of Meridian. See Note 2B. (d) Includes employee termination costs, asset impairments and other exit costs related to our cost-reduction and productivity initiatives not associated with acquisitions. See Note 3. (e) Primarily includes intangible asset impairment charges. For 2020, $900 million is related to IPRD assets acquired from Array and $528 million is related to Eucrisa. For 2019, $2.6 billion is related to Eucrisa. See Note 4 . (f) Primarily includes the following charges: (i) for 2021, an upfront payment to Arvinas and a premium paid on our equity investment in Arvinas totaling $706 million, a $300 million upfront payment to Beam and a $50 million net upfront payment to BioNTech; (ii) for 2020, a payment of $151 million representing the expense portion of an upfront payment to Myovant, an upfront payment to Valneva of $130 million, an upfront payment to BioNTech and a premium paid on our equity investment in BioNTech totaling $98 million, as well as a $75 million milestone payment to Akcea; and (iii) for 2019, an upfront license fee payment of $250 million to Akcea. (g) (Gains)/losses on equity securities, and actuarial valuation and other pension and postretirement plan (gains)/losses are removed from adjusted earnings due to their inherent market volatility. (h) Primarily includes payments for acquired IPRD. For 2021, includes a $2.1 billion charge related to our acquisition of Trillium, which was accounted for as an asset acquisition, and a $177 million charge related to an asset acquisition completed in the second quarter of 2021. For 2019, included a $337 million charge related to our acquisition of Therachon, which was accounted for as an asset acquisition. (i) For 2021, the total of $334 million primarily includes: (i) charges representing our equity-method accounting pro rata share of restructuring charges and costs of preparing for separation from GSK of $185 million recorded by the Consumer Healthcare JV and (ii) charges for certain legal matters of $162 million. For 2020, the total of $697 million primarily included: (i) charges of $367 million, which represent our equity-method accounting pro rata share of transaction-specific restructuring and business combination accounting charges recorded by the Consumer Healthcare JV, and (ii) losses on asset disposals of $238 million. For 2019, the total of $1.0 billion primarily included: (i) $300 million of business and legal entity alignment costs for consulting, legal, tax and advisory services associated with the design, planning and implementation of our then new business structure, effective in the beginning of 2019, (ii) charges for certain legal matters of $291 million, (iii) charges of $152 million for external incremental costs, such as transaction costs and costs to separate our Consumer Healthcare business into a separate legal entity associated with the formation of the Consumer Healthcare JV, (iv) net losses on early retirement of debt of $138 million and (v) charges of $112 million representing our equity-method accounting pro rata share of restructuring and business combination accounting charges recorded by the Consumer Healthcare JV. (j) For 2020, amounts in Selling, informational and administrative expenses of $292 million primarily include costs for consulting, legal, tax and advisory services associated with a non-recurring internal reorganization of legal entities. Pfizer Inc. 2021 Form 10-K ANALYSIS OF THE CONSOLIDATED STATEMENTS OF CASH FLOWS Cash Flows from Continuing Operations  Year Ended December 31, (MILLIONS) 2021 2020 2019 Drivers of change Cash provided by/(used in): Operating activities from continuing operations $ 32,922  $ 10,540 $ 7,015 2021 v. 2020 The change was driven primarily by higher net income adjusted for non-cash items, the payment for the acquisition of Trillium, a decrease in contributions to pension plans, and the impact of timing of receipts and payments in the ordinary course of business, mostly from an increase in cash flows from Other current liabilities driven by: (i) a $9.7 billion accrual for the gross profit split due to BioNTech, (ii) an increase in royalties payable, as well as (iii) an increase in deferred revenues for advance payments in 2021 for Comirnaty. The change in Other Adjustments, net , is mostly due to an increase in unrealized gains on equity securities. 2020 v. 2019 The change was driven mainly by higher net income adjusted for non-cash items, advanced payments in 2020 for Comirnaty recorded in deferred revenue, the upfront cash payment associated with our acquisition of Therachon in 2019, and the upfront cash payment associated with our licensing agreement with Akcea in 2019, partially offset by an increase in benefit plan contributions. The change also reflects the impact of timing of receipts and payments in the ordinary course of business. The change in Other adjustments, net was driven primarily by an increase in equity method dividends received, partially offset by an increase in equity income and increases in net unrealized gains on equity securities. Investing activities from continuing operations $ (22,534) $ (4,162) $ (3,825) 2021 v. 2020 The change was driven mainly by a $24.7 billion increase in purchases of short-term investments with original maturities of greater than three months and a $9.0 billion increase in net purchases of short-term investments with original maturities of three months or less, partially offset by a $16.4 billion increase in redemptions of short-term investments with original maturities of greater than three months. 2020 v. 2019 The change was driven mostly by a $6.0 billion decrease in net proceeds from short-term investments with original maturities of three months or less and $2.7 billion in net purchases of short-term investments with original maturities of greater than three months in 2020 (compared to $2.3 billion net proceeds from short-term investments with original maturities of greater than three months in 2019), partially offset by the cash used to acquire Array, net of cash acquired, of $10.9 billion in 2019. Financing activities from continuing operations $ (9,816) $ (21,640) $ (8,485) 2021 v. 2020 The change was driven mostly by a $9.8 billion net reduction in repayments of short-term borrowings with maturities of greater than three months, a $4.0 billion decrease in net payments on short-term borrowings with maturities of three months or less and a $2.0 billion reduction in repayments of long-term debt, partially offset by a $4.2 billion decrease in proceeds from issuances of long-term debt. 2020 v. 2019 The change was driven mostly by $14.0 billion net payments of short-term borrowings in 2020 (compared to $10.6 billion net proceeds raised from short-term borrowings in 2019) and an increase in cash dividends paid of $397 million, partially offset by a decrease in purchases of common stock of $8.9 billion, lower repayments on long-term debt of $2.8 billion, and an increase in issuances of long-term debt of $280 million. Cash Flows from Discontinued Operations Cash flows from discontinued operations primarily relate to our former Meridian subsidiary, Upjohn Business and the Mylan-Japan collaboration (see Note 2B ). In 2020, net cash provided by financing activities from discontinued operations primarily reflects issuances of long-term debt . ANALYSIS OF FINANCIAL CONDITION, LIQUIDITY, CAPITAL RESOURCES AND MARKET RISK Due to our significant operating cash flows, which is a key strength of our liquidity and capital resources and our primary funding source, as well as our financial assets, access to capital markets, revolving credit agreements, and available lines of credit, we believe that we have, and will maintain, the ability to meet our liquidity needs to support ongoing operations, our capital allocation objectives, and our contractual and other obligations for the foreseeable future. Pfizer Inc. 2021 Form 10-K We focus efforts to optimize operating cash flows through achieving working capital efficiencies that target accounts receivable, inventories, accounts payable, and other working capital. Excess cash from operating cash flows is invested in money market funds and available-for-sale debt securities which consist of primarily high-quality, highly liquid, well-diversified debt securities. We have taken, and will continue to take, a conservative approach to our financial investments and monitoring of our liquidity position in response to market changes. We typically maintain cash and cash equivalent balances and short-term investments which, together with our available revolving credit facilities, are in excess of our commercial paper and other short-term borrowings. Additionally, we may obtain funding through short-term or long-term sources from our access to the capital markets, banking relationships and relationships with other financial intermediaries to meet our liquidity needs. Diverse sources of funds: Related disclosure presented in this Form 10-K Internal sources:  Operating cash flows Consolidated Statements of Cash Flows  Operating Activities and the Analysis of the Consolidated Statements of Cash Flows within MDA  Cash and cash equivalents Consolidated Balance Sheets  Money market funds Note 7A  Available-for-sale debt securities Note 7A, 7B External sources: Short-term funding:  Commercial paper Note 7C  Revolving credit facilities Note 7C  Lines of credit Note 7C Long-term funding:  Long-term debt Note 7D  Equity Consolidated Statements of Equity and Note 12 For additional information about the sources and uses of our funds and capital resources for the years ended December 31, 2021 and 2020, see the Analysis of the Consolidated Statements of Cash Flows in this MDA. In August 2021, we completed a public offering of $1 billion aggregate principal amount of senior unsecured sustainability notes. We are using the net proceeds to finance or refinance, in whole or in part as follows: RD expenses related to our COVID-19 vaccines, capital expenditures in connection with the manufacture and distribution of COVID-19 vaccines and our other projects that have environmental and/or social benefits. For additional information, see Note 7D . Credit Ratings The cost and availability of financing are influenced by credit ratings, and increases or decreases in our credit rating could have a beneficial or adverse effect on financing. Our long-term debt is rated high-quality by both SP and Moodys. In November 2020, upon the completion of the Upjohn separation, both Moodys and SP lowered our long-term debt rating one notch to A2 and A+, respectively, and our short-term rating remained unchanged. SP continues to rate our long-term debt rating outlook as Stable since November 2020, while Moodys recently upgraded our long-term debt rating outlook to Positive in December 2021. The current ratings assigned to our commercial paper and senior unsecured long-term debt: NAME OF RATING AGENCY Pfizer Short-Term Rating Pfizer Long-Term Rating Outlook/Watch Moodys P-1 A2 Positive SP A-1+ A+ Stable A security rating is not a recommendation to buy, sell or hold securities and the rating is subject to revision or withdrawal at any time by the rating organization. Each rating should be evaluated independently of any other rating. Capital Allocation Framework Our capital allocation framework is devised to facilitate (i) the achievement of medical breakthroughs through RD investments and business development activities and (ii) returning capital to shareholders through dividends and share repurchases. See the Overview of Our Performance, Operating Environment, Strategy and Outlook  Our Business and Strategy section of this MDA. Our current and projected dividends provide a return to shareholders while maintaining sufficient capital to invest in growing our business. Our dividends are not restricted by debt covenants. While the dividend level remains a decision of Pfizers BOD and will continue to be evaluated in the context of future business performance, we currently believe that we can support future annual dividend increases, barring significant unforeseen events. In December 2021, our BOD declared a first-quarter dividend of $0.40 per share, payable on March 4, 2022, to shareholders of record at the close of business on January 28, 2022. The first-quarter 2022 cash dividend will be our 333rd consecutive quarterly dividend. See Note 12 for information on the shares of our common stock purchased and the cost of purchases under our publicly announced share-purchase plans, including our accelerated share repurchase agreements. At December 31, 2021, our remaining share-purchase authorization was approximately $5.3 billion. Off-Balance Sheet Arrangements, Contractual, and Other Obligations In the ordinary course of business, (i) we enter into off-balance sheet arrangements that may result in contractual and other obligations and (ii) in connection with the sale of assets and businesses and other transactions, we often indemnify our counterparties against certain liabilities that Pfizer Inc. 2021 Form 10-K may arise in connection with the transaction or that are related to events and activities. For more information on guarantees and indemnifications, see Note 16B . Additionally, certain of our co-promotion or license agreements give our licensors or partners the rights to negotiate for, or in some cases to obtain under certain financial conditions, co-promotion or other rights in specified countries with respect to certain of our products. Furthermore, collaboration, licensing or other RD arrangements may give rise to potential milestone payments. Payments under these agreements generally become due and payable only upon the achievement of certain development, regulatory and/or commercialization milestones, which may span several years and which may never occur. Our significant contractual and other obligations as of December 31, 2021 consisted of:  Long-term debt, including current portion (see Note 7 ) and related interest payments;  Estimated cash payments related to the TCJA repatriation estimated tax liability (see Note 5 ). Estimated future payments related to the TCJA repatriation tax liability that will occur after December 31, 2021 total $8.3 billion, of which an estimated $750 million is to be paid in the next twelve months and an estimated $7.6 billion is to be paid in periods thereafter;  Certain commitments totaling $5.2 billion, of which an estimated $1.5 billion is to be paid in the next twelve months, and $3.7 billion in periods thereafter ( see Note 16C );  Purchases of property plant and equipment ( see Note 9 ). In 2022, we expect to spend approximately $3.3 billion on property, plant and equipment; and  Future minimum rental commitments under non-cancelable operating leases (see Note 15 ). Gl o bal Economic Conditions Our Venezuela and Argentina operations function in hyperinflationary economies. The impact to Pfizer is not considered material. For additional information on the global economic environment, see the Item 1A. Risk FactorsGlobal Operations section in this Form 10-K. Market Risk We are subject to foreign exchange risk, interest rate risk, and equity price risk. The objective of our financial risk management program is to minimize the impact of foreign exchange rate and interest rate movements on our earnings. We address such exposures through a combination of operational means and financial instruments. For more information on how we manage our foreign exchange and interest rate risks, see Notes 1G and 7E , as well as the Item 1A. Risk FactorsGlobal Operations section in this Form 10-K for key currencies in which we operate. Our sensitivity analyses of such risks are discussed below. Foreign Exchange Risk The fair values of our financial instrument holdings are analyzed at year-end to determine their sensitivity to foreign exchange rate changes. In this analysis, holding all other assumptions constant and assuming that a change in one currencys rate relative to the U.S. dollar would not have any effect on another currencys rates relative to the U.S. dollar, if the dollar were to appreciate against all other currencies by 10%, as of December 31, 2021, the expected adverse impact on our net income would not be significant. Interest Rate Risk The fair values of our financial instrument holdings are analyzed at year-end to determine their sensitivity to interest rate changes. In this analysis, holding all other assumptions constant and assuming a parallel shift in the interest rate curve for all maturities and for all instruments, if there were a one hundred basis point decrease in interest rates as of December 31, 2021, the expected adverse impact on our net income would not be significant. Equity Price Risk We hold equity securities with readily determinable fair values in life science companies as a result of certain business development transactions. While we are holding such securities, we are subject to equity price risk, and this may increase the volatility of our income in future periods due to changes in the fair value of equity investments. From time to time, we will sell such equity securities based on our business considerations, which may include limiting our price risk. Our equity securities with readily determinable fair values are analyzed at year-end to determine their sensitivity to equity price rate changes. In this sensitivity analysis, the expected adverse impact on our net income would not be significant. LIBOR For information on interest rate risk and LIBOR, see the Item 1A. Risk FactorsGlobal Operations section in this Form 10-K. We do not expect the transition to an alternative rate to have a material impact on our liquidity or financial resources. Pfizer Inc. 2021 Form 10-K NEW ACCOUNTING STANDARDS Recently Adopted Accounting Standard See Note 1B. Recently Issued Accounting Standards, Not Adopted as of December 31, 2021 Standard/Description Effective Date Effect on the Financial Statements Reference rate reform provides temporary optional expedients and exceptions to the guidance for contracts, hedging relationships, and other transactions that reference LIBOR or another reference rate expected to be discontinued after 2021 because of reference rate reform. The new guidance provides the following optional expedients: 1. Simplify accounting analyses under current U.S. GAAP for contract modifications. 2. Simplify the assessment of hedge effectiveness and allow hedging relationships affected by reference rate reform to continue. 3. Allow a one-time election to sell or transfer debt securities classified as held to maturity that reference a rate affected by reference rate reform. Elections can be adopted prospectively at any time through December 31, 2022. We are assessing the impact, but currently, we do not expect this new guidance to have a material impact on our consolidated financial statements. Accounting for contract assets and contract liabilities from contracts with customers requires contract assets and contract liabilities acquired in a business combination to be recognized and measured by the acquirer on the acquisition date in accordance with ASC 606. This new guidance will generally result in the acquirer recognizing contract assets and contract liabilities at the same amounts that were recorded by the acquiree. Previously, these amounts were recognized by the acquirer at fair value as of the acquisition date. January 1, 2023. Early adoption is permitted. We do not expect this new guidance to have a material impact on our consolidated financial statements.</td>\n",
              "      <td>NEGATIVE</td>\n",
              "      <td>246</td>\n",
              "    </tr>\n",
              "    <tr>\n",
              "      <th>7</th>\n",
              "      <td>ITEM 1. BUSINESS In this report, the terms \"The Coca-Cola Company,\" \"Company,\" \"we,\" \"us\" and \"our\" mean The Coca-Cola Company and all entities included in our consolidated financial statements. General The Coca-Cola Company is the world's largest nonalcoholic beverage company. We own or license and market more than 500 nonalcoholic beverage brands, which we group into the following category clusters: sparkling soft drinks; water, enhanced water and sports drinks; juice, dairy and plant-based beverages; tea and coffee; and energy drinks. We own and market four of the world's top five nonalcoholic sparkling soft drink brands: Coca-Cola, Diet Coke, Fanta and Sprite. Finished beverage products bearing our trademarks, sold in the United States since 1886, are now sold in more than 200 countries and territories. We make our branded beverage products available to consumers throughout the world through our network of independent bottling partners, distributors, wholesalers and retailers as well as Company-owned or -controlled bottling and distribution operations  the world's largest beverage distribution system. Beverages bearing trademarks owned by or licensed to us account for more than 1.9 billion of the approximately 61 billion servings of all beverages consumed worldwide every day. We believe our success depends on our ability to connect with consumers by providing them with a wide variety of beverage options to meet their desires, needs and lifestyles. Our success further depends on the ability of our people to execute effectively, every day. Our objective is to use our Company's assets  our brands, financial strength, unrivaled distribution system, global reach, and the talent and strong commitment of our management and associates  to become more competitive and to accelerate growth in a manner that creates value for our shareowners. We were incorporated in September 1919 under the laws of the State of Delaware and succeeded to the business of a Georgia corporation with the same name that had been organized in 1892. Operating Segments The Company's operating structure is the basis for our internal financial reporting. As of December 31, 2018 , our operating structure included the following operating segments, which are sometimes referred to as \"operating groups\" or \"groups\":  Europe, Middle East and Africa  Latin America  North America  Asia Pacific  Bottling Investments Our operating structure as of December 31, 2018 also included Corporate, which consists of two components: (1) a center focused on strategic initiatives, policy and governance and (2) an enabling services organization focused on both simplifying and standardizing key transactional processes and providing support to business units through global centers of excellence. In January 2019, we established a new operating segment, Global Ventures, which includes the results of Costa Limited (\"Costa\"), which we acquired on January 3, 2019, and the results of our innocent and Doadan businesses as well as fees earned pursuant to distribution coordination agreements between the Company and Monster Beverage Corporation (\"Monster\"). Refer to Note 22 of Notes to Consolidated Financial Statements set forth in Part II, \"Item 8. Financial Statements and Supplementary Data\" of this report for information regarding the Costa acquisition. Except to the extent that differences among operating segments are material to an understanding of our business taken as a whole, the description of our business in this report is presented on a consolidated basis. Products and Brands As used in this report:  \"concentrates\" means flavoring ingredients and, depending on the product, sweeteners used to prepare syrups or finished beverages and includes powders or minerals for purified water products;  \"syrups\" means beverage ingredients produced by combining concentrates and, depending on the product, sweeteners and added water;  \"fountain syrups\" means syrups that are sold to fountain retailers, such as restaurants and convenience stores, which use dispensing equipment to mix the syrups with sparkling or still water at the time of purchase to produce finished beverages that are served in cups or glasses for immediate consumption;  \"Company Trademark Beverages\" means beverages bearing our trademarks and certain other beverage products bearing trademarks licensed to us by third parties for which we provide marketing support and from the sale of which we derive economic benefit; and  \"Trademark Coca-Cola Beverages\" or \"Trademark Coca-Cola\" means beverages bearing the trademark Coca-Cola or any trademark that includes Coca-Cola or Coke (that is, Coca-Cola, Coca-Cola Life, Diet Coke/Coca-Cola Light and Coca-Cola Zero Sugar and all their variations and any line extensions, including caffeine free Diet Coke, Cherry Coke, etc.). Likewise, when we use the capitalized word \"Trademark\" together with the name of one of our other beverage products (such as \"Trademark Fanta,\" \"Trademark Sprite\" or \"Trademark Simply\"), we mean beverages bearing the indicated trademark (that is, Fanta, Sprite or Simply, respectively) and all its variations and line extensions (such that \"Trademark Fanta\" includes Fanta Orange, Fanta Zero Orange, Fanta Apple, etc.; \"Trademark Sprite\" includes Sprite, Diet Sprite, Sprite Zero, Sprite Light, etc.; and \"Trademark Simply\" includes Simply Orange, Simply Apple, Simply Grapefruit, etc.). Our Company markets, manufactures and sells:  beverage concentrates, sometimes referred to as \"beverage bases,\" and syrups, including fountain syrups (we refer to this part of our business as our \"concentrate business\" or \"concentrate operations\"); and  finished sparkling soft drinks and other nonalcoholic beverages (we refer to this part of our business as our \"finished product business\" or \"finished product operations\"). Generally, finished product operations generate higher net operating revenues but lower gross profit margins than concentrate operations. In our domestic and international concentrate operations, we typically generate net operating revenues by selling concentrates, syrups and certain finished beverages to authorized bottling operations (to which we typically refer as our \"bottlers\" or our \"bottling partners\"). Our bottling partners either combine the concentrates with sweeteners (depending on the product), still water and/or sparkling water, or combine the syrups with sparkling water to produce finished beverages. The finished beverages are packaged in authorized containers, such as cans and refillable and nonrefillable glass and plastic bottles, bearing our trademarks or trademarks licensed to us and are then sold to retailers directly or, in some cases, through wholesalers or other bottlers. In addition, outside the United States, our bottling partners are typically authorized to manufacture fountain syrups, using our concentrate, which they sell to fountain retailers for use in producing beverages for immediate consumption, or to authorized fountain wholesalers who in turn sell and distribute the fountain syrups to fountain retailers. Our concentrate operations are included in our geographic operating segments. Our finished product operations generate net operating revenues by selling sparkling soft drinks and a variety of other finished nonalcoholic beverages, such as water, enhanced water and sports drinks; juice, dairy and plant-based beverages; tea and coffee; and energy drinks, to retailers or to distributors and wholesalers who distribute them to retailers. These operations consist primarily of Company-owned or -controlled bottling, sales and distribution operations, which are included in our Bottling Investments operating segment. In certain markets, the Company also operates non-bottling finished product operations in which we sell finished beverages to distributors and wholesalers that are generally not one of the Company's bottling partners. These operations are generally included in one of our geographic operating segments. In the United States, we manufacture fountain syrups and sell them to fountain retailers, who use the fountain syrups to produce beverages for immediate consumption, or to authorized fountain wholesalers or bottling partners, who resell the fountain syrups to fountain retailers. These fountain syrup sales are included in our North America operating segment. For information regarding net operating revenues and unit case volume related to our concentrate operations and finished product operations, refer to the heading \"Our Business  General\" set forth in Part II, \"Item 7. Management's Discussion and Analysis of Financial Condition and Results of Operations\" of this report, which is incorporated herein by reference. For information regarding how we measure the volume of Company beverage products sold by the Company and our bottling partners (\"Coca-Cola system\"), refer to the heading \"Operations Review  Beverage Volume\" set forth in Part II, \"Item 7. Management's Discussion and Analysis of Financial Condition and Results of Operations\" of this report, which is incorporated herein by reference. We own and market numerous valuable nonalcoholic beverage brands, including the following:  sparkling soft drinks : Coca-Cola, Diet Coke/Coca-Cola Light, Coca-Cola Zero Sugar, Fanta, Schweppes, * Sprite, Thums Up;  water, enhanced water and sports drinks : Aquarius, Dasani, glacau smartwater, glacau vitaminwater, Ice Dew, I LOHAS, Powerade;  juice, dairy and plant-based beverages : AdeS, Del Valle, innocent, Minute Maid, Minute Maid Pulpy, Simply, ZICO; and  tea and coffee : Ayataka, Costa, FUZE TEA, Georgia, Gold Peak, HONEST TEA.  *  Schweppes is owned by the Company in certain countries other than the United States. In addition to the beverage brands we own, we also provide marketing support and otherwise participate in the sales of other nonalcoholic beverage brands through licenses, joint ventures and strategic partnerships, including, but not limited to, the following:  Certain Coca-Cola system bottlers distribute certain brands of Monster, primarily Monster Energy, in designated territories in the United States, Canada and other international territories pursuant to distribution coordination agreements between the Company and Monster and related distribution agreements between Monster and Coca-Cola system bottlers.  We have a strategic partnership with Aujan Industries Company J.S.C. (\"Aujan\"), one of the largest independent beverage companies in the Middle East. We own 50 percent of the entity that holds the rights in certain territories to brands produced and distributed by Aujan, including Rani, a juice brand, and Barbican, a flavored malt beverage brand.  We and certain of our bottling partners distribute products of fairlife, LLC (\"fairlife\"), our joint venture with Select Milk Producers, Inc., a dairy cooperative, including fairlife ultra-filtered milk and Core Power, a high-protein milk shake, in the United States and Canada. Consumer demand determines the optimal menu of Company product offerings. Consumer demand can vary from one market to another and can change over time within a single market. Employing our business strategy, our Company seeks to further build its existing brands and, at the same time, to broaden its portfolio of brands, products and services in order to create and satisfy consumer demand in every market. Distribution System We make our branded beverage products available to consumers in more than 200 countries and territories through our network of independent bottling partners, distributors, wholesalers and retailers as well as Company-owned or -controlled bottling and distribution operations  the world's largest beverage distribution system. Consumers enjoy finished beverage products bearing trademarks owned by or licensed to us at a rate of more than 1.9 billion servings each day. We continue to expand our marketing presence in an effort to increase our unit case volume and net operating revenues in developed, developing and emerging markets. Our strong and stable bottling and distribution system helps us to capture growth by manufacturing, distributing and selling existing, enhanced and new innovative products to our consumers throughout the world. The Coca-Cola system sold 29.6 billion , 29.2 billion and 29.3 billion unit cases of our products in 2018 , 2017 and 2016 , respectively. Sparkling soft drinks represented 69 percent of our worldwide unit case volume for each of 2018 , 2017 and 2016 . Trademark Coca-Cola accounted for 45 percent of our worldwide unit case volume for each of 2018 , 2017 and 2016 . In 2018 , unit case volume in the United States represented 18 percent of the Company's worldwide unit case volume. Of the U.S. unit case volume, 62 percent was attributable to sparkling soft drinks. Trademark Coca-Cola accounted for 43 percent of U.S. unit case volume. Unit case volume outside the United States represented 82 percent of the Company's worldwide unit case volume for 2018 . The countries outside the United States in which our unit case volumes were the largest were Mexico, China, Brazil and Japan, which together accounted for 31 percent of our worldwide unit case volume. Of the non-U.S. unit case volume, 70 percent was attributable to sparkling soft drinks. Trademark Coca-Cola accounted for 46 percent of non-U.S. unit case volume. Our five largest independent bottling partners based on unit case volume in 2018 were:  Coca-Cola FEMSA, S.A.B. de C.V. (\"Coca-Cola FEMSA\"), which has bottling and distribution operations in  Mexico (a substantial part of central Mexico, including Mexico City, as well as southeast and northeast Mexico), Guatemala (nationwide), Nicaragua (nationwide), Costa Rica (nationwide), Panama (nationwide), Colombia (most of the country), Venezuela (nationwide), Brazil (greater So Paulo, Campias, Santos, the state of Mato Grosso do Sul, the state of Paran, the state of Santa Catarina, part of the state of Rio Grande do Sul, part of the state of Gois, part of the state of Rio de Janeiro and part of the state of Minas Gerais), Argentina (federal capital of Buenos Aires and surrounding areas) and Uruguay (nationwide);  Coca-Cola European Partners plc (\"CCEP\"), which has bottling and distribution operations in Andorra, Belgium, continental France, Germany, Great Britain, Iceland, Luxembourg, Monaco, the Netherlands, Norway, Portugal, Spain and Sweden;  Coca-Cola HBC AG (\"Coca-Cola Hellenic\"), which has bottling and distribution operations in Armenia, Austria, Belarus, Bosnia and Herzegovina, Bulgaria, Croatia, Cyprus, the Czech Republic, Estonia, the Former Yugoslav Republic of Macedonia, Greece, Hungary, Italy, Latvia, Lithuania, Moldova, Montenegro, Nigeria, Northern Ireland, Poland, Republic of Ireland, Romania, the Russian Federation, Serbia, Slovakia, Slovenia, Switzerland and Ukraine;  Arca Continental, S.A.B. de C.V., which has bottling and distribution operations in northern and western Mexico, northern Argentina, Ecuador, Peru, and the state of Texas and parts of the states of New Mexico, Oklahoma and Arkansas in the United States; and  Swire Beverages, which has bottling and distribution operations in 11 provinces and the Shanghai Municipality in the eastern and southern areas of mainland China, Hong Kong, Taiwan, and territories in 13 states in the western United States. In 2018 , these five bottling partners combined represented 40 percent of our total unit case volume. Being a bottler does not create a legal partnership or joint venture between us and our bottlers. Our bottlers are independent contractors and are not our agents. Bottler's Agreements We have separate contracts, to which we generally refer as \"bottler's agreements,\" with our bottling partners regarding the manufacture and sale of Company products. Subject to specified terms and conditions and certain variations, the bottler's agreements generally authorize the bottlers to prepare, package, distribute and sell Company Trademark Beverages in authorized containers in (but, subject to applicable local law, generally only in) an identified territory. The bottler is obligated to purchase its entire requirement of concentrates or syrups for the designated Company Trademark Beverages from the Company or Company-authorized suppliers. We typically agree to refrain from selling or distributing, or from authorizing third parties to sell or distribute, the designated Company Trademark Beverages throughout the identified territory in the particular authorized containers; however, we typically reserve for ourselves or our designee the right (1) to prepare and package such Company Trademark Beverages in such containers in the territory for sale outside the territory; (2) to prepare, package, distribute and sell such Company Trademark Beverages in the territory in any other manner or form (territorial restrictions on bottlers vary in some cases in accordance with local law); and (3) to handle certain key accounts (accounts that cover multiple territories). While under most of our bottler's agreements we generally have complete flexibility to determine the price and other terms of sale of the concentrates and syrups we sell to our bottlers, as a practical matter, our Company's ability to exercise its contractual flexibility to determine the price and other terms of sale of concentrates and syrups is subject, both outside and within the United States, to competitive market conditions. In addition, in some instances we have agreed or may in the future agree with a bottler with respect to concentrate pricing on a prospective basis for specified time periods. Also, in some markets, in an effort to allow our Company and our bottling partners to grow together through shared value, aligned financial objectives and the flexibility necessary to meet consumers' always changing needs and tastes, we worked with our bottling partners to develop and implement an incidence-based concentrate pricing model. Under this model, the concentrate price we charge is impacted by a number of factors, including, but not limited to, bottler pricing, the channels in which the finished products are sold and package mix. As further discussed below, our bottler's agreements for territories outside the United States differ in some respects from our bottler's agreements for territories within the United States. Bottler's Agreements Outside the United States Bottler's agreements between us and our authorized bottlers outside the United States generally are of stated duration, subject in some cases to possible extensions or renewals. Generally, these bottler's agreements are subject to termination by the Company following the occurrence of certain designated events, including defined events of default and certain changes in ownership or control of the bottlers. Most of the bottler's agreements in force between us and bottlers outside the United States authorize the bottlers to manufacture and distribute fountain syrups, usually on a nonexclusive basis. In certain parts of the world outside the United States, we have not granted comprehensive beverage production and distribution rights to the bottlers. In such instances, we have authorized certain bottlers to (1) manufacture Company Trademark Beverages for sale to other bottlers or (2) purchase Company Trademark Beverages from other bottlers for sale and distribution throughout their respective designated territories, often on a nonexclusive basis. Bottler's Agreements Within the United States In the United States, most bottlers operate under a \"comprehensive beverage agreement\" (\"CBA\") that is of stated duration, subject in most cases to renewal rights of bottlers and in some cases to renewal rights of the Company. Certain bottlers continue to operate under legacy bottler's agreements with no stated expiration date for Trademark Coca-Cola Beverages and other cola-flavored beverages. The bottler's agreements in the United States are subject to termination by the Company for nonperformance or upon the occurrence of certain defined events of default that may vary from contract to contract. Certain U.S. bottlers, which were granted certain additional exclusive territory rights for the distribution, promotion, marketing and sale of Company-owned and licensed beverage products (as defined by the CBAs) in connection with the refranchising of bottler territories that had previously been managed by Coca-Cola Refreshments (\"CCR\"), operate under \"expanding bottler CBAs,\" under which the Company generally retained the rights to produce the applicable beverage products for territories not covered by specific manufacturing agreements and such bottlers purchase from the Company (or from Company-authorized manufacturing bottlers) substantially all of the finished beverage products needed in order to service the customers in these territories. The expanding bottler CBA has a term of 10 years and is renewable, in most cases by the bottler, and in some cases by the Company, indefinitely for successive additional terms of 10 years each and includes additional requirements that provide for, among other things, a binding national governance model, mandatory incidence pricing and certain core performance requirements. The Company also entered into manufacturing agreements that authorize certain expanding bottlers that have executed expanding bottler CBAs to manufacture certain beverage products for their own account and for supply to other bottlers. In addition, certain U.S. bottlers that were not granted additional exclusive territory rights converted or agreed to convert their legacy bottler's agreements to a form of CBA to which we sometimes refer as \"non-expanding bottler CBA.\" This form of CBA has a term of 10 years and is renewable by the bottler indefinitely for successive additional terms of 10 years each and is substantially similar in most material respects to the expanding bottler CBA, including with respect to requirements for a binding national governance model and mandatory incidence pricing, but includes core performance requirements that vary in certain respects from those in the expanding bottler CBA. Those bottlers that have not signed a CBA continue to operate under legacy bottler's agreements that include pricing formulas that generally provide for a baseline price for certain Trademark Coca-Cola Beverages and other cola-flavored Company Trademark Beverages. This baseline price may be adjusted periodically by the Company, up to a maximum indexed ceiling price, and is adjusted quarterly based upon changes in certain sugar or sweetener prices, as applicable. The U.S. unit case volume manufactured, sold and distributed under these legacy bottler's agreements is not material. Under the terms of the bottler's agreements, bottlers in the United States generally are not authorized to manufacture fountain syrups. Rather, the Company manufactures and sells fountain syrups to authorized fountain wholesalers (including certain authorized bottlers) and some fountain retailers. These wholesalers in turn sell the syrups or deliver them on our behalf to restaurants and other retailers. Promotions and Marketing Programs In addition to conducting our own independent advertising and marketing activities, we may provide promotional and marketing support and/or funds to our bottlers. In most cases, we do this on a discretionary basis under the terms of commitment letters or agreements, even though we are not obligated to do so under the terms of the bottler's or distribution agreements between our Company and the bottlers. Also, on a discretionary basis in most cases, our Company may develop and introduce new products, packages and equipment to assist the bottlers. Likewise, in many instances, we provide promotional and marketing services and/or funds and/or dispensing equipment and repair services to fountain and bottle/can retailers, typically pursuant to marketing agreements. The aggregate amount provided by our Company to bottlers, resellers or other customers of our Company's products, principally for participation in promotional and marketing programs, was $ 4.3 billion in 2018 . Investments in Bottling Operations Most of our branded beverage products are manufactured, sold and distributed by independent bottling partners. However, from time to time we acquire or take control of bottling operations, often in underperforming markets where we believe we can use our resources and expertise to improve performance. Owning such a controlling interest enables us to compensate for limited local resources; help focus the bottler's sales and marketing programs; assist in the development of the bottler's business and information systems; and establish an appropriate capital structure for the bottler. In line with our long-term bottling strategy, we may periodically consider options for divesting or reducing our ownership interest in a Company-owned or -controlled bottler, typically by selling our interest in a particular bottling operation to an independent bottler to improve Coca-Cola system efficiency. When we sell our interest in a bottling operation to one of our other bottling partners in which we have an equity method investment, our Company continues to participate in the bottler's results of operations through our share of the equity method investee's earnings or losses. In addition, from time to time we make equity investments representing noncontrolling interests in selected bottling operations with the intention of maximizing the strength and efficiency of the Coca-Cola system's production, marketing, sales and distribution capabilities around the world by providing expertise and resources to strengthen those businesses. These investments are intended to result in increases in unit case volume, net revenues and profits at the bottler level, which in turn generate increased sales for our Company's concentrate business. When our equity investment provides us with the ability to exercise significant influence over the investee bottler's operating and financial policies, we account for the investment under the equity method, and we sometimes refer to such a bottler as an \"equity method investee bottler\" or \"equity method investee.\" Seasonality Sales of our nonalcoholic ready-to-drink beverages are somewhat seasonal, with the second and third calendar quarters accounting for the highest sales volumes. The volume of sales in the beverage business may be affected by weather conditions. Competition The nonalcoholic beverage segment of the commercial beverage industry is highly competitive, consisting of numerous companies ranging from small or emerging to very large and well established. These include companies that, like our Company, compete in multiple geographic areas, as well as businesses that are primarily regional or local in operation. Competitive products include numerous nonalcoholic sparkling soft drinks; various water products, including flavored and enhanced waters; juices and nectars; fruit drinks and dilutables (including syrups and powdered drinks); coffees and teas; energy, sports and other performance-enhancing drinks; milk and other dairy-based drinks; functional beverages, including vitamin-based products and relaxation beverages; and various other nonalcoholic beverages. These competitive beverages are sold to consumers in both ready-to-drink and other than ready-to-drink form. In many of the countries in which we do business, including the United States, PepsiCo, Inc., is one of our primary competitors. Other significant competitors include, but are not limited to, Nestl S.A., Keurig Dr Pepper Inc., Groupe Danone, Mondelz International, Inc., The Kraft Heinz Company, Suntory Beverage  Food Limited and Unilever. We also compete against numerous regional and local companies and, increasingly, against smaller companies that are developing micro brands and selling them directly to consumers through e-commerce retailers and other e-commerce platforms. In addition, in some markets, we compete against retailers that have developed their own store or private label beverage brands. Competitive factors impacting our business include, but are not limited to, pricing, advertising, sales promotion programs, in-store displays and point-of-sale marketing, product and ingredient innovation, increased efficiency in production techniques, the introduction of new packaging, new vending and dispensing equipment, contracting with marketing assets (theaters, sports arenas, universities, etc.) and brand and trademark development and protection. Our competitive strengths include leading brands with high levels of consumer acceptance; a worldwide network of bottlers and distributors of Company products; sophisticated marketing capabilities; and a talented group of dedicated associates. Our competitive challenges include strong competition in all geographic regions and, in many countries, a concentrated retail sector with powerful buyers able to freely choose among Company products, products of competitive beverage suppliers and individual retailers' own store or private label beverage brands. Raw Materials Water is a main ingredient in substantially all of our products. While historically we have not experienced significant water supply difficulties, water is a limited natural resource in many parts of the world, and our Company recognizes water availability, quality and sustainability, for both our operations and also the communities where we operate, as one of the key challenges facing our business. In addition to water, the principal raw materials used in our business are nutritive and non-nutritive sweeteners. In the United States, the principal nutritive sweetener is high fructose corn syrup (\"HFCS\"), which is nutritionally equivalent to sugar. HFCS is available from numerous domestic sources and has historically been subject to fluctuations in its market price. The principal nutritive sweetener used by our business outside the United States is sucrose, i.e., table sugar, which is also available from numerous sources and has historically been subject to fluctuations in its market price. Our Company generally has not experienced any difficulties in obtaining its requirements for nutritive sweeteners. In the United States, we purchase HFCS to meet our and our bottlers' requirements with the assistance of Coca-Cola Bottlers' Sales  Services Company LLC (\"CCBSS\"). CCBSS is a limited liability company that is owned by authorized Coca-Cola bottlers doing business in the United States. Among other things, CCBSS provides procurement services to our Company and to our bottling partners for the purchase of various goods and services in the United States, including HFCS. The principal non-nutritive sweeteners we use in our business are aspartame, acesulfame potassium, sucralose, saccharin, cyclamate and steviol glycosides. Generally, these raw materials are readily available from numerous sources. We purchase sucralose, which we consider a critical raw material, from suppliers in the United States and China. Our Company generally has not experienced major difficulties in obtaining its requirements for non-nutritive sweeteners, and we do not anticipate such difficulties in the future. Juice and juice concentrate from various fruits, particularly orange juice and orange juice concentrate, are the principal raw materials for our juice and juice drink products. We source our orange juice and orange juice concentrate primarily from Florida and the Southern Hemisphere (particularly Brazil). We work closely with Cutrale Citrus Juices U.S.A., Inc., our primary supplier of orange juice from Florida and Brazil, to ensure an adequate supply of orange juice and orange juice concentrate that meets our Company's standards. However, the citrus industry is impacted by greening disease and the variability of weather conditions. In particular, freezing weather or hurricanes in central Florida may result in shortages and higher prices for orange juice and orange juice concentrate throughout the industry. In addition, greening disease is reducing the number of trees and increasing grower costs and prices. Our Company-owned or consolidated bottling operations and our finished product business also purchase various other raw materials including, but not limited to, polyethylene terephthalate (\"PET\") resin, preforms and bottles; glass and aluminum bottles; aluminum and steel cans; plastic closures; aseptic fiber packaging; labels; cartons; cases; postmix packaging; and carbon dioxide. We generally purchase these raw materials from multiple suppliers and historically have not experienced significant shortages. Patents, Copyrights, Trade Secrets and Trademarks Our Company owns numerous patents, copyrights and trade secrets and other know-how and technology, which we collectively refer to in this report as \"technology.\" This technology generally relates to beverage products and the processes for their production; packages and packaging materials; design and operation of processes and equipment useful for our business; and certain software. Some of the technology is licensed to suppliers and other parties. Trade secrets are an important aspect of our technology, and our sparkling beverage and other beverage formulae are among the important trade secrets of our Company. We own numerous trademarks that are very important to our business. Depending upon the jurisdiction, trademarks are valid as long as they are in use and/or their registrations are properly maintained. Pursuant to our bottler's agreements, we authorize our bottlers to use applicable Company trademarks in connection with their manufacture, sale and distribution of Company products. In addition, we grant licenses to third parties from time to time to use certain of our trademarks in conjunction with certain merchandise and food products. Governmental Regulation Our Company is required to comply, and it is our policy to comply, with all applicable laws in the numerous countries throughout the world in which we do business. In many jurisdictions, compliance with competition laws is of special importance to us, and our operations may come under special scrutiny by competition law authorities due to our competitive position in those jurisdictions. In the United States, the safety, production, transportation, distribution, advertising, labeling and sale of our Company's products and their ingredients are subject to the Federal Food, Drug, and Cosmetic Act; the Federal Trade Commission Act; the Lanham Act; state consumer protection laws; competition laws; federal, state and local workplace health and safety laws; various federal, state and local environmental protection laws; privacy and personal data protection laws; and various other federal, state and local statutes and regulations. Outside the United States, our business is subject to numerous similar statutes and regulations, as well as other legal and regulatory requirements. Under a California law known as Proposition 65, if the state has determined that a substance causes cancer or harms human reproduction, a warning must be provided for any product sold in the state that exposes consumers to that substance. The state maintains lists of these substances and periodically adds other substances to these lists. Proposition 65 exposes all food and beverage producers to the possibility of having to provide warnings on their products in California because it does not provide for any generally applicable quantitative threshold below which the presence of a listed substance is exempt from the warning requirement. Consequently, the detection of even a trace amount of a listed substance can subject an affected product to the requirement of a warning label. However, Proposition 65 does not require a warning if the manufacturer of a product can demonstrate that the use of that product exposes consumers to a daily quantity of a listed substance that is:  below a \"safe harbor\" threshold that may be established;  naturally occurring;  the result of necessary cooking; or  subject to another applicable exemption. One or more substances that are currently on the Proposition 65 lists, or that may be added in the future, can be detected in certain Company products at low levels that are safe. With respect to substances that have not yet been listed under Proposition 65, the Company takes the position that listing is not scientifically justified. With respect to substances that are already listed, the Company takes the position that the presence of each such substance in Company products is subject to an applicable exemption from the warning requirement or that the product is otherwise in compliance with Proposition 65. The state of California and other parties, however, have in the past taken a contrary position and may do so in the future. Bottlers of our beverage products presently offer and use nonrefillable recyclable containers in the United States and various other markets around the world. Some of these bottlers also offer and use refillable containers, which are also recyclable. Legal requirements apply in various jurisdictions in the United States and overseas requiring that deposits or certain ecotaxes or fees be charged in connection with the sale, marketing and use of certain beverage containers. The precise requirements imposed by these measures vary. Other types of statutes and regulations relating to beverage container deposits, recycling, ecotaxes and/or product stewardship also apply in various jurisdictions in the United States and overseas. We anticipate that additional such legal requirements may be proposed or enacted in the future at local, state and federal levels, both in the United States and elsewhere. All of our Company's facilities and other operations in the United States and elsewhere around the world are subject to various environmental protection statutes and regulations, including those relating to the use of water resources and the discharge of wastewater. Our policy is to comply with all such legal requirements. Compliance with these provisions has not had, and we do not expect such compliance to have, any material adverse effect on our Company's capital expenditures, net income or competitive position. Employees As of December 31, 2018 and 2017 , our Company had approximately 62,600 and 61,800 employees, respectively, of which approximately 11,400 and 12,400 , respectively, were located in the United States. Our Company, through its divisions and subsidiaries, is a party to numerous collective bargaining agreements. As of December 31, 2018 , approximately 900 employees in North America were covered by collective bargaining agreements. These agreements have terms of three years to five years . We currently anticipate that we will be able to renegotiate such agreements on satisfactory terms when they expire. The Company believes that its relations with its employees are generally satisfactory. Available Information The Company maintains a website at the following address: www.coca-colacompany.com. The information on the Company's website is not incorporated by reference in this Annual Report on Form 10-K. We make available on or through our website certain reports and amendments to those reports that we file with or furnish to the Securities and Exchange Commission (\"SEC\") in accordance with the Securities Exchange Act of 1934, as amended (\"Exchange Act\"). These include our Annual Reports on Form 10-K, our Quarterly Reports on Form 10-Q and our Current Reports on Form 8-K. We make this information available on our website free of charge as soon as reasonably practicable after we electronically file the information with, or furnish it to, the SEC. The SEC maintains a website that contains reports, proxy and information statements, and other information regarding issuers that file electronically with the SEC at the following address: http://www.sec.gov.</td>\n",
              "      <td>NEGATIVE</td>\n",
              "      <td>420</td>\n",
              "    </tr>\n",
              "    <tr>\n",
              "      <th>8</th>\n",
              "      <td>ITEM 9A. CONTROLS AND PROCEDURES Evaluation of Disclosure Controls and Procedures The Company, under the supervision and with the participation of its management, including the Chief Executive Officer and the Chief Financial Officer, evaluated the effectiveness of the design and operation of the Company's \"disclosure controls and procedures\" (as defined in Rule 13a-15(e) under the Securities Exchange Act of 1934, as amended (\"Exchange Act\")) as of the end of the period covered by this report. Based on that evaluation, the Chief Executive Officer and the Chief Financial Officer concluded that the Company's disclosure controls and procedures were effective as of December 31, 2019 . Report of Management on Internal Control Over Financial Reporting and Attestation Report of Independent Registered Public Accounting Firm The report of management on our internal control over financial reporting as of December 31, 2019 and the attestation report of our independent registered public accounting firm on our internal control over financial reporting are set forth in Part II, \"Item 8. Financial Statements and Supplementary Data\" in this report. Changes in Internal Control Over Financial Reporting There have been no changes in the Company's internal control over financial reporting during the quarter ended December 31, 2019 that have materially affected, or are reasonably likely to materially affect, the Company's internal control over financial reporting.</td>\n",
              "      <td>NEGATIVE</td>\n",
              "      <td>419</td>\n",
              "    </tr>\n",
              "    <tr>\n",
              "      <th>9</th>\n",
              "      <td>Item 7A. Quantitative and Qualitative Disclosures About Market Risk We are exposed to market risks, including changes to foreign currency exchange rates, interest rates, and inflation. Foreign Currency Exchange Risk We have foreign currency risks related to our revenue and operating expenses denominated in currencies other than the U.S. dollar, primarily the Euro. In general, we are a net receiver of currencies other than the U.S. dollar. Accordingly, changes in exchange rates, and in particular a strengthening of the U.S. dollar, have in the past, and may in the future, negatively affect our revenue and other operating results as expressed in U.S. dollars. We have experienced and will continue to experience fluctuations in our net income as a result of transaction gains or losses related to revaluing certain current asset and current liability balances that are denominated in currencies other than the functional currency of the entities in which they are recorded. At this time we have not entered into, but in the future we may enter into, derivatives or other financial instruments in an attempt to hedge our foreign currency exchange risk. It is difficult to predict the effect hedging activities would have on our results of operations. We recognized foreign currency losses of $6 million , $76 million , and $66 million in 2017 , 2016 , and 2015 , respectively. Interest Rate Sensitivity Our exposure to changes in interest rates relates primarily to interest earned and market value on our cash and cash equivalents, and marketable securities. Our cash and cash equivalents and marketable securities consist of cash, certificates of deposit, time deposits, money market funds, U.S. government securities, U.S. government agency securities, and corporate debt securities . Our investment policy and strategy are focused on preservation of capital and supporting our liquidity requirements. Changes in U.S. interest rates affect the interest earned on our cash and cash equivalents and marketable securities, and the market value of those securities. A hypothetical 100 basis point increase in interest rates would have resulted in a decrease of $611 million and $403 million in the market value of our available-for-sale debt securities as of December 31, 2017 and December 31, 2016 , respectively. Any realized gains or losses resulting from such interest rate changes would only occur if we sold the investments prior to maturity.</td>\n",
              "      <td>NEGATIVE</td>\n",
              "      <td>47</td>\n",
              "    </tr>\n",
              "  </tbody>\n",
              "</table>"
            ]
          },
          "metadata": {}
        }
      ],
      "source": [
        "show_random_elements(dataset[\"train\"])"
      ]
    },
    {
      "cell_type": "markdown",
      "metadata": {
        "id": "lnjDIuQ3IrI-"
      },
      "source": [
        "The metric is an instance of [`datasets.Metric`](https://huggingface.co/docs/datasets/package_reference/main_classes.html#datasets.Metric):"
      ]
    },
    {
      "cell_type": "code",
      "execution_count": null,
      "metadata": {
        "id": "5o4rUteaIrI_",
        "outputId": "f37cd607-92a9-4c24-9cc7-205793cfd3dd",
        "colab": {
          "base_uri": "https://localhost:8080/"
        }
      },
      "outputs": [
        {
          "output_type": "execute_result",
          "data": {
            "text/plain": [
              "Metric(name: \"glue\", features: {'predictions': Value(dtype='int64', id=None), 'references': Value(dtype='int64', id=None)}, usage: \"\"\"\n",
              "Compute GLUE evaluation metric associated to each GLUE dataset.\n",
              "Args:\n",
              "    predictions: list of predictions to score.\n",
              "        Each translation should be tokenized into a list of tokens.\n",
              "    references: list of lists of references for each translation.\n",
              "        Each reference should be tokenized into a list of tokens.\n",
              "Returns: depending on the GLUE subset, one or several of:\n",
              "    \"accuracy\": Accuracy\n",
              "    \"f1\": F1 score\n",
              "    \"pearson\": Pearson Correlation\n",
              "    \"spearmanr\": Spearman Correlation\n",
              "    \"matthews_correlation\": Matthew Correlation\n",
              "Examples:\n",
              "\n",
              "    >>> glue_metric = datasets.load_metric('glue', 'sst2')  # 'sst2' or any of [\"mnli\", \"mnli_mismatched\", \"mnli_matched\", \"qnli\", \"rte\", \"wnli\", \"hans\"]\n",
              "    >>> references = [0, 1]\n",
              "    >>> predictions = [0, 1]\n",
              "    >>> results = glue_metric.compute(predictions=predictions, references=references)\n",
              "    >>> print(results)\n",
              "    {'accuracy': 1.0}\n",
              "\n",
              "    >>> glue_metric = datasets.load_metric('glue', 'mrpc')  # 'mrpc' or 'qqp'\n",
              "    >>> references = [0, 1]\n",
              "    >>> predictions = [0, 1]\n",
              "    >>> results = glue_metric.compute(predictions=predictions, references=references)\n",
              "    >>> print(results)\n",
              "    {'accuracy': 1.0, 'f1': 1.0}\n",
              "\n",
              "    >>> glue_metric = datasets.load_metric('glue', 'stsb')\n",
              "    >>> references = [0., 1., 2., 3., 4., 5.]\n",
              "    >>> predictions = [0., 1., 2., 3., 4., 5.]\n",
              "    >>> results = glue_metric.compute(predictions=predictions, references=references)\n",
              "    >>> print({\"pearson\": round(results[\"pearson\"], 2), \"spearmanr\": round(results[\"spearmanr\"], 2)})\n",
              "    {'pearson': 1.0, 'spearmanr': 1.0}\n",
              "\n",
              "    >>> glue_metric = datasets.load_metric('glue', 'cola')\n",
              "    >>> references = [0, 1]\n",
              "    >>> predictions = [0, 1]\n",
              "    >>> results = glue_metric.compute(predictions=predictions, references=references)\n",
              "    >>> print(results)\n",
              "    {'matthews_correlation': 1.0}\n",
              "\"\"\", stored examples: 0)"
            ]
          },
          "metadata": {},
          "execution_count": 25
        }
      ],
      "source": [
        "metric"
      ]
    },
    {
      "cell_type": "markdown",
      "metadata": {
        "id": "jAWdqcUBIrJC"
      },
      "source": [
        "You can call its `compute` method with your predictions and labels directly and it will return a dictionary with the metric(s) value:"
      ]
    },
    {
      "cell_type": "code",
      "execution_count": null,
      "metadata": {
        "id": "6XN1Rq0aIrJC",
        "outputId": "3e687767-64b8-4997-fa92-a291bb6e5fde",
        "colab": {
          "base_uri": "https://localhost:8080/"
        }
      },
      "outputs": [
        {
          "output_type": "execute_result",
          "data": {
            "text/plain": [
              "{'matthews_correlation': -0.21971768720102058}"
            ]
          },
          "metadata": {},
          "execution_count": 26
        }
      ],
      "source": [
        "import numpy as np\n",
        "\n",
        "fake_preds = np.random.randint(0, 2, size=(64,))\n",
        "fake_labels = np.random.randint(0, 2, size=(64,))\n",
        "metric.compute(predictions=fake_preds, references=fake_labels)"
      ]
    },
    {
      "cell_type": "markdown",
      "metadata": {
        "id": "YOCrQwPoIrJG"
      },
      "source": [
        "Note that `load_metric` has loaded the proper metric associated to your task, which is:\n",
        "\n",
        "- for CoLA: [Matthews Correlation Coefficient](https://en.wikipedia.org/wiki/Matthews_correlation_coefficient)\n",
        "- for MNLI (matched or mismatched): Accuracy\n",
        "- for MRPC: Accuracy and [F1 score](https://en.wikipedia.org/wiki/F1_score)\n",
        "- for QNLI: Accuracy\n",
        "- for QQP: Accuracy and [F1 score](https://en.wikipedia.org/wiki/F1_score)\n",
        "- for RTE: Accuracy\n",
        "- for SST-2: Accuracy\n",
        "- for STS-B: [Pearson Correlation Coefficient](https://en.wikipedia.org/wiki/Pearson_correlation_coefficient) and [Spearman's_Rank_Correlation_Coefficient](https://en.wikipedia.org/wiki/Spearman%27s_rank_correlation_coefficient)\n",
        "- for WNLI: Accuracy\n",
        "\n",
        "so the metric object only computes the one(s) needed for your task."
      ]
    },
    {
      "cell_type": "markdown",
      "metadata": {
        "id": "n9qywopnIrJH"
      },
      "source": [
        "## Preprocessing the data"
      ]
    },
    {
      "cell_type": "code",
      "execution_count": null,
      "metadata": {
        "id": "eXNLu_-nIrJI",
        "outputId": "4c733ea3-80b5-4b3d-be8b-18783b5d9e86",
        "colab": {
          "referenced_widgets": [
            "03ac317470094aea846929a2c63baca2",
            "d7901db7a61f47c1b52be0dfdc5742ef",
            "cbc330cb3ab9492fb0b5a06055b755d0",
            "bfe789cf4c13404084fdcd81ee1d9aa9",
            "d2baf015553d4d709ecd0553c92495a4",
            "85f02193e9b24d6ea3edc182e890849e",
            "d0b1799ad0d043ce8c47fd12260c66e7",
            "037f4334e7854f61926c6ecf14ec477c",
            "3eef3200aa06400fa700c744697ab902",
            "c05fd993665a4aab93d59935db3886f9",
            "b6e745177b5841dc9db5850ca6e5d98d",
            "6f9f9dec413a4ae499c2161055cb1504",
            "ee8813d6162c4316b04ec1be371ef0f1",
            "c03fd6caf89f414d8dc6e0dc7999ef79",
            "a94b270378fa4fa894ea053f198a9692",
            "8b6fea79ae2f4c51af7ef04f2bd18335",
            "df2ccfcf8158462f8363e1c5aec31754",
            "4977c751e1d14eb0a99cc07eea5453e0",
            "1d6719f8fb374235b8ebaf32f70e74ef",
            "b9272c9005a343649fd2dfc827c7b99b",
            "0567d7b79fcf43e9a2aa12064fae9270",
            "f6d42b459d1644bd8f1754e1543d1ec9",
            "d9352020c05f41258a10ad5eb79076da",
            "72baeb4188554a37acc630d3a4d74381",
            "004996ed893f422aa26ddb4fb2b8cbf1",
            "edc0ad5e0e4f4366b22c5734e3c601e1",
            "a5e64c55022345a2b7cf6a0d5dd30999",
            "86052c8c950648388e9f0fe7ad26019f",
            "572ba2387cc24dd7938fc409a21951c8",
            "7aa3c18395614f899dce12b40fd9f9e6",
            "73d32c241ceb47f9be079afafdf49cbd",
            "9cf616b5770f42f698327c709aba4e59",
            "41c8e77bc38a4faab0b6179aa641ff47",
            "4fa704a445f64e91a116447e953ebe1f",
            "cbf18267b3a0403e85b9e98e517e9d04",
            "b113cb9be98d4130be124cb69f5eeb60",
            "1f184e22029e45c59351f193822ce131",
            "64eaa8c3c5054f4b8562d151cab04580",
            "25f87a34797b4d91bd31ebe0e4d78cff",
            "2a8a6bccbeab4fbd9b157ef696110c2a",
            "d37ea8a4f9244b3b8e4feac19bd75552",
            "ecbe4af5ff8a4bb3b6aaa58b3efecfb7",
            "c05476d5eac04073b925892f45c98be0",
            "30a5082197254aef85860f9674e63152"
          ],
          "base_uri": "https://localhost:8080/",
          "height": 145
        }
      },
      "outputs": [
        {
          "output_type": "display_data",
          "data": {
            "text/plain": [
              "Downloading:   0%|          | 0.00/28.0 [00:00<?, ?B/s]"
            ],
            "application/vnd.jupyter.widget-view+json": {
              "version_major": 2,
              "version_minor": 0,
              "model_id": "03ac317470094aea846929a2c63baca2"
            }
          },
          "metadata": {}
        },
        {
          "output_type": "display_data",
          "data": {
            "text/plain": [
              "Downloading:   0%|          | 0.00/483 [00:00<?, ?B/s]"
            ],
            "application/vnd.jupyter.widget-view+json": {
              "version_major": 2,
              "version_minor": 0,
              "model_id": "6f9f9dec413a4ae499c2161055cb1504"
            }
          },
          "metadata": {}
        },
        {
          "output_type": "display_data",
          "data": {
            "text/plain": [
              "Downloading:   0%|          | 0.00/232k [00:00<?, ?B/s]"
            ],
            "application/vnd.jupyter.widget-view+json": {
              "version_major": 2,
              "version_minor": 0,
              "model_id": "d9352020c05f41258a10ad5eb79076da"
            }
          },
          "metadata": {}
        },
        {
          "output_type": "display_data",
          "data": {
            "text/plain": [
              "Downloading:   0%|          | 0.00/466k [00:00<?, ?B/s]"
            ],
            "application/vnd.jupyter.widget-view+json": {
              "version_major": 2,
              "version_minor": 0,
              "model_id": "4fa704a445f64e91a116447e953ebe1f"
            }
          },
          "metadata": {}
        }
      ],
      "source": [
        "from transformers import AutoTokenizer\n",
        "    \n",
        "tokenizer = AutoTokenizer.from_pretrained(model_checkpoint, use_fast=True)"
      ]
    },
    {
      "cell_type": "code",
      "execution_count": null,
      "metadata": {
        "id": "a5hBlsrHIrJL",
        "outputId": "f3d1f548-632b-4615-c735-6f4f51c4cecf",
        "colab": {
          "base_uri": "https://localhost:8080/"
        }
      },
      "outputs": [
        {
          "output_type": "execute_result",
          "data": {
            "text/plain": [
              "{'input_ids': [101, 7592, 1010, 2023, 2028, 6251, 999, 102, 1998, 2023, 6251, 3632, 2007, 2009, 1012, 102], 'attention_mask': [1, 1, 1, 1, 1, 1, 1, 1, 1, 1, 1, 1, 1, 1, 1, 1]}"
            ]
          },
          "metadata": {},
          "execution_count": 28
        }
      ],
      "source": [
        "tokenizer(\"Hello, this one sentence!\", \"And this sentence goes with it.\")"
      ]
    },
    {
      "cell_type": "markdown",
      "metadata": {
        "id": "qo_0B1M2IrJM"
      },
      "source": [
        "Depending on the model you selected, you will see different keys in the dictionary returned by the cell above. They don't matter much for what we're doing here (just know they are required by the model we will instantiate later), you can learn more about them in [this tutorial](https://huggingface.co/transformers/preprocessing.html) if you're interested.\n",
        "\n",
        "To preprocess our dataset, we will thus need the names of the columns containing the sentence(s). The following dictionary keeps track of the correspondence task to column names:"
      ]
    },
    {
      "cell_type": "code",
      "execution_count": null,
      "metadata": {
        "id": "fyGdtK9oIrJM"
      },
      "outputs": [],
      "source": [
        "task_to_keys = {\n",
        "    \"cola\": (\"sentence\", None),\n",
        "    \"mnli\": (\"premise\", \"hypothesis\"),\n",
        "    \"mnli-mm\": (\"premise\", \"hypothesis\"),\n",
        "    \"mrpc\": (\"sentence1\", \"sentence2\"),\n",
        "    \"qnli\": (\"question\", \"sentence\"),\n",
        "    \"qqp\": (\"question1\", \"question2\"),\n",
        "    \"rte\": (\"sentence1\", \"sentence2\"),\n",
        "    \"sst2\": (\"sentence\", None),\n",
        "    \"stsb\": (\"sentence1\", \"sentence2\"),\n",
        "    \"wnli\": (\"sentence1\", \"sentence2\"),\n",
        "}"
      ]
    },
    {
      "cell_type": "markdown",
      "metadata": {
        "id": "xbqtC4MrIrJO"
      },
      "source": [
        "We can double check it does work on our current dataset:"
      ]
    },
    {
      "cell_type": "code",
      "execution_count": null,
      "metadata": {
        "id": "19GG646uIrJO",
        "outputId": "4356e024-d041-40e4-fbc1-5c230b2d21e8",
        "colab": {
          "base_uri": "https://localhost:8080/"
        }
      },
      "outputs": [
        {
          "output_type": "stream",
          "name": "stdout",
          "text": [
            "Sentence:  ITEM 1B. UNRESOLVED STAFF COMMENTS  None. \n"
          ]
        }
      ],
      "source": [
        "sentence1_key, sentence2_key = task_to_keys[task]\n",
        "if sentence2_key is None:\n",
        "    print(f\"Sentence: {dataset['train'][0][sentence1_key]}\")\n",
        "else:\n",
        "    print(f\"Sentence 1: {dataset['train'][0][sentence1_key]}\")\n",
        "    print(f\"Sentence 2: {dataset['train'][0][sentence2_key]}\")"
      ]
    },
    {
      "cell_type": "markdown",
      "metadata": {
        "id": "2C0hcmp9IrJQ"
      },
      "source": [
        "We can then write the function that will preprocess our samples. We just feed them to the `tokenizer` with the argument `truncation=True`. This will ensure that an input longer that what the model selected can handle will be truncated to the maximum length accepted by the model."
      ]
    },
    {
      "cell_type": "code",
      "execution_count": null,
      "metadata": {
        "id": "vc0BSBLIIrJQ"
      },
      "outputs": [],
      "source": [
        "def preprocess_function(examples):\n",
        "    if sentence2_key is None:\n",
        "        return tokenizer(examples[sentence1_key], truncation=True)\n",
        "    return tokenizer(examples[sentence1_key], examples[sentence2_key], truncation=True)"
      ]
    },
    {
      "cell_type": "code",
      "source": [
        "def preprocess_function(examples):\n",
        "  return tokenizer(examples['sentence'], truncation=True)"
      ],
      "metadata": {
        "id": "bdsr-qiMvXLq"
      },
      "execution_count": null,
      "outputs": []
    },
    {
      "cell_type": "markdown",
      "metadata": {
        "id": "0lm8ozrJIrJR"
      },
      "source": [
        "This function works with one or several examples. In the case of several examples, the tokenizer will return a list of lists for each key:"
      ]
    },
    {
      "cell_type": "code",
      "execution_count": null,
      "metadata": {
        "id": "-b70jh26IrJS",
        "outputId": "35bd17f5-af65-4385-e452-1a2bf0b9809e",
        "colab": {
          "base_uri": "https://localhost:8080/"
        }
      },
      "outputs": [
        {
          "output_type": "execute_result",
          "data": {
            "text/plain": [
              "{'input_ids': [[101, 8875, 26314, 1012, 4895, 6072, 16116, 3095, 7928, 3904, 1012, 102], [101, 8875, 1015, 1012, 2449, 2236, 1052, 8873, 6290, 4297, 1012, 2003, 1037, 2470, 1011, 2241, 1010, 3795, 16012, 21890, 17830, 3401, 21823, 9289, 2194, 1012, 2057, 6611, 2671, 1998, 2256, 3795, 4219, 2000, 3288, 1996, 2527, 13046, 2000, 2111, 2008, 7949, 1998, 6022, 5335, 2037, 3268, 2083, 1996, 5456, 1010, 2458, 1998, 9922, 1997, 9871, 3688, 1012, 2256, 3795, 11103, 2950, 20233, 1998, 28896, 1010, 2004, 2092, 2004, 2116, 1997, 1996, 8484, 2190, 1011, 2124, 7325, 9871, 3688, 1012, 2057, 2147, 2408, 2764, 1998, 8361, 6089, 2000, 5083, 25860, 1010, 9740, 1010, 13441, 1998, 9526, 2015, 2008, 4119, 1996, 2087, 8615, 7870, 1997, 2256, 2051, 1012, 2057, 20880, 2007, 9871, 11670, 1010, 6867, 1998, 2334, 4279, 2000, 2490, 1998, 7818, 3229, 2000, 10539, 1010, 15184, 9871, 2105, 1996, 2088, 1012, 2256, 12594, 2024, 5173, 2013, 1996, 5096, 1997, 2256, 3688, 1998, 1010, 2000, 1037, 2172, 8276, 6698, 1010, 2013, 4707, 10540, 1010, 2104, 2029, 2057, 2522, 1011, 5326, 3688, 3603, 2030, 2764, 2011, 2060, 3316, 2030, 2149, 1012, 1996, 3484, 1997, 2256, 12594, 2272, 2013, 1996, 9922, 1998, 5096, 1997, 16012, 21890, 17830, 3401, 21823, 9289, 3688, 1012, 1996, 2194, 2001, 5100, 2104, 1996, 4277, 1997, 1996, 2110, 1997, 8452, 2006, 2238, 1016, 1010, 3758, 1012, 2057, 2903, 2008, 2256, 20233, 3073, 3278, 3643, 2005, 2119, 9871, 11670, 1998, 5022, 1010, 2025, 2069, 2013, 1996, 5301, 3949, 1997, 7870, 2021, 2036, 2013, 1037, 7312, 1999, 2060, 9871, 5366, 1010, 2107, 2004, 5057, 2282, 2030, 2902, 3989, 5366, 1010, 2004, 2092, 2004, 8377, 1999, 2740, 1010, 25860, 1998, 15836, 1012, 2057, 3613, 2000, 8851, 8526, 1999, 22580, 2055, 1996, 3643, 1997, 2256, 20233, 1998, 2129, 2057, 2064, 2190, 2147, 2007, 5022, 1010, 11572, 1998, 3477, 2545, 2000, 4652, 1998, 7438, 4295, 1998, 5335, 13105, 1012, 2057, 3613, 2000, 2147, 2306, 1996, 2783, 3423, 1998, 20874, 5090, 1010, 2004, 2092, 2004, 3613, 2000, 3319, 2256, 20874, 7565, 1998, 21012, 4725, 2007, 3477, 2545, 1010, 2000, 25845, 5776, 3229, 1998, 18478, 2151, 15316, 4254, 2006, 2256, 12594, 1012, 2057, 3961, 7933, 5462, 2000, 21570, 2256, 2194, 2015, 3800, 1997, 7601, 7103, 3436, 2000, 3288, 1996, 2527, 13046, 2000, 5022, 2008, 7949, 1998, 6022, 5335, 2037, 3268, 1012, 2011, 2725, 2061, 1010, 2057, 5987, 2000, 3443, 3643, 2005, 1996, 5022, 2057, 3710, 1998, 2005, 2256, 15337, 1012, 2057, 2024, 5462, 2000, 3007, 6026, 2006, 3930, 6695, 2011, 10787, 2256, 2219, 13117, 1998, 20446, 6026, 1996, 3643, 1997, 2256, 1999, 1011, 2240, 3688, 1010, 2004, 2092, 2004, 2083, 2536, 3596, 1997, 2449, 2458, 1010, 2029, 2064, 2421, 21277, 1010, 15943, 1010, 4101, 13252, 1010, 17437, 1010, 10067, 1011, 2030, 7016, 1011, 2241, 10518, 1010, 22137, 2015, 1010, 28585, 1998, 19530, 1012, 2057, 3193, 2256, 2449, 2458, 4023, 2004, 2019, 9585, 2099, 1997, 2256, 9942, 1010, 1998, 2057, 6148, 2000, 9699, 16565, 3930, 1998, 11598, 18668, 3643, 2011, 11828, 1037, 28675, 1010, 6143, 1998, 3361, 3921, 2000, 23208, 2449, 2458, 6695, 1012, 2006, 2337, 1017, 1010, 2418, 1010, 2057, 2949, 1996, 5096, 1997, 2256, 3795, 1999, 20523, 7242, 5658, 7045, 1010, 2010, 1010, 2000, 24582, 2226, 102], [101, 8875, 1015, 1012, 2449, 19184, 2004, 2256, 8759, 6554, 1998, 22703, 2626, 1999, 1996, 2434, 8759, 1005, 3661, 1010, 1000, 8224, 2003, 2025, 1037, 7511, 2194, 1012, 2057, 2079, 2025, 13566, 2000, 2468, 2028, 1012, 1000, 2008, 23693, 4382, 2038, 2042, 1037, 4439, 2486, 2802, 2256, 2381, 1011, 1011, 18988, 2149, 2000, 2079, 2477, 2066, 2128, 15222, 8950, 1996, 4684, 5080, 16927, 2007, 11924, 1998, 4949, 1996, 2088, 2007, 8224, 7341, 1012, 2004, 2112, 1997, 2008, 1010, 2256, 8759, 2036, 4541, 2008, 2017, 2071, 5987, 2149, 2000, 2191, 1000, 3760, 29475, 1999, 2752, 2008, 2453, 4025, 2200, 23250, 2030, 2130, 4326, 2043, 4102, 2000, 2256, 2783, 5661, 1012, 1000, 2013, 1996, 2707, 1010, 1996, 2194, 2038, 2467, 29453, 2094, 2000, 2079, 2062, 1010, 1998, 2000, 2079, 2590, 1998, 15902, 2477, 2007, 1996, 4219, 2057, 2031, 1012, 12440, 2003, 1037, 3074, 1997, 5661, 1011, 1011, 1996, 2922, 1997, 2029, 2003, 8224, 1012, 2009, 2036, 2950, 5661, 2008, 2024, 3227, 3492, 2521, 28697, 14273, 1997, 2256, 2364, 4274, 3688, 1999, 2752, 2107, 2004, 2969, 1011, 4439, 3765, 1010, 2166, 4163, 1010, 4274, 3229, 1998, 2694, 2578, 1012, 2057, 3189, 2035, 2512, 1011, 8224, 5661, 13643, 2004, 2060, 29475, 1012, 2256, 12440, 3252, 2003, 2055, 5094, 2169, 1997, 2256, 5661, 4013, 17668, 2083, 2844, 4177, 1998, 4336, 1012, 3229, 1998, 2974, 2005, 3071, 1996, 4274, 2003, 2028, 1997, 1996, 8484, 2087, 3928, 5020, 17629, 2015, 1010, 5214, 1997, 17678, 23918, 2047, 4784, 1998, 2111, 2830, 1012, 2012, 8224, 1010, 2256, 3260, 2003, 2000, 2191, 2469, 2008, 2592, 4240, 3071, 1010, 2025, 2074, 1037, 2261, 1012, 2061, 3251, 2017, 1005, 2128, 1037, 2775, 1999, 1037, 3541, 2352, 2030, 1037, 2934, 2012, 2019, 7069, 2118, 1010, 2017, 2064, 3229, 1996, 2168, 2592, 1012, 2057, 2024, 5094, 2111, 2131, 3784, 2011, 22701, 2075, 3617, 6322, 2000, 1996, 3791, 1997, 8361, 6089, 1012, 2005, 6013, 1010, 2256, 3617, 10504, 10439, 1999, 2634, 1010, 2085, 2170, 8224, 3477, 1010, 7126, 15295, 1997, 8817, 1997, 2111, 1998, 5661, 4089, 3477, 2007, 2074, 1037, 2261, 25316, 1012, 2057, 1005, 2128, 2036, 2437, 2469, 2256, 4563, 8224, 3688, 2024, 3435, 1998, 6179, 1010, 2926, 2005, 5198, 1999, 2752, 2073, 3177, 1998, 20831, 2024, 2430, 5936, 1012, 2060, 12440, 3316, 2024, 2036, 11828, 11107, 2007, 2714, 3289, 1012, 2005, 6013, 1010, 8840, 2239, 2623, 2008, 2009, 2097, 3288, 2049, 13212, 1011, 6113, 4274, 2000, 4655, 1997, 2430, 7938, 1010, 3225, 1999, 10476, 1012, 23377, 12326, 2015, 2116, 3316, 2131, 6625, 2725, 2054, 2027, 2031, 2467, 2589, 1010, 2437, 2069, 4297, 28578, 21050, 3431, 1012, 2023, 4297, 28578, 21050, 2964, 5260, 2000, 20868, 16570, 13331, 5897, 2058, 2051, 1010, 2926, 1999, 2974, 1010, 2073, 2689, 12102, 2000, 2022, 6208, 1010, 2025, 12761, 1012, 2111, 2245, 2057, 2020, 4689, 2043, 2057, 3734, 7858, 1998, 11924, 1998, 2043, 2057, 3390, 18546, 1010, 2021, 2216, 4073, 2031, 9677, 2094, 2046, 2350, 7248, 2005, 3617, 2678, 1998, 4684, 5733, 1998, 1037, 13726, 1010, 2759, 16602, 1012, 2057, 3613, 2000, 2298, 2646, 1996, 2925, 1998, 3613, 2000, 15697, 2005, 1996, 2146, 1011, 2744, 1012, 2004, 2057, 2056, 1999, 102], [101, 8875, 1021, 1012, 2968, 2015, 6594, 1998, 4106, 1997, 3361, 4650, 1998, 3463, 1997, 3136, 1012, 2256, 2449, 3237, 19184, 2256, 3136, 2060, 6550, 2256, 2449, 10831, 2256, 3361, 3463, 3463, 1997, 3136, 10495, 3319, 2512, 1011, 19930, 2361, 5761, 5167, 12473, 4012, 28689, 8553, 3463, 1997, 3136, 2407, 3319, 10424, 9956, 1011, 3913, 2167, 2637, 18844, 9440, 2167, 2637, 2167, 2637, 21705, 3763, 2637, 2885, 4942, 1011, 24505, 3088, 4021, 1010, 2690, 2264, 1998, 2167, 3088, 2256, 6381, 3012, 1998, 3007, 4219, 2709, 2006, 11241, 3007, 2256, 4187, 9529, 6043, 6599, 5038, 22875, 1998, 2060, 20014, 5654, 7028, 7045, 3318, 4171, 10961, 1998, 16222, 6820, 9777, 11550, 1998, 11036, 2063, 2966, 3488, 10495, 4861, 1997, 3318, 10495, 4861, 1997, 7721, 3318, 10495, 4861, 1997, 5356, 6223, 10495, 5703, 7123, 10495, 4861, 1997, 10067, 3964, 2000, 10495, 3361, 8635, 3602, 1015, 3978, 1997, 8312, 1998, 2256, 5908, 3602, 1016, 2256, 3278, 9529, 6043, 3602, 1017, 18322, 1998, 25172, 5571, 3602, 1018, 3200, 1010, 3269, 1998, 3941, 1998, 20014, 5654, 7028, 7045, 3602, 1019, 3318, 7773, 3602, 1020, 3745, 1011, 2241, 9430, 3602, 1021, 11550, 1010, 11036, 2063, 2966, 1998, 10995, 3488, 3602, 1022, 7016, 14422, 3602, 1023, 3361, 5693, 3602, 2184, 5658, 3318, 2012, 18886, 8569, 10880, 2000, 27237, 3597, 2566, 2691, 3745, 3602, 2340, 6871, 4518, 3602, 2260, 14830, 2060, 7721, 3279, 2012, 18886, 8569, 10880, 2000, 27237, 3597, 3602, 2410, 27024, 3361, 2592, 3602, 2403, 11529, 16643, 22662, 2968, 2015, 5368, 2005, 3361, 7316, 3189, 1997, 2981, 5068, 2270, 9529, 3813, 27068, 5649, 4008, 2256, 6594, 1998, 4106, 2003, 3832, 2000, 2393, 1996, 8068, 3305, 2256, 3463, 1997, 3136, 1998, 3361, 4650, 1998, 2003, 3024, 2004, 2019, 2804, 2000, 1010, 1998, 2323, 2022, 3191, 1999, 4434, 2007, 1010, 2256, 10495, 3361, 8635, 1998, 1996, 10860, 3964, 1012, 15182, 1997, 3145, 3408, 2064, 2022, 2179, 1999, 1996, 27068, 5649, 2927, 2006, 3931, 1015, 2382, 1012, 21628, 7934, 6363, 2024, 3591, 1999, 8817, 1010, 3272, 2566, 3745, 8310, 1012, 2035, 2566, 3745, 8310, 8339, 2691, 4518, 2566, 3745, 8310, 1010, 7868, 29454, 13700, 4983, 4728, 3264, 1010, 1998, 2024, 2241, 2006, 4895, 22494, 25848, 8310, 1012, 7017, 3431, 2024, 2241, 2006, 4895, 22494, 25848, 8310, 1012, 2256, 2449, 3237, 19184, 2057, 2024, 1037, 2877, 3795, 2833, 1998, 19645, 2194, 2007, 1037, 21053, 11103, 1997, 22249, 9639, 1010, 2164, 10424, 9956, 1011, 3913, 1010, 11721, 4263, 9648, 1010, 27237, 1011, 15270, 1010, 18844, 1998, 19817, 7361, 5555, 2532, 1012, 2083, 2256, 3136, 1010, 9362, 5835, 2869, 1010, 3206, 8712, 1998, 2060, 2353, 4243, 1010, 2057, 2191, 1010, 3006, 1010, 16062, 1998, 5271, 1037, 2898, 3528, 1997, 14057, 1998, 22249, 21705, 1010, 9440, 1998, 27962, 1010, 3529, 6304, 1998, 10390, 1999, 2062, 2084, 3263, 3032, 1998, 6500, 1012, 2012, 27237, 3597, 1010, 2057, 2024, 4208, 2006, 4082, 2256, 2194, 1999, 1037, 2126, 2008, 19421, 8760, 3361, 3930, 1998, 10862, 2844, 5651, 1998, 2003, 2036, 26651, 2000, 1996, 3791, 1997, 1996, 2088, 2105, 2149, 1012, 2057, 2655, 2023, 3921, 2836, 2007, 3800, 2009, 2003, 11157, 2046, 2256, 2449, 1998, 2256, 5656, 1998, 2009, 102], [101, 8875, 1021, 2050, 1012, 20155, 1998, 24209, 11475, 27453, 19380, 2015, 2055, 3006, 3891, 1012, 1996, 2592, 3223, 2011, 2023, 8875, 2003, 5100, 2011, 4431, 2000, 1996, 6594, 2104, 3361, 5693, 3006, 3891, 19380, 2015, 1999, 8875, 1021, 1012, 2968, 2015, 6594, 1998, 4106, 1997, 3361, 4650, 1998, 3463, 1997, 3136, 1012, 1055, 102]], 'attention_mask': [[1, 1, 1, 1, 1, 1, 1, 1, 1, 1, 1, 1], [1, 1, 1, 1, 1, 1, 1, 1, 1, 1, 1, 1, 1, 1, 1, 1, 1, 1, 1, 1, 1, 1, 1, 1, 1, 1, 1, 1, 1, 1, 1, 1, 1, 1, 1, 1, 1, 1, 1, 1, 1, 1, 1, 1, 1, 1, 1, 1, 1, 1, 1, 1, 1, 1, 1, 1, 1, 1, 1, 1, 1, 1, 1, 1, 1, 1, 1, 1, 1, 1, 1, 1, 1, 1, 1, 1, 1, 1, 1, 1, 1, 1, 1, 1, 1, 1, 1, 1, 1, 1, 1, 1, 1, 1, 1, 1, 1, 1, 1, 1, 1, 1, 1, 1, 1, 1, 1, 1, 1, 1, 1, 1, 1, 1, 1, 1, 1, 1, 1, 1, 1, 1, 1, 1, 1, 1, 1, 1, 1, 1, 1, 1, 1, 1, 1, 1, 1, 1, 1, 1, 1, 1, 1, 1, 1, 1, 1, 1, 1, 1, 1, 1, 1, 1, 1, 1, 1, 1, 1, 1, 1, 1, 1, 1, 1, 1, 1, 1, 1, 1, 1, 1, 1, 1, 1, 1, 1, 1, 1, 1, 1, 1, 1, 1, 1, 1, 1, 1, 1, 1, 1, 1, 1, 1, 1, 1, 1, 1, 1, 1, 1, 1, 1, 1, 1, 1, 1, 1, 1, 1, 1, 1, 1, 1, 1, 1, 1, 1, 1, 1, 1, 1, 1, 1, 1, 1, 1, 1, 1, 1, 1, 1, 1, 1, 1, 1, 1, 1, 1, 1, 1, 1, 1, 1, 1, 1, 1, 1, 1, 1, 1, 1, 1, 1, 1, 1, 1, 1, 1, 1, 1, 1, 1, 1, 1, 1, 1, 1, 1, 1, 1, 1, 1, 1, 1, 1, 1, 1, 1, 1, 1, 1, 1, 1, 1, 1, 1, 1, 1, 1, 1, 1, 1, 1, 1, 1, 1, 1, 1, 1, 1, 1, 1, 1, 1, 1, 1, 1, 1, 1, 1, 1, 1, 1, 1, 1, 1, 1, 1, 1, 1, 1, 1, 1, 1, 1, 1, 1, 1, 1, 1, 1, 1, 1, 1, 1, 1, 1, 1, 1, 1, 1, 1, 1, 1, 1, 1, 1, 1, 1, 1, 1, 1, 1, 1, 1, 1, 1, 1, 1, 1, 1, 1, 1, 1, 1, 1, 1, 1, 1, 1, 1, 1, 1, 1, 1, 1, 1, 1, 1, 1, 1, 1, 1, 1, 1, 1, 1, 1, 1, 1, 1, 1, 1, 1, 1, 1, 1, 1, 1, 1, 1, 1, 1, 1, 1, 1, 1, 1, 1, 1, 1, 1, 1, 1, 1, 1, 1, 1, 1, 1, 1, 1, 1, 1, 1, 1, 1, 1, 1, 1, 1, 1, 1, 1, 1, 1, 1, 1, 1, 1, 1, 1, 1, 1, 1, 1, 1, 1, 1, 1, 1, 1, 1, 1, 1, 1, 1, 1, 1, 1, 1, 1, 1, 1, 1, 1, 1, 1, 1, 1, 1, 1, 1, 1, 1, 1, 1, 1, 1, 1, 1, 1, 1, 1, 1, 1, 1, 1, 1, 1, 1, 1, 1, 1, 1, 1, 1, 1, 1, 1, 1, 1, 1, 1, 1, 1, 1, 1, 1, 1, 1], [1, 1, 1, 1, 1, 1, 1, 1, 1, 1, 1, 1, 1, 1, 1, 1, 1, 1, 1, 1, 1, 1, 1, 1, 1, 1, 1, 1, 1, 1, 1, 1, 1, 1, 1, 1, 1, 1, 1, 1, 1, 1, 1, 1, 1, 1, 1, 1, 1, 1, 1, 1, 1, 1, 1, 1, 1, 1, 1, 1, 1, 1, 1, 1, 1, 1, 1, 1, 1, 1, 1, 1, 1, 1, 1, 1, 1, 1, 1, 1, 1, 1, 1, 1, 1, 1, 1, 1, 1, 1, 1, 1, 1, 1, 1, 1, 1, 1, 1, 1, 1, 1, 1, 1, 1, 1, 1, 1, 1, 1, 1, 1, 1, 1, 1, 1, 1, 1, 1, 1, 1, 1, 1, 1, 1, 1, 1, 1, 1, 1, 1, 1, 1, 1, 1, 1, 1, 1, 1, 1, 1, 1, 1, 1, 1, 1, 1, 1, 1, 1, 1, 1, 1, 1, 1, 1, 1, 1, 1, 1, 1, 1, 1, 1, 1, 1, 1, 1, 1, 1, 1, 1, 1, 1, 1, 1, 1, 1, 1, 1, 1, 1, 1, 1, 1, 1, 1, 1, 1, 1, 1, 1, 1, 1, 1, 1, 1, 1, 1, 1, 1, 1, 1, 1, 1, 1, 1, 1, 1, 1, 1, 1, 1, 1, 1, 1, 1, 1, 1, 1, 1, 1, 1, 1, 1, 1, 1, 1, 1, 1, 1, 1, 1, 1, 1, 1, 1, 1, 1, 1, 1, 1, 1, 1, 1, 1, 1, 1, 1, 1, 1, 1, 1, 1, 1, 1, 1, 1, 1, 1, 1, 1, 1, 1, 1, 1, 1, 1, 1, 1, 1, 1, 1, 1, 1, 1, 1, 1, 1, 1, 1, 1, 1, 1, 1, 1, 1, 1, 1, 1, 1, 1, 1, 1, 1, 1, 1, 1, 1, 1, 1, 1, 1, 1, 1, 1, 1, 1, 1, 1, 1, 1, 1, 1, 1, 1, 1, 1, 1, 1, 1, 1, 1, 1, 1, 1, 1, 1, 1, 1, 1, 1, 1, 1, 1, 1, 1, 1, 1, 1, 1, 1, 1, 1, 1, 1, 1, 1, 1, 1, 1, 1, 1, 1, 1, 1, 1, 1, 1, 1, 1, 1, 1, 1, 1, 1, 1, 1, 1, 1, 1, 1, 1, 1, 1, 1, 1, 1, 1, 1, 1, 1, 1, 1, 1, 1, 1, 1, 1, 1, 1, 1, 1, 1, 1, 1, 1, 1, 1, 1, 1, 1, 1, 1, 1, 1, 1, 1, 1, 1, 1, 1, 1, 1, 1, 1, 1, 1, 1, 1, 1, 1, 1, 1, 1, 1, 1, 1, 1, 1, 1, 1, 1, 1, 1, 1, 1, 1, 1, 1, 1, 1, 1, 1, 1, 1, 1, 1, 1, 1, 1, 1, 1, 1, 1, 1, 1, 1, 1, 1, 1, 1, 1, 1, 1, 1, 1, 1, 1, 1, 1, 1, 1, 1, 1, 1, 1, 1, 1, 1, 1, 1, 1, 1, 1, 1, 1, 1, 1, 1, 1, 1, 1, 1, 1, 1, 1, 1, 1, 1, 1, 1, 1, 1, 1, 1, 1, 1, 1, 1, 1, 1], [1, 1, 1, 1, 1, 1, 1, 1, 1, 1, 1, 1, 1, 1, 1, 1, 1, 1, 1, 1, 1, 1, 1, 1, 1, 1, 1, 1, 1, 1, 1, 1, 1, 1, 1, 1, 1, 1, 1, 1, 1, 1, 1, 1, 1, 1, 1, 1, 1, 1, 1, 1, 1, 1, 1, 1, 1, 1, 1, 1, 1, 1, 1, 1, 1, 1, 1, 1, 1, 1, 1, 1, 1, 1, 1, 1, 1, 1, 1, 1, 1, 1, 1, 1, 1, 1, 1, 1, 1, 1, 1, 1, 1, 1, 1, 1, 1, 1, 1, 1, 1, 1, 1, 1, 1, 1, 1, 1, 1, 1, 1, 1, 1, 1, 1, 1, 1, 1, 1, 1, 1, 1, 1, 1, 1, 1, 1, 1, 1, 1, 1, 1, 1, 1, 1, 1, 1, 1, 1, 1, 1, 1, 1, 1, 1, 1, 1, 1, 1, 1, 1, 1, 1, 1, 1, 1, 1, 1, 1, 1, 1, 1, 1, 1, 1, 1, 1, 1, 1, 1, 1, 1, 1, 1, 1, 1, 1, 1, 1, 1, 1, 1, 1, 1, 1, 1, 1, 1, 1, 1, 1, 1, 1, 1, 1, 1, 1, 1, 1, 1, 1, 1, 1, 1, 1, 1, 1, 1, 1, 1, 1, 1, 1, 1, 1, 1, 1, 1, 1, 1, 1, 1, 1, 1, 1, 1, 1, 1, 1, 1, 1, 1, 1, 1, 1, 1, 1, 1, 1, 1, 1, 1, 1, 1, 1, 1, 1, 1, 1, 1, 1, 1, 1, 1, 1, 1, 1, 1, 1, 1, 1, 1, 1, 1, 1, 1, 1, 1, 1, 1, 1, 1, 1, 1, 1, 1, 1, 1, 1, 1, 1, 1, 1, 1, 1, 1, 1, 1, 1, 1, 1, 1, 1, 1, 1, 1, 1, 1, 1, 1, 1, 1, 1, 1, 1, 1, 1, 1, 1, 1, 1, 1, 1, 1, 1, 1, 1, 1, 1, 1, 1, 1, 1, 1, 1, 1, 1, 1, 1, 1, 1, 1, 1, 1, 1, 1, 1, 1, 1, 1, 1, 1, 1, 1, 1, 1, 1, 1, 1, 1, 1, 1, 1, 1, 1, 1, 1, 1, 1, 1, 1, 1, 1, 1, 1, 1, 1, 1, 1, 1, 1, 1, 1, 1, 1, 1, 1, 1, 1, 1, 1, 1, 1, 1, 1, 1, 1, 1, 1, 1, 1, 1, 1, 1, 1, 1, 1, 1, 1, 1, 1, 1, 1, 1, 1, 1, 1, 1, 1, 1, 1, 1, 1, 1, 1, 1, 1, 1, 1, 1, 1, 1, 1, 1, 1, 1, 1, 1, 1, 1, 1, 1, 1, 1, 1, 1, 1, 1, 1, 1, 1, 1, 1, 1, 1, 1, 1, 1, 1, 1, 1, 1, 1, 1, 1, 1, 1, 1, 1, 1, 1, 1, 1, 1, 1, 1, 1, 1, 1, 1, 1, 1, 1, 1, 1, 1, 1, 1, 1, 1, 1, 1, 1, 1, 1, 1, 1, 1, 1, 1, 1, 1, 1, 1, 1, 1, 1, 1, 1, 1, 1, 1, 1, 1, 1, 1, 1, 1, 1, 1, 1, 1], [1, 1, 1, 1, 1, 1, 1, 1, 1, 1, 1, 1, 1, 1, 1, 1, 1, 1, 1, 1, 1, 1, 1, 1, 1, 1, 1, 1, 1, 1, 1, 1, 1, 1, 1, 1, 1, 1, 1, 1, 1, 1, 1, 1, 1, 1, 1, 1, 1, 1, 1, 1, 1, 1, 1]]}"
            ]
          },
          "metadata": {},
          "execution_count": 40
        }
      ],
      "source": [
        "preprocess_function(dataset['train'][:5])"
      ]
    },
    {
      "cell_type": "markdown",
      "metadata": {
        "id": "zS-6iXTkIrJT"
      },
      "source": [
        "To apply this function on all the sentences (or pairs of sentences) in our dataset, we just use the `map` method of our `dataset` object we created earlier. This will apply the function on all the elements of all the splits in `dataset`, so our training, validation and testing data will be preprocessed in one single command."
      ]
    },
    {
      "cell_type": "code",
      "execution_count": null,
      "metadata": {
        "id": "DDtsaJeVIrJT",
        "outputId": "d10a6773-3d1a-4f59-ad31-918d7bd45f3e",
        "colab": {
          "referenced_widgets": [
            "611ffb47b9d848d58f6e3984bab8d336",
            "e2f78cd661b34bdbb020b49a7f17cf72",
            "84a78a91d6b54e2b88022a4830fe6f2e",
            "e9a6abe0077b41099c91e7e2b6a9c8df",
            "43e3c72ca8ef4cf4946a26f3f59708cc",
            "97308887a1cc4156b48c7ce8e5991d84",
            "d925c68162c6423ca19bf83a11f964de",
            "1c4bed20e0114848b92eb517ef771306",
            "a72e8ab65ac34676b20f444e95d3af2b",
            "8ac720d6daf741139e2e970cee8f4de1",
            "bc0a6adebfe44a8da22b89fe7b6a3718",
            "6043090d7ddb48469e14b0d10abb09af",
            "d285ab76fa8b4b03af06fcda4efe15b6",
            "e68ded6be92640e781b2cdd78153d773",
            "fff7a66d962447a28fc6081467bea3b6",
            "b288d39a5fd54181bf8a7e44df039258",
            "c30d38d18441412f9c74847d9ae4fead",
            "50745d723338452b88ee1a1956a7bbfe",
            "0ffd43c255d34df1ad9506e7966162eb",
            "5e1847e28d7d40d38c6706df676097ef",
            "da59d62a1d0e49419ea4a4f13dd01d1f",
            "67775f54d5084956b6ed1db70f050feb"
          ],
          "base_uri": "https://localhost:8080/",
          "height": 81
        }
      },
      "outputs": [
        {
          "output_type": "display_data",
          "data": {
            "text/plain": [
              "  0%|          | 0/1 [00:00<?, ?ba/s]"
            ],
            "application/vnd.jupyter.widget-view+json": {
              "version_major": 2,
              "version_minor": 0,
              "model_id": "611ffb47b9d848d58f6e3984bab8d336"
            }
          },
          "metadata": {}
        },
        {
          "output_type": "display_data",
          "data": {
            "text/plain": [
              "  0%|          | 0/1 [00:00<?, ?ba/s]"
            ],
            "application/vnd.jupyter.widget-view+json": {
              "version_major": 2,
              "version_minor": 0,
              "model_id": "6043090d7ddb48469e14b0d10abb09af"
            }
          },
          "metadata": {}
        }
      ],
      "source": [
        "encoded_dataset = dataset.map(preprocess_function, batched=True)"
      ]
    },
    {
      "cell_type": "markdown",
      "metadata": {
        "id": "voWiw8C7IrJV"
      },
      "source": [
        "Even better, the results are automatically cached by the 🤗 Datasets library to avoid spending time on this step the next time you run your notebook. The 🤗 Datasets library is normally smart enough to detect when the function you pass to map has changed (and thus requires to not use the cache data). For instance, it will properly detect if you change the task in the first cell and rerun the notebook. 🤗 Datasets warns you when it uses cached files, you can pass `load_from_cache_file=False` in the call to `map` to not use the cached files and force the preprocessing to be applied again.\n",
        "\n",
        "Note that we passed `batched=True` to encode the texts by batches together. This is to leverage the full benefit of the fast tokenizer we loaded earlier, which will use multi-threading to treat the texts in a batch concurrently."
      ]
    },
    {
      "cell_type": "markdown",
      "metadata": {
        "id": "545PP3o8IrJV"
      },
      "source": [
        "## Fine-tuning the model"
      ]
    },
    {
      "cell_type": "markdown",
      "metadata": {
        "id": "FBiW8UpKIrJW"
      },
      "source": [
        "Now that our data is ready, we can download the pretrained model and fine-tune it. Since all our tasks are about sentence classification, we use the `AutoModelForSequenceClassification` class. Like with the tokenizer, the `from_pretrained` method will download and cache the model for us. The only thing we have to specify is the number of labels for our problem (which is always 2, except for STS-B which is a regression problem and MNLI where we have 3 labels):"
      ]
    },
    {
      "cell_type": "code",
      "execution_count": null,
      "metadata": {
        "id": "TlqNaB8jIrJW",
        "outputId": "a1ab8b0d-931f-4144-b5d0-0ce2fbdd4516",
        "colab": {
          "base_uri": "https://localhost:8080/"
        }
      },
      "outputs": [
        {
          "output_type": "stream",
          "name": "stderr",
          "text": [
            "loading configuration file config.json from cache at /root/.cache/huggingface/hub/models--distilbert-base-uncased/snapshots/1c4513b2eedbda136f57676a34eea67aba266e5c/config.json\n",
            "Model config DistilBertConfig {\n",
            "  \"_name_or_path\": \"distilbert-base-uncased\",\n",
            "  \"activation\": \"gelu\",\n",
            "  \"architectures\": [\n",
            "    \"DistilBertForMaskedLM\"\n",
            "  ],\n",
            "  \"attention_dropout\": 0.1,\n",
            "  \"dim\": 768,\n",
            "  \"dropout\": 0.1,\n",
            "  \"hidden_dim\": 3072,\n",
            "  \"initializer_range\": 0.02,\n",
            "  \"max_position_embeddings\": 512,\n",
            "  \"model_type\": \"distilbert\",\n",
            "  \"n_heads\": 12,\n",
            "  \"n_layers\": 6,\n",
            "  \"pad_token_id\": 0,\n",
            "  \"qa_dropout\": 0.1,\n",
            "  \"seq_classif_dropout\": 0.2,\n",
            "  \"sinusoidal_pos_embds\": false,\n",
            "  \"tie_weights_\": true,\n",
            "  \"transformers_version\": \"4.24.0\",\n",
            "  \"vocab_size\": 30522\n",
            "}\n",
            "\n",
            "loading weights file pytorch_model.bin from cache at /root/.cache/huggingface/hub/models--distilbert-base-uncased/snapshots/1c4513b2eedbda136f57676a34eea67aba266e5c/pytorch_model.bin\n",
            "Some weights of the model checkpoint at distilbert-base-uncased were not used when initializing DistilBertForSequenceClassification: ['vocab_transform.bias', 'vocab_layer_norm.weight', 'vocab_projector.bias', 'vocab_layer_norm.bias', 'vocab_projector.weight', 'vocab_transform.weight']\n",
            "- This IS expected if you are initializing DistilBertForSequenceClassification from the checkpoint of a model trained on another task or with another architecture (e.g. initializing a BertForSequenceClassification model from a BertForPreTraining model).\n",
            "- This IS NOT expected if you are initializing DistilBertForSequenceClassification from the checkpoint of a model that you expect to be exactly identical (initializing a BertForSequenceClassification model from a BertForSequenceClassification model).\n",
            "Some weights of DistilBertForSequenceClassification were not initialized from the model checkpoint at distilbert-base-uncased and are newly initialized: ['pre_classifier.weight', 'pre_classifier.bias', 'classifier.bias', 'classifier.weight']\n",
            "You should probably TRAIN this model on a down-stream task to be able to use it for predictions and inference.\n"
          ]
        }
      ],
      "source": [
        "from transformers import AutoModelForSequenceClassification, TrainingArguments, Trainer\n",
        "\n",
        "num_labels = 3 if task.startswith(\"mnli\") else 1 if task==\"stsb\" else 2\n",
        "model = AutoModelForSequenceClassification.from_pretrained(model_checkpoint, num_labels=num_labels)"
      ]
    },
    {
      "cell_type": "markdown",
      "metadata": {
        "id": "CczA5lJlIrJX"
      },
      "source": [
        "The warning is telling us we are throwing away some weights (the `vocab_transform` and `vocab_layer_norm` layers) and randomly initializing some other (the `pre_classifier` and `classifier` layers). This is absolutely normal in this case, because we are removing the head used to pretrain the model on a masked language modeling objective and replacing it with a new head for which we don't have pretrained weights, so the library warns us we should fine-tune this model before using it for inference, which is exactly what we are going to do."
      ]
    },
    {
      "cell_type": "markdown",
      "metadata": {
        "id": "_N8urzhyIrJY"
      },
      "source": [
        "To instantiate a `Trainer`, we will need to define two more things. The most important is the [`TrainingArguments`](https://huggingface.co/transformers/main_classes/trainer.html#transformers.TrainingArguments), which is a class that contains all the attributes to customize the training. It requires one folder name, which will be used to save the checkpoints of the model, and all other arguments are optional:"
      ]
    },
    {
      "cell_type": "code",
      "execution_count": null,
      "metadata": {
        "id": "Bliy8zgjIrJY",
        "colab": {
          "base_uri": "https://localhost:8080/"
        },
        "outputId": "3221d452-f63a-4705-8c78-a26834d410a6"
      },
      "outputs": [
        {
          "output_type": "stream",
          "name": "stderr",
          "text": [
            "PyTorch: setting up devices\n",
            "The default value for the training argument `--report_to` will change in v5 (from all installed integrations to none). In v5, you will need to use `--report_to all` to get the same behavior as now. You should start updating your code and make this info disappear :-).\n"
          ]
        }
      ],
      "source": [
        "metric_name = \"pearson\" if task == \"stsb\" else \"matthews_correlation\" if task == \"cola\" else \"accuracy\"\n",
        "model_name = model_checkpoint.split(\"/\")[-1]\n",
        "\n",
        "args = TrainingArguments(\n",
        "    f\"{model_name}-finetuned-{task}\",\n",
        "    evaluation_strategy = \"epoch\",\n",
        "    save_strategy = \"epoch\",\n",
        "    learning_rate=2e-5,\n",
        "    per_device_train_batch_size=batch_size,\n",
        "    per_device_eval_batch_size=batch_size,\n",
        "    num_train_epochs=5,\n",
        "    weight_decay=0.01,\n",
        "    load_best_model_at_end=True,\n",
        "    metric_for_best_model=metric_name,\n",
        "    push_to_hub=True,\n",
        ")"
      ]
    },
    {
      "cell_type": "markdown",
      "metadata": {
        "id": "km3pGVdTIrJc"
      },
      "source": [
        "Here we set the evaluation to be done at the end of each epoch, tweak the learning rate, use the `batch_size` defined at the top of the notebook and customize the number of epochs for training, as well as the weight decay. Since the best model might not be the one at the end of training, we ask the `Trainer` to load the best model it saved (according to `metric_name`) at the end of training.\n",
        "\n",
        "The last argument to setup everything so we can push the model to the [Hub](https://huggingface.co/models) regularly during training. Remove it if you didn't follow the installation steps at the top of the notebook. If you want to save your model locally in a name that is different than the name of the repository it will be pushed, or if you want to push your model under an organization and not your name space, use the `hub_model_id` argument to set the repo name (it needs to be the full name, including your namespace: for instance `\"sgugger/bert-finetuned-mrpc\"` or `\"huggingface/bert-finetuned-mrpc\"`)."
      ]
    },
    {
      "cell_type": "markdown",
      "metadata": {
        "id": "7sZOdRlRIrJd"
      },
      "source": [
        "The last thing to define for our `Trainer` is how to compute the metrics from the predictions. We need to define a function for this, which will just use the `metric` we loaded earlier, the only preprocessing we have to do is to take the argmax of our predicted logits (our just squeeze the last axis in the case of STS-B):"
      ]
    },
    {
      "cell_type": "code",
      "execution_count": null,
      "metadata": {
        "id": "UmvbnJ9JIrJd"
      },
      "outputs": [],
      "source": [
        "def compute_metrics(eval_pred):\n",
        "    predictions, labels = eval_pred\n",
        "    if task != \"stsb\":\n",
        "        predictions = np.argmax(predictions, axis=1)\n",
        "    else:\n",
        "        predictions = predictions[:, 0]\n",
        "    return metric.compute(predictions=predictions, references=labels)"
      ]
    },
    {
      "cell_type": "markdown",
      "metadata": {
        "id": "rXuFTAzDIrJe"
      },
      "source": [
        "Then we just need to pass all of this along with our datasets to the `Trainer`:"
      ]
    },
    {
      "cell_type": "code",
      "execution_count": null,
      "metadata": {
        "id": "imY1oC3SIrJf",
        "colab": {
          "base_uri": "https://localhost:8080/"
        },
        "outputId": "77f4b4bf-e92c-4d41-a591-39fffde69fa8"
      },
      "outputs": [
        {
          "output_type": "stream",
          "name": "stderr",
          "text": [
            "/content/drive/MyDrive/Documents/Market Intelligence/distilbert-base-uncased-finetuned-cola is already a clone of https://huggingface.co/utkarshbelkhede/distilbert-base-uncased-finetuned-cola. Make sure you pull the latest changes with `repo.git_pull()`.\n",
            "WARNING:huggingface_hub.repository:/content/drive/MyDrive/Documents/Market Intelligence/distilbert-base-uncased-finetuned-cola is already a clone of https://huggingface.co/utkarshbelkhede/distilbert-base-uncased-finetuned-cola. Make sure you pull the latest changes with `repo.git_pull()`.\n"
          ]
        }
      ],
      "source": [
        "validation_key = \"validation_mismatched\" if task == \"mnli-mm\" else \"validation_matched\" if task == \"mnli\" else \"validation\"\n",
        "trainer = Trainer(\n",
        "    model,\n",
        "    args,\n",
        "    train_dataset=encoded_dataset[\"train\"],\n",
        "    eval_dataset=encoded_dataset[\"test\"],\n",
        "    tokenizer=tokenizer,\n",
        "    compute_metrics=compute_metrics\n",
        ")"
      ]
    },
    {
      "cell_type": "markdown",
      "metadata": {
        "id": "ibWGmvxbIrJg"
      },
      "source": [
        "You might wonder why we pass along the `tokenizer` when we already preprocessed our data. This is because we will use it once last time to make all the samples we gather the same length by applying padding, which requires knowing the model's preferences regarding padding (to the left or right? with which token?). The `tokenizer` has a pad method that will do all of this right for us, and the `Trainer` will use it. You can customize this part by defining and passing your own `data_collator` which will receive the samples like the dictionaries seen above and will need to return a dictionary of tensors."
      ]
    },
    {
      "cell_type": "markdown",
      "metadata": {
        "id": "CdzABDVcIrJg"
      },
      "source": [
        "We can now finetune our model by just calling the `train` method:"
      ]
    },
    {
      "cell_type": "code",
      "execution_count": null,
      "metadata": {
        "id": "uNx5pyRlIrJh",
        "outputId": "738a28c7-e9a5-40ee-8114-6c7a5bc327e8",
        "colab": {
          "base_uri": "https://localhost:8080/",
          "height": 765
        }
      },
      "outputs": [
        {
          "output_type": "stream",
          "name": "stderr",
          "text": [
            "The following columns in the training set don't have a corresponding argument in `DistilBertForSequenceClassification.forward` and have been ignored: __index_level_0__, sentence. If __index_level_0__, sentence are not expected by `DistilBertForSequenceClassification.forward`,  you can safely ignore this message.\n",
            "/usr/local/lib/python3.7/dist-packages/transformers/optimization.py:310: FutureWarning: This implementation of AdamW is deprecated and will be removed in a future version. Use the PyTorch implementation torch.optim.AdamW instead, or set `no_deprecation_warning=True` to disable this warning\n",
            "  FutureWarning,\n",
            "***** Running training *****\n",
            "  Num examples = 352\n",
            "  Num Epochs = 5\n",
            "  Instantaneous batch size per device = 16\n",
            "  Total train batch size (w. parallel, distributed & accumulation) = 16\n",
            "  Gradient Accumulation steps = 1\n",
            "  Total optimization steps = 110\n",
            "  Number of trainable parameters = 66955010\n"
          ]
        },
        {
          "output_type": "error",
          "ename": "ValueError",
          "evalue": "ignored",
          "traceback": [
            "\u001b[0;31m---------------------------------------------------------------------------\u001b[0m",
            "\u001b[0;31mValueError\u001b[0m                                Traceback (most recent call last)",
            "\u001b[0;32m/usr/local/lib/python3.7/dist-packages/transformers/tokenization_utils_base.py\u001b[0m in \u001b[0;36mconvert_to_tensors\u001b[0;34m(self, tensor_type, prepend_batch_axis)\u001b[0m\n\u001b[1;32m    714\u001b[0m                 \u001b[0;32mif\u001b[0m \u001b[0;32mnot\u001b[0m \u001b[0mis_tensor\u001b[0m\u001b[0;34m(\u001b[0m\u001b[0mvalue\u001b[0m\u001b[0;34m)\u001b[0m\u001b[0;34m:\u001b[0m\u001b[0;34m\u001b[0m\u001b[0;34m\u001b[0m\u001b[0m\n\u001b[0;32m--> 715\u001b[0;31m                     \u001b[0mtensor\u001b[0m \u001b[0;34m=\u001b[0m \u001b[0mas_tensor\u001b[0m\u001b[0;34m(\u001b[0m\u001b[0mvalue\u001b[0m\u001b[0;34m)\u001b[0m\u001b[0;34m\u001b[0m\u001b[0;34m\u001b[0m\u001b[0m\n\u001b[0m\u001b[1;32m    716\u001b[0m \u001b[0;34m\u001b[0m\u001b[0m\n",
            "\u001b[0;31mValueError\u001b[0m: too many dimensions 'str'",
            "\nDuring handling of the above exception, another exception occurred:\n",
            "\u001b[0;31mValueError\u001b[0m                                Traceback (most recent call last)",
            "\u001b[0;32m<ipython-input-46-3435b262f1ae>\u001b[0m in \u001b[0;36m<module>\u001b[0;34m\u001b[0m\n\u001b[0;32m----> 1\u001b[0;31m \u001b[0mtrainer\u001b[0m\u001b[0;34m.\u001b[0m\u001b[0mtrain\u001b[0m\u001b[0;34m(\u001b[0m\u001b[0;34m)\u001b[0m\u001b[0;34m\u001b[0m\u001b[0;34m\u001b[0m\u001b[0m\n\u001b[0m",
            "\u001b[0;32m/usr/local/lib/python3.7/dist-packages/transformers/trainer.py\u001b[0m in \u001b[0;36mtrain\u001b[0;34m(self, resume_from_checkpoint, trial, ignore_keys_for_eval, **kwargs)\u001b[0m\n\u001b[1;32m   1503\u001b[0m             \u001b[0mresume_from_checkpoint\u001b[0m\u001b[0;34m=\u001b[0m\u001b[0mresume_from_checkpoint\u001b[0m\u001b[0;34m,\u001b[0m\u001b[0;34m\u001b[0m\u001b[0;34m\u001b[0m\u001b[0m\n\u001b[1;32m   1504\u001b[0m             \u001b[0mtrial\u001b[0m\u001b[0;34m=\u001b[0m\u001b[0mtrial\u001b[0m\u001b[0;34m,\u001b[0m\u001b[0;34m\u001b[0m\u001b[0;34m\u001b[0m\u001b[0m\n\u001b[0;32m-> 1505\u001b[0;31m             \u001b[0mignore_keys_for_eval\u001b[0m\u001b[0;34m=\u001b[0m\u001b[0mignore_keys_for_eval\u001b[0m\u001b[0;34m,\u001b[0m\u001b[0;34m\u001b[0m\u001b[0;34m\u001b[0m\u001b[0m\n\u001b[0m\u001b[1;32m   1506\u001b[0m         )\n\u001b[1;32m   1507\u001b[0m \u001b[0;34m\u001b[0m\u001b[0m\n",
            "\u001b[0;32m/usr/local/lib/python3.7/dist-packages/transformers/trainer.py\u001b[0m in \u001b[0;36m_inner_training_loop\u001b[0;34m(self, batch_size, args, resume_from_checkpoint, trial, ignore_keys_for_eval)\u001b[0m\n\u001b[1;32m   1721\u001b[0m \u001b[0;34m\u001b[0m\u001b[0m\n\u001b[1;32m   1722\u001b[0m             \u001b[0mstep\u001b[0m \u001b[0;34m=\u001b[0m \u001b[0;34m-\u001b[0m\u001b[0;36m1\u001b[0m\u001b[0;34m\u001b[0m\u001b[0;34m\u001b[0m\u001b[0m\n\u001b[0;32m-> 1723\u001b[0;31m             \u001b[0;32mfor\u001b[0m \u001b[0mstep\u001b[0m\u001b[0;34m,\u001b[0m \u001b[0minputs\u001b[0m \u001b[0;32min\u001b[0m \u001b[0menumerate\u001b[0m\u001b[0;34m(\u001b[0m\u001b[0mepoch_iterator\u001b[0m\u001b[0;34m)\u001b[0m\u001b[0;34m:\u001b[0m\u001b[0;34m\u001b[0m\u001b[0;34m\u001b[0m\u001b[0m\n\u001b[0m\u001b[1;32m   1724\u001b[0m \u001b[0;34m\u001b[0m\u001b[0m\n\u001b[1;32m   1725\u001b[0m                 \u001b[0;31m# Skip past any already trained steps if resuming training\u001b[0m\u001b[0;34m\u001b[0m\u001b[0;34m\u001b[0m\u001b[0;34m\u001b[0m\u001b[0m\n",
            "\u001b[0;32m/usr/local/lib/python3.7/dist-packages/torch/utils/data/dataloader.py\u001b[0m in \u001b[0;36m__next__\u001b[0;34m(self)\u001b[0m\n\u001b[1;32m    679\u001b[0m                 \u001b[0;31m# TODO(https://github.com/pytorch/pytorch/issues/76750)\u001b[0m\u001b[0;34m\u001b[0m\u001b[0;34m\u001b[0m\u001b[0;34m\u001b[0m\u001b[0m\n\u001b[1;32m    680\u001b[0m                 \u001b[0mself\u001b[0m\u001b[0;34m.\u001b[0m\u001b[0m_reset\u001b[0m\u001b[0;34m(\u001b[0m\u001b[0;34m)\u001b[0m  \u001b[0;31m# type: ignore[call-arg]\u001b[0m\u001b[0;34m\u001b[0m\u001b[0;34m\u001b[0m\u001b[0m\n\u001b[0;32m--> 681\u001b[0;31m             \u001b[0mdata\u001b[0m \u001b[0;34m=\u001b[0m \u001b[0mself\u001b[0m\u001b[0;34m.\u001b[0m\u001b[0m_next_data\u001b[0m\u001b[0;34m(\u001b[0m\u001b[0;34m)\u001b[0m\u001b[0;34m\u001b[0m\u001b[0;34m\u001b[0m\u001b[0m\n\u001b[0m\u001b[1;32m    682\u001b[0m             \u001b[0mself\u001b[0m\u001b[0;34m.\u001b[0m\u001b[0m_num_yielded\u001b[0m \u001b[0;34m+=\u001b[0m \u001b[0;36m1\u001b[0m\u001b[0;34m\u001b[0m\u001b[0;34m\u001b[0m\u001b[0m\n\u001b[1;32m    683\u001b[0m             \u001b[0;32mif\u001b[0m \u001b[0mself\u001b[0m\u001b[0;34m.\u001b[0m\u001b[0m_dataset_kind\u001b[0m \u001b[0;34m==\u001b[0m \u001b[0m_DatasetKind\u001b[0m\u001b[0;34m.\u001b[0m\u001b[0mIterable\u001b[0m \u001b[0;32mand\u001b[0m\u001b[0;31m \u001b[0m\u001b[0;31m\\\u001b[0m\u001b[0;34m\u001b[0m\u001b[0;34m\u001b[0m\u001b[0m\n",
            "\u001b[0;32m/usr/local/lib/python3.7/dist-packages/torch/utils/data/dataloader.py\u001b[0m in \u001b[0;36m_next_data\u001b[0;34m(self)\u001b[0m\n\u001b[1;32m    719\u001b[0m     \u001b[0;32mdef\u001b[0m \u001b[0m_next_data\u001b[0m\u001b[0;34m(\u001b[0m\u001b[0mself\u001b[0m\u001b[0;34m)\u001b[0m\u001b[0;34m:\u001b[0m\u001b[0;34m\u001b[0m\u001b[0;34m\u001b[0m\u001b[0m\n\u001b[1;32m    720\u001b[0m         \u001b[0mindex\u001b[0m \u001b[0;34m=\u001b[0m \u001b[0mself\u001b[0m\u001b[0;34m.\u001b[0m\u001b[0m_next_index\u001b[0m\u001b[0;34m(\u001b[0m\u001b[0;34m)\u001b[0m  \u001b[0;31m# may raise StopIteration\u001b[0m\u001b[0;34m\u001b[0m\u001b[0;34m\u001b[0m\u001b[0m\n\u001b[0;32m--> 721\u001b[0;31m         \u001b[0mdata\u001b[0m \u001b[0;34m=\u001b[0m \u001b[0mself\u001b[0m\u001b[0;34m.\u001b[0m\u001b[0m_dataset_fetcher\u001b[0m\u001b[0;34m.\u001b[0m\u001b[0mfetch\u001b[0m\u001b[0;34m(\u001b[0m\u001b[0mindex\u001b[0m\u001b[0;34m)\u001b[0m  \u001b[0;31m# may raise StopIteration\u001b[0m\u001b[0;34m\u001b[0m\u001b[0;34m\u001b[0m\u001b[0m\n\u001b[0m\u001b[1;32m    722\u001b[0m         \u001b[0;32mif\u001b[0m \u001b[0mself\u001b[0m\u001b[0;34m.\u001b[0m\u001b[0m_pin_memory\u001b[0m\u001b[0;34m:\u001b[0m\u001b[0;34m\u001b[0m\u001b[0;34m\u001b[0m\u001b[0m\n\u001b[1;32m    723\u001b[0m             \u001b[0mdata\u001b[0m \u001b[0;34m=\u001b[0m \u001b[0m_utils\u001b[0m\u001b[0;34m.\u001b[0m\u001b[0mpin_memory\u001b[0m\u001b[0;34m.\u001b[0m\u001b[0mpin_memory\u001b[0m\u001b[0;34m(\u001b[0m\u001b[0mdata\u001b[0m\u001b[0;34m,\u001b[0m \u001b[0mself\u001b[0m\u001b[0;34m.\u001b[0m\u001b[0m_pin_memory_device\u001b[0m\u001b[0;34m)\u001b[0m\u001b[0;34m\u001b[0m\u001b[0;34m\u001b[0m\u001b[0m\n",
            "\u001b[0;32m/usr/local/lib/python3.7/dist-packages/torch/utils/data/_utils/fetch.py\u001b[0m in \u001b[0;36mfetch\u001b[0;34m(self, possibly_batched_index)\u001b[0m\n\u001b[1;32m     50\u001b[0m         \u001b[0;32melse\u001b[0m\u001b[0;34m:\u001b[0m\u001b[0;34m\u001b[0m\u001b[0;34m\u001b[0m\u001b[0m\n\u001b[1;32m     51\u001b[0m             \u001b[0mdata\u001b[0m \u001b[0;34m=\u001b[0m \u001b[0mself\u001b[0m\u001b[0;34m.\u001b[0m\u001b[0mdataset\u001b[0m\u001b[0;34m[\u001b[0m\u001b[0mpossibly_batched_index\u001b[0m\u001b[0;34m]\u001b[0m\u001b[0;34m\u001b[0m\u001b[0;34m\u001b[0m\u001b[0m\n\u001b[0;32m---> 52\u001b[0;31m         \u001b[0;32mreturn\u001b[0m \u001b[0mself\u001b[0m\u001b[0;34m.\u001b[0m\u001b[0mcollate_fn\u001b[0m\u001b[0;34m(\u001b[0m\u001b[0mdata\u001b[0m\u001b[0;34m)\u001b[0m\u001b[0;34m\u001b[0m\u001b[0;34m\u001b[0m\u001b[0m\n\u001b[0m",
            "\u001b[0;32m/usr/local/lib/python3.7/dist-packages/transformers/data/data_collator.py\u001b[0m in \u001b[0;36m__call__\u001b[0;34m(self, features)\u001b[0m\n\u001b[1;32m    252\u001b[0m             \u001b[0mmax_length\u001b[0m\u001b[0;34m=\u001b[0m\u001b[0mself\u001b[0m\u001b[0;34m.\u001b[0m\u001b[0mmax_length\u001b[0m\u001b[0;34m,\u001b[0m\u001b[0;34m\u001b[0m\u001b[0;34m\u001b[0m\u001b[0m\n\u001b[1;32m    253\u001b[0m             \u001b[0mpad_to_multiple_of\u001b[0m\u001b[0;34m=\u001b[0m\u001b[0mself\u001b[0m\u001b[0;34m.\u001b[0m\u001b[0mpad_to_multiple_of\u001b[0m\u001b[0;34m,\u001b[0m\u001b[0;34m\u001b[0m\u001b[0;34m\u001b[0m\u001b[0m\n\u001b[0;32m--> 254\u001b[0;31m             \u001b[0mreturn_tensors\u001b[0m\u001b[0;34m=\u001b[0m\u001b[0mself\u001b[0m\u001b[0;34m.\u001b[0m\u001b[0mreturn_tensors\u001b[0m\u001b[0;34m,\u001b[0m\u001b[0;34m\u001b[0m\u001b[0;34m\u001b[0m\u001b[0m\n\u001b[0m\u001b[1;32m    255\u001b[0m         )\n\u001b[1;32m    256\u001b[0m         \u001b[0;32mif\u001b[0m \u001b[0;34m\"label\"\u001b[0m \u001b[0;32min\u001b[0m \u001b[0mbatch\u001b[0m\u001b[0;34m:\u001b[0m\u001b[0;34m\u001b[0m\u001b[0;34m\u001b[0m\u001b[0m\n",
            "\u001b[0;32m/usr/local/lib/python3.7/dist-packages/transformers/tokenization_utils_base.py\u001b[0m in \u001b[0;36mpad\u001b[0;34m(self, encoded_inputs, padding, max_length, pad_to_multiple_of, return_attention_mask, return_tensors, verbose)\u001b[0m\n\u001b[1;32m   2983\u001b[0m                 \u001b[0mbatch_outputs\u001b[0m\u001b[0;34m[\u001b[0m\u001b[0mkey\u001b[0m\u001b[0;34m]\u001b[0m\u001b[0;34m.\u001b[0m\u001b[0mappend\u001b[0m\u001b[0;34m(\u001b[0m\u001b[0mvalue\u001b[0m\u001b[0;34m)\u001b[0m\u001b[0;34m\u001b[0m\u001b[0;34m\u001b[0m\u001b[0m\n\u001b[1;32m   2984\u001b[0m \u001b[0;34m\u001b[0m\u001b[0m\n\u001b[0;32m-> 2985\u001b[0;31m         \u001b[0;32mreturn\u001b[0m \u001b[0mBatchEncoding\u001b[0m\u001b[0;34m(\u001b[0m\u001b[0mbatch_outputs\u001b[0m\u001b[0;34m,\u001b[0m \u001b[0mtensor_type\u001b[0m\u001b[0;34m=\u001b[0m\u001b[0mreturn_tensors\u001b[0m\u001b[0;34m)\u001b[0m\u001b[0;34m\u001b[0m\u001b[0;34m\u001b[0m\u001b[0m\n\u001b[0m\u001b[1;32m   2986\u001b[0m \u001b[0;34m\u001b[0m\u001b[0m\n\u001b[1;32m   2987\u001b[0m     def create_token_type_ids_from_sequences(\n",
            "\u001b[0;32m/usr/local/lib/python3.7/dist-packages/transformers/tokenization_utils_base.py\u001b[0m in \u001b[0;36m__init__\u001b[0;34m(self, data, encoding, tensor_type, prepend_batch_axis, n_sequences)\u001b[0m\n\u001b[1;32m    208\u001b[0m         \u001b[0mself\u001b[0m\u001b[0;34m.\u001b[0m\u001b[0m_n_sequences\u001b[0m \u001b[0;34m=\u001b[0m \u001b[0mn_sequences\u001b[0m\u001b[0;34m\u001b[0m\u001b[0;34m\u001b[0m\u001b[0m\n\u001b[1;32m    209\u001b[0m \u001b[0;34m\u001b[0m\u001b[0m\n\u001b[0;32m--> 210\u001b[0;31m         \u001b[0mself\u001b[0m\u001b[0;34m.\u001b[0m\u001b[0mconvert_to_tensors\u001b[0m\u001b[0;34m(\u001b[0m\u001b[0mtensor_type\u001b[0m\u001b[0;34m=\u001b[0m\u001b[0mtensor_type\u001b[0m\u001b[0;34m,\u001b[0m \u001b[0mprepend_batch_axis\u001b[0m\u001b[0;34m=\u001b[0m\u001b[0mprepend_batch_axis\u001b[0m\u001b[0;34m)\u001b[0m\u001b[0;34m\u001b[0m\u001b[0;34m\u001b[0m\u001b[0m\n\u001b[0m\u001b[1;32m    211\u001b[0m \u001b[0;34m\u001b[0m\u001b[0m\n\u001b[1;32m    212\u001b[0m     \u001b[0;34m@\u001b[0m\u001b[0mproperty\u001b[0m\u001b[0;34m\u001b[0m\u001b[0;34m\u001b[0m\u001b[0m\n",
            "\u001b[0;32m/usr/local/lib/python3.7/dist-packages/transformers/tokenization_utils_base.py\u001b[0m in \u001b[0;36mconvert_to_tensors\u001b[0;34m(self, tensor_type, prepend_batch_axis)\u001b[0m\n\u001b[1;32m    730\u001b[0m                     )\n\u001b[1;32m    731\u001b[0m                 raise ValueError(\n\u001b[0;32m--> 732\u001b[0;31m                     \u001b[0;34m\"Unable to create tensor, you should probably activate truncation and/or padding with\"\u001b[0m\u001b[0;34m\u001b[0m\u001b[0;34m\u001b[0m\u001b[0m\n\u001b[0m\u001b[1;32m    733\u001b[0m                     \u001b[0;34m\" 'padding=True' 'truncation=True' to have batched tensors with the same length. Perhaps your\"\u001b[0m\u001b[0;34m\u001b[0m\u001b[0;34m\u001b[0m\u001b[0m\n\u001b[1;32m    734\u001b[0m                     \u001b[0;34mf\" features (`{key}` in this case) have excessive nesting (inputs type `list` where type `int` is\"\u001b[0m\u001b[0;34m\u001b[0m\u001b[0;34m\u001b[0m\u001b[0m\n",
            "\u001b[0;31mValueError\u001b[0m: Unable to create tensor, you should probably activate truncation and/or padding with 'padding=True' 'truncation=True' to have batched tensors with the same length. Perhaps your features (`label` in this case) have excessive nesting (inputs type `list` where type `int` is expected)."
          ]
        }
      ],
      "source": [
        "trainer.train()"
      ]
    },
    {
      "cell_type": "markdown",
      "metadata": {
        "id": "CKASz-2vIrJi"
      },
      "source": [
        "We can check with the `evaluate` method that our `Trainer` did reload the best model properly (if it was not the last one):"
      ]
    },
    {
      "cell_type": "code",
      "execution_count": null,
      "metadata": {
        "id": "UOUcBkX8IrJi"
      },
      "outputs": [],
      "source": [
        "trainer.evaluate()"
      ]
    },
    {
      "cell_type": "markdown",
      "metadata": {
        "id": "ffP-VQOyIrJk"
      },
      "source": [
        "To see how your model fared you can compare it to the [GLUE Benchmark leaderboard](https://gluebenchmark.com/leaderboard)."
      ]
    },
    {
      "cell_type": "markdown",
      "metadata": {
        "id": "GOPGWN5t-Bk6"
      },
      "source": [
        "You can now upload the result of the training to the Hub, just execute this instruction:"
      ]
    },
    {
      "cell_type": "code",
      "execution_count": null,
      "metadata": {
        "id": "vMbrGT9y-Bk6"
      },
      "outputs": [],
      "source": [
        "trainer.push_to_hub()"
      ]
    },
    {
      "cell_type": "markdown",
      "metadata": {
        "id": "edyoD7Ox-Bk6"
      },
      "source": [
        "You can now share this model with all your friends, family, favorite pets: they can all load it with the identifier `\"your-username/the-name-you-picked\"` so for instance:\n",
        "\n",
        "```python\n",
        "from transformers import AutoModelForSequenceClassification\n",
        "\n",
        "model = AutoModelForSequenceClassification.from_pretrained(\"sgugger/my-awesome-model\")\n",
        "```"
      ]
    },
    {
      "cell_type": "markdown",
      "metadata": {
        "id": "7k8ge1L1IrJk"
      },
      "source": [
        "## Hyperparameter search"
      ]
    },
    {
      "cell_type": "markdown",
      "metadata": {
        "id": "RNfajuw_IrJl"
      },
      "source": [
        "The `Trainer` supports hyperparameter search using [optuna](https://optuna.org/) or [Ray Tune](https://docs.ray.io/en/latest/tune/). For this last section you will need either of those libraries installed, just uncomment the line you want on the next cell and run it."
      ]
    },
    {
      "cell_type": "code",
      "execution_count": null,
      "metadata": {
        "id": "YUdakNBhIrJl"
      },
      "outputs": [],
      "source": [
        "# ! pip install optuna\n",
        "# ! pip install ray[tune]"
      ]
    },
    {
      "cell_type": "markdown",
      "metadata": {
        "id": "ttfT0CqaIrJm"
      },
      "source": [
        "During hyperparameter search, the `Trainer` will run several trainings, so it needs to have the model defined via a function (so it can be reinitialized at each new run) instead of just having it passed. We jsut use the same function as before:"
      ]
    },
    {
      "cell_type": "code",
      "execution_count": null,
      "metadata": {
        "id": "8sgjdLKcIrJm"
      },
      "outputs": [],
      "source": [
        "def model_init():\n",
        "    return AutoModelForSequenceClassification.from_pretrained(model_checkpoint, num_labels=num_labels)"
      ]
    },
    {
      "cell_type": "markdown",
      "metadata": {
        "id": "mMXfVJO4IrJo"
      },
      "source": [
        "And we can instantiate our `Trainer` like before:"
      ]
    },
    {
      "cell_type": "code",
      "execution_count": null,
      "metadata": {
        "id": "71pt6N0eIrJo"
      },
      "outputs": [],
      "source": [
        "trainer = Trainer(\n",
        "    model_init=model_init,\n",
        "    args=args,\n",
        "    train_dataset=encoded_dataset[\"train\"],\n",
        "    eval_dataset=encoded_dataset[validation_key],\n",
        "    tokenizer=tokenizer,\n",
        "    compute_metrics=compute_metrics\n",
        ")"
      ]
    },
    {
      "cell_type": "markdown",
      "metadata": {
        "id": "yQxrzFP4IrJq"
      },
      "source": [
        "The method we call this time is `hyperparameter_search`. Note that it can take a long time to run on the full dataset for some of the tasks. You can try to find some good hyperparameter on a portion of the training dataset by replacing the `train_dataset` line above by:\n",
        "```python\n",
        "train_dataset = encoded_dataset[\"train\"].shard(index=1, num_shards=10) \n",
        "```\n",
        "for 1/10th of the dataset. Then you can run a full training on the best hyperparameters picked by the search."
      ]
    },
    {
      "cell_type": "code",
      "execution_count": null,
      "metadata": {
        "id": "NboJ7kDOIrJq"
      },
      "outputs": [],
      "source": [
        "best_run = trainer.hyperparameter_search(n_trials=10, direction=\"maximize\")"
      ]
    },
    {
      "cell_type": "markdown",
      "metadata": {
        "id": "gUTD72qCIrJs"
      },
      "source": [
        "The `hyperparameter_search` method returns a `BestRun` objects, which contains the value of the objective maximized (by default the sum of all metrics) and the hyperparameters it used for that run."
      ]
    },
    {
      "cell_type": "code",
      "execution_count": null,
      "metadata": {
        "id": "Psi4JymeIrJs"
      },
      "outputs": [],
      "source": [
        "best_run"
      ]
    },
    {
      "cell_type": "markdown",
      "metadata": {
        "id": "dFdjWbRIIrJu"
      },
      "source": [
        "You can customize the objective to maximize by passing along a `compute_objective` function to the `hyperparameter_search` method, and you can customize the search space by passing a `hp_space` argument to `hyperparameter_search`. See this [forum post](https://discuss.huggingface.co/t/using-hyperparameter-search-in-trainer/785/10) for some examples.\n",
        "\n",
        "To reproduce the best training, just set the hyperparameters in your `TrainingArgument` before creating a `Trainer`:"
      ]
    },
    {
      "cell_type": "code",
      "execution_count": null,
      "metadata": {
        "id": "EsJ6sqdGIrJu"
      },
      "outputs": [],
      "source": [
        "for n, v in best_run.hyperparameters.items():\n",
        "    setattr(trainer.args, n, v)\n",
        "\n",
        "trainer.train()"
      ]
    },
    {
      "cell_type": "code",
      "execution_count": null,
      "metadata": {
        "id": "PHQgvqrJ-Bk8"
      },
      "outputs": [],
      "source": []
    }
  ],
  "metadata": {
    "colab": {
      "provenance": [],
      "collapsed_sections": [
        "n9qywopnIrJH",
        "545PP3o8IrJV",
        "7k8ge1L1IrJk"
      ],
      "include_colab_link": true
    },
    "accelerator": "GPU",
    "gpuClass": "standard",
    "language_info": {
      "name": "python"
    },
    "kernelspec": {
      "name": "python3",
      "display_name": "Python 3"
    },
    "widgets": {
      "application/vnd.jupyter.widget-state+json": {
        "7c36cd539c7b4309b027a20724e5e16b": {
          "model_module": "@jupyter-widgets/controls",
          "model_name": "VBoxModel",
          "model_module_version": "1.5.0",
          "state": {
            "_dom_classes": [],
            "_model_module": "@jupyter-widgets/controls",
            "_model_module_version": "1.5.0",
            "_model_name": "VBoxModel",
            "_view_count": null,
            "_view_module": "@jupyter-widgets/controls",
            "_view_module_version": "1.5.0",
            "_view_name": "VBoxView",
            "box_style": "",
            "children": [
              "IPY_MODEL_4080605fd7614a08a3d35ecb066bde90",
              "IPY_MODEL_303c9660479b42f69e50b6bd5429a7cd",
              "IPY_MODEL_3c6dddc07c8c46b19a3ddd557162f2b8",
              "IPY_MODEL_9ee24c0c96bd487e86420b574e0daba4",
              "IPY_MODEL_e1a8f3d73e1848378ee36e9d372ff785"
            ],
            "layout": "IPY_MODEL_ef200672e3a54df397ee2576a6a6bebc"
          }
        },
        "4080605fd7614a08a3d35ecb066bde90": {
          "model_module": "@jupyter-widgets/controls",
          "model_name": "HTMLModel",
          "model_module_version": "1.5.0",
          "state": {
            "_dom_classes": [],
            "_model_module": "@jupyter-widgets/controls",
            "_model_module_version": "1.5.0",
            "_model_name": "HTMLModel",
            "_view_count": null,
            "_view_module": "@jupyter-widgets/controls",
            "_view_module_version": "1.5.0",
            "_view_name": "HTMLView",
            "description": "",
            "description_tooltip": null,
            "layout": "IPY_MODEL_a1921fc036b9498fa0016c521af98945",
            "placeholder": "​",
            "style": "IPY_MODEL_34ee38de2c5e4d5a9016c7423cde64e6",
            "value": "<center> <img\nsrc=https://huggingface.co/front/assets/huggingface_logo-noborder.svg\nalt='Hugging Face'> <br> Copy a token from <a\nhref=\"https://huggingface.co/settings/tokens\" target=\"_blank\">your Hugging Face\ntokens page</a> and paste it below. <br> Immediately click login after copying\nyour token or it might be stored in plain text in this notebook file. </center>"
          }
        },
        "303c9660479b42f69e50b6bd5429a7cd": {
          "model_module": "@jupyter-widgets/controls",
          "model_name": "PasswordModel",
          "model_module_version": "1.5.0",
          "state": {
            "_dom_classes": [],
            "_model_module": "@jupyter-widgets/controls",
            "_model_module_version": "1.5.0",
            "_model_name": "PasswordModel",
            "_view_count": null,
            "_view_module": "@jupyter-widgets/controls",
            "_view_module_version": "1.5.0",
            "_view_name": "PasswordView",
            "continuous_update": true,
            "description": "Token:",
            "description_tooltip": null,
            "disabled": false,
            "layout": "IPY_MODEL_be99433e66ab4ed6bb75e19df2e8a16b",
            "placeholder": "​",
            "style": "IPY_MODEL_2dba21d1c4ac413a8899f42f703f0e9d",
            "value": ""
          }
        },
        "3c6dddc07c8c46b19a3ddd557162f2b8": {
          "model_module": "@jupyter-widgets/controls",
          "model_name": "CheckboxModel",
          "model_module_version": "1.5.0",
          "state": {
            "_dom_classes": [],
            "_model_module": "@jupyter-widgets/controls",
            "_model_module_version": "1.5.0",
            "_model_name": "CheckboxModel",
            "_view_count": null,
            "_view_module": "@jupyter-widgets/controls",
            "_view_module_version": "1.5.0",
            "_view_name": "CheckboxView",
            "description": "Add token as git credential?",
            "description_tooltip": null,
            "disabled": false,
            "indent": true,
            "layout": "IPY_MODEL_ead48a7db0cf4da08883171214b97740",
            "style": "IPY_MODEL_90add355049d478fa45e81eee3d5cf55",
            "value": true
          }
        },
        "9ee24c0c96bd487e86420b574e0daba4": {
          "model_module": "@jupyter-widgets/controls",
          "model_name": "ButtonModel",
          "model_module_version": "1.5.0",
          "state": {
            "_dom_classes": [],
            "_model_module": "@jupyter-widgets/controls",
            "_model_module_version": "1.5.0",
            "_model_name": "ButtonModel",
            "_view_count": null,
            "_view_module": "@jupyter-widgets/controls",
            "_view_module_version": "1.5.0",
            "_view_name": "ButtonView",
            "button_style": "",
            "description": "Login",
            "disabled": false,
            "icon": "",
            "layout": "IPY_MODEL_2eef880631cf4562a11e0d3de8dbf7dc",
            "style": "IPY_MODEL_903bb98e16444b00b08117a06bd7ac8e",
            "tooltip": ""
          }
        },
        "e1a8f3d73e1848378ee36e9d372ff785": {
          "model_module": "@jupyter-widgets/controls",
          "model_name": "HTMLModel",
          "model_module_version": "1.5.0",
          "state": {
            "_dom_classes": [],
            "_model_module": "@jupyter-widgets/controls",
            "_model_module_version": "1.5.0",
            "_model_name": "HTMLModel",
            "_view_count": null,
            "_view_module": "@jupyter-widgets/controls",
            "_view_module_version": "1.5.0",
            "_view_name": "HTMLView",
            "description": "",
            "description_tooltip": null,
            "layout": "IPY_MODEL_1d73a6bd5a7a4bb7908634aede368d9e",
            "placeholder": "​",
            "style": "IPY_MODEL_98d7b9d4088b4321ae38c1db3b4f6720",
            "value": "\n<b>Pro Tip:</b> If you don't already have one, you can create a dedicated\n'notebooks' token with 'write' access, that you can then easily reuse for all\nnotebooks. </center>"
          }
        },
        "ef200672e3a54df397ee2576a6a6bebc": {
          "model_module": "@jupyter-widgets/base",
          "model_name": "LayoutModel",
          "model_module_version": "1.2.0",
          "state": {
            "_model_module": "@jupyter-widgets/base",
            "_model_module_version": "1.2.0",
            "_model_name": "LayoutModel",
            "_view_count": null,
            "_view_module": "@jupyter-widgets/base",
            "_view_module_version": "1.2.0",
            "_view_name": "LayoutView",
            "align_content": null,
            "align_items": "center",
            "align_self": null,
            "border": null,
            "bottom": null,
            "display": "flex",
            "flex": null,
            "flex_flow": "column",
            "grid_area": null,
            "grid_auto_columns": null,
            "grid_auto_flow": null,
            "grid_auto_rows": null,
            "grid_column": null,
            "grid_gap": null,
            "grid_row": null,
            "grid_template_areas": null,
            "grid_template_columns": null,
            "grid_template_rows": null,
            "height": null,
            "justify_content": null,
            "justify_items": null,
            "left": null,
            "margin": null,
            "max_height": null,
            "max_width": null,
            "min_height": null,
            "min_width": null,
            "object_fit": null,
            "object_position": null,
            "order": null,
            "overflow": null,
            "overflow_x": null,
            "overflow_y": null,
            "padding": null,
            "right": null,
            "top": null,
            "visibility": null,
            "width": "50%"
          }
        },
        "a1921fc036b9498fa0016c521af98945": {
          "model_module": "@jupyter-widgets/base",
          "model_name": "LayoutModel",
          "model_module_version": "1.2.0",
          "state": {
            "_model_module": "@jupyter-widgets/base",
            "_model_module_version": "1.2.0",
            "_model_name": "LayoutModel",
            "_view_count": null,
            "_view_module": "@jupyter-widgets/base",
            "_view_module_version": "1.2.0",
            "_view_name": "LayoutView",
            "align_content": null,
            "align_items": null,
            "align_self": null,
            "border": null,
            "bottom": null,
            "display": null,
            "flex": null,
            "flex_flow": null,
            "grid_area": null,
            "grid_auto_columns": null,
            "grid_auto_flow": null,
            "grid_auto_rows": null,
            "grid_column": null,
            "grid_gap": null,
            "grid_row": null,
            "grid_template_areas": null,
            "grid_template_columns": null,
            "grid_template_rows": null,
            "height": null,
            "justify_content": null,
            "justify_items": null,
            "left": null,
            "margin": null,
            "max_height": null,
            "max_width": null,
            "min_height": null,
            "min_width": null,
            "object_fit": null,
            "object_position": null,
            "order": null,
            "overflow": null,
            "overflow_x": null,
            "overflow_y": null,
            "padding": null,
            "right": null,
            "top": null,
            "visibility": null,
            "width": null
          }
        },
        "34ee38de2c5e4d5a9016c7423cde64e6": {
          "model_module": "@jupyter-widgets/controls",
          "model_name": "DescriptionStyleModel",
          "model_module_version": "1.5.0",
          "state": {
            "_model_module": "@jupyter-widgets/controls",
            "_model_module_version": "1.5.0",
            "_model_name": "DescriptionStyleModel",
            "_view_count": null,
            "_view_module": "@jupyter-widgets/base",
            "_view_module_version": "1.2.0",
            "_view_name": "StyleView",
            "description_width": ""
          }
        },
        "be99433e66ab4ed6bb75e19df2e8a16b": {
          "model_module": "@jupyter-widgets/base",
          "model_name": "LayoutModel",
          "model_module_version": "1.2.0",
          "state": {
            "_model_module": "@jupyter-widgets/base",
            "_model_module_version": "1.2.0",
            "_model_name": "LayoutModel",
            "_view_count": null,
            "_view_module": "@jupyter-widgets/base",
            "_view_module_version": "1.2.0",
            "_view_name": "LayoutView",
            "align_content": null,
            "align_items": null,
            "align_self": null,
            "border": null,
            "bottom": null,
            "display": null,
            "flex": null,
            "flex_flow": null,
            "grid_area": null,
            "grid_auto_columns": null,
            "grid_auto_flow": null,
            "grid_auto_rows": null,
            "grid_column": null,
            "grid_gap": null,
            "grid_row": null,
            "grid_template_areas": null,
            "grid_template_columns": null,
            "grid_template_rows": null,
            "height": null,
            "justify_content": null,
            "justify_items": null,
            "left": null,
            "margin": null,
            "max_height": null,
            "max_width": null,
            "min_height": null,
            "min_width": null,
            "object_fit": null,
            "object_position": null,
            "order": null,
            "overflow": null,
            "overflow_x": null,
            "overflow_y": null,
            "padding": null,
            "right": null,
            "top": null,
            "visibility": null,
            "width": null
          }
        },
        "2dba21d1c4ac413a8899f42f703f0e9d": {
          "model_module": "@jupyter-widgets/controls",
          "model_name": "DescriptionStyleModel",
          "model_module_version": "1.5.0",
          "state": {
            "_model_module": "@jupyter-widgets/controls",
            "_model_module_version": "1.5.0",
            "_model_name": "DescriptionStyleModel",
            "_view_count": null,
            "_view_module": "@jupyter-widgets/base",
            "_view_module_version": "1.2.0",
            "_view_name": "StyleView",
            "description_width": ""
          }
        },
        "ead48a7db0cf4da08883171214b97740": {
          "model_module": "@jupyter-widgets/base",
          "model_name": "LayoutModel",
          "model_module_version": "1.2.0",
          "state": {
            "_model_module": "@jupyter-widgets/base",
            "_model_module_version": "1.2.0",
            "_model_name": "LayoutModel",
            "_view_count": null,
            "_view_module": "@jupyter-widgets/base",
            "_view_module_version": "1.2.0",
            "_view_name": "LayoutView",
            "align_content": null,
            "align_items": null,
            "align_self": null,
            "border": null,
            "bottom": null,
            "display": null,
            "flex": null,
            "flex_flow": null,
            "grid_area": null,
            "grid_auto_columns": null,
            "grid_auto_flow": null,
            "grid_auto_rows": null,
            "grid_column": null,
            "grid_gap": null,
            "grid_row": null,
            "grid_template_areas": null,
            "grid_template_columns": null,
            "grid_template_rows": null,
            "height": null,
            "justify_content": null,
            "justify_items": null,
            "left": null,
            "margin": null,
            "max_height": null,
            "max_width": null,
            "min_height": null,
            "min_width": null,
            "object_fit": null,
            "object_position": null,
            "order": null,
            "overflow": null,
            "overflow_x": null,
            "overflow_y": null,
            "padding": null,
            "right": null,
            "top": null,
            "visibility": null,
            "width": null
          }
        },
        "90add355049d478fa45e81eee3d5cf55": {
          "model_module": "@jupyter-widgets/controls",
          "model_name": "DescriptionStyleModel",
          "model_module_version": "1.5.0",
          "state": {
            "_model_module": "@jupyter-widgets/controls",
            "_model_module_version": "1.5.0",
            "_model_name": "DescriptionStyleModel",
            "_view_count": null,
            "_view_module": "@jupyter-widgets/base",
            "_view_module_version": "1.2.0",
            "_view_name": "StyleView",
            "description_width": ""
          }
        },
        "2eef880631cf4562a11e0d3de8dbf7dc": {
          "model_module": "@jupyter-widgets/base",
          "model_name": "LayoutModel",
          "model_module_version": "1.2.0",
          "state": {
            "_model_module": "@jupyter-widgets/base",
            "_model_module_version": "1.2.0",
            "_model_name": "LayoutModel",
            "_view_count": null,
            "_view_module": "@jupyter-widgets/base",
            "_view_module_version": "1.2.0",
            "_view_name": "LayoutView",
            "align_content": null,
            "align_items": null,
            "align_self": null,
            "border": null,
            "bottom": null,
            "display": null,
            "flex": null,
            "flex_flow": null,
            "grid_area": null,
            "grid_auto_columns": null,
            "grid_auto_flow": null,
            "grid_auto_rows": null,
            "grid_column": null,
            "grid_gap": null,
            "grid_row": null,
            "grid_template_areas": null,
            "grid_template_columns": null,
            "grid_template_rows": null,
            "height": null,
            "justify_content": null,
            "justify_items": null,
            "left": null,
            "margin": null,
            "max_height": null,
            "max_width": null,
            "min_height": null,
            "min_width": null,
            "object_fit": null,
            "object_position": null,
            "order": null,
            "overflow": null,
            "overflow_x": null,
            "overflow_y": null,
            "padding": null,
            "right": null,
            "top": null,
            "visibility": null,
            "width": null
          }
        },
        "903bb98e16444b00b08117a06bd7ac8e": {
          "model_module": "@jupyter-widgets/controls",
          "model_name": "ButtonStyleModel",
          "model_module_version": "1.5.0",
          "state": {
            "_model_module": "@jupyter-widgets/controls",
            "_model_module_version": "1.5.0",
            "_model_name": "ButtonStyleModel",
            "_view_count": null,
            "_view_module": "@jupyter-widgets/base",
            "_view_module_version": "1.2.0",
            "_view_name": "StyleView",
            "button_color": null,
            "font_weight": ""
          }
        },
        "1d73a6bd5a7a4bb7908634aede368d9e": {
          "model_module": "@jupyter-widgets/base",
          "model_name": "LayoutModel",
          "model_module_version": "1.2.0",
          "state": {
            "_model_module": "@jupyter-widgets/base",
            "_model_module_version": "1.2.0",
            "_model_name": "LayoutModel",
            "_view_count": null,
            "_view_module": "@jupyter-widgets/base",
            "_view_module_version": "1.2.0",
            "_view_name": "LayoutView",
            "align_content": null,
            "align_items": null,
            "align_self": null,
            "border": null,
            "bottom": null,
            "display": null,
            "flex": null,
            "flex_flow": null,
            "grid_area": null,
            "grid_auto_columns": null,
            "grid_auto_flow": null,
            "grid_auto_rows": null,
            "grid_column": null,
            "grid_gap": null,
            "grid_row": null,
            "grid_template_areas": null,
            "grid_template_columns": null,
            "grid_template_rows": null,
            "height": null,
            "justify_content": null,
            "justify_items": null,
            "left": null,
            "margin": null,
            "max_height": null,
            "max_width": null,
            "min_height": null,
            "min_width": null,
            "object_fit": null,
            "object_position": null,
            "order": null,
            "overflow": null,
            "overflow_x": null,
            "overflow_y": null,
            "padding": null,
            "right": null,
            "top": null,
            "visibility": null,
            "width": null
          }
        },
        "98d7b9d4088b4321ae38c1db3b4f6720": {
          "model_module": "@jupyter-widgets/controls",
          "model_name": "DescriptionStyleModel",
          "model_module_version": "1.5.0",
          "state": {
            "_model_module": "@jupyter-widgets/controls",
            "_model_module_version": "1.5.0",
            "_model_name": "DescriptionStyleModel",
            "_view_count": null,
            "_view_module": "@jupyter-widgets/base",
            "_view_module_version": "1.2.0",
            "_view_name": "StyleView",
            "description_width": ""
          }
        },
        "cfd7be4c0fbd4bbb815c50ac218db96f": {
          "model_module": "@jupyter-widgets/controls",
          "model_name": "HBoxModel",
          "model_module_version": "1.5.0",
          "state": {
            "_dom_classes": [],
            "_model_module": "@jupyter-widgets/controls",
            "_model_module_version": "1.5.0",
            "_model_name": "HBoxModel",
            "_view_count": null,
            "_view_module": "@jupyter-widgets/controls",
            "_view_module_version": "1.5.0",
            "_view_name": "HBoxView",
            "box_style": "",
            "children": [
              "IPY_MODEL_7a8dc281d42547159950eefa6a6e8a92",
              "IPY_MODEL_96b936249da34660a061df8d6f2494ab",
              "IPY_MODEL_b1ab38f544df4b9bb6663ac74b3301a2"
            ],
            "layout": "IPY_MODEL_a3a1497b5a2344acb7280ee895757b1e"
          }
        },
        "7a8dc281d42547159950eefa6a6e8a92": {
          "model_module": "@jupyter-widgets/controls",
          "model_name": "HTMLModel",
          "model_module_version": "1.5.0",
          "state": {
            "_dom_classes": [],
            "_model_module": "@jupyter-widgets/controls",
            "_model_module_version": "1.5.0",
            "_model_name": "HTMLModel",
            "_view_count": null,
            "_view_module": "@jupyter-widgets/controls",
            "_view_module_version": "1.5.0",
            "_view_name": "HTMLView",
            "description": "",
            "description_tooltip": null,
            "layout": "IPY_MODEL_8d754cc3020b4f5ebc74240bd9ce3e11",
            "placeholder": "​",
            "style": "IPY_MODEL_9eef3113bd564db4aed782358886b355",
            "value": "Downloading builder script: "
          }
        },
        "96b936249da34660a061df8d6f2494ab": {
          "model_module": "@jupyter-widgets/controls",
          "model_name": "FloatProgressModel",
          "model_module_version": "1.5.0",
          "state": {
            "_dom_classes": [],
            "_model_module": "@jupyter-widgets/controls",
            "_model_module_version": "1.5.0",
            "_model_name": "FloatProgressModel",
            "_view_count": null,
            "_view_module": "@jupyter-widgets/controls",
            "_view_module_version": "1.5.0",
            "_view_name": "ProgressView",
            "bar_style": "success",
            "description": "",
            "description_tooltip": null,
            "layout": "IPY_MODEL_3a9ac515e6744a178dd6c66d3b6892cd",
            "max": 1844,
            "min": 0,
            "orientation": "horizontal",
            "style": "IPY_MODEL_9eac356f17914163863f39741c12ccfc",
            "value": 1844
          }
        },
        "b1ab38f544df4b9bb6663ac74b3301a2": {
          "model_module": "@jupyter-widgets/controls",
          "model_name": "HTMLModel",
          "model_module_version": "1.5.0",
          "state": {
            "_dom_classes": [],
            "_model_module": "@jupyter-widgets/controls",
            "_model_module_version": "1.5.0",
            "_model_name": "HTMLModel",
            "_view_count": null,
            "_view_module": "@jupyter-widgets/controls",
            "_view_module_version": "1.5.0",
            "_view_name": "HTMLView",
            "description": "",
            "description_tooltip": null,
            "layout": "IPY_MODEL_9c5e125cdafa4d31aca3cb9267330490",
            "placeholder": "​",
            "style": "IPY_MODEL_df66faff09294c2aaa949ff375d5c8dc",
            "value": " 5.76k/? [00:00&lt;00:00, 211kB/s]"
          }
        },
        "a3a1497b5a2344acb7280ee895757b1e": {
          "model_module": "@jupyter-widgets/base",
          "model_name": "LayoutModel",
          "model_module_version": "1.2.0",
          "state": {
            "_model_module": "@jupyter-widgets/base",
            "_model_module_version": "1.2.0",
            "_model_name": "LayoutModel",
            "_view_count": null,
            "_view_module": "@jupyter-widgets/base",
            "_view_module_version": "1.2.0",
            "_view_name": "LayoutView",
            "align_content": null,
            "align_items": null,
            "align_self": null,
            "border": null,
            "bottom": null,
            "display": null,
            "flex": null,
            "flex_flow": null,
            "grid_area": null,
            "grid_auto_columns": null,
            "grid_auto_flow": null,
            "grid_auto_rows": null,
            "grid_column": null,
            "grid_gap": null,
            "grid_row": null,
            "grid_template_areas": null,
            "grid_template_columns": null,
            "grid_template_rows": null,
            "height": null,
            "justify_content": null,
            "justify_items": null,
            "left": null,
            "margin": null,
            "max_height": null,
            "max_width": null,
            "min_height": null,
            "min_width": null,
            "object_fit": null,
            "object_position": null,
            "order": null,
            "overflow": null,
            "overflow_x": null,
            "overflow_y": null,
            "padding": null,
            "right": null,
            "top": null,
            "visibility": null,
            "width": null
          }
        },
        "8d754cc3020b4f5ebc74240bd9ce3e11": {
          "model_module": "@jupyter-widgets/base",
          "model_name": "LayoutModel",
          "model_module_version": "1.2.0",
          "state": {
            "_model_module": "@jupyter-widgets/base",
            "_model_module_version": "1.2.0",
            "_model_name": "LayoutModel",
            "_view_count": null,
            "_view_module": "@jupyter-widgets/base",
            "_view_module_version": "1.2.0",
            "_view_name": "LayoutView",
            "align_content": null,
            "align_items": null,
            "align_self": null,
            "border": null,
            "bottom": null,
            "display": null,
            "flex": null,
            "flex_flow": null,
            "grid_area": null,
            "grid_auto_columns": null,
            "grid_auto_flow": null,
            "grid_auto_rows": null,
            "grid_column": null,
            "grid_gap": null,
            "grid_row": null,
            "grid_template_areas": null,
            "grid_template_columns": null,
            "grid_template_rows": null,
            "height": null,
            "justify_content": null,
            "justify_items": null,
            "left": null,
            "margin": null,
            "max_height": null,
            "max_width": null,
            "min_height": null,
            "min_width": null,
            "object_fit": null,
            "object_position": null,
            "order": null,
            "overflow": null,
            "overflow_x": null,
            "overflow_y": null,
            "padding": null,
            "right": null,
            "top": null,
            "visibility": null,
            "width": null
          }
        },
        "9eef3113bd564db4aed782358886b355": {
          "model_module": "@jupyter-widgets/controls",
          "model_name": "DescriptionStyleModel",
          "model_module_version": "1.5.0",
          "state": {
            "_model_module": "@jupyter-widgets/controls",
            "_model_module_version": "1.5.0",
            "_model_name": "DescriptionStyleModel",
            "_view_count": null,
            "_view_module": "@jupyter-widgets/base",
            "_view_module_version": "1.2.0",
            "_view_name": "StyleView",
            "description_width": ""
          }
        },
        "3a9ac515e6744a178dd6c66d3b6892cd": {
          "model_module": "@jupyter-widgets/base",
          "model_name": "LayoutModel",
          "model_module_version": "1.2.0",
          "state": {
            "_model_module": "@jupyter-widgets/base",
            "_model_module_version": "1.2.0",
            "_model_name": "LayoutModel",
            "_view_count": null,
            "_view_module": "@jupyter-widgets/base",
            "_view_module_version": "1.2.0",
            "_view_name": "LayoutView",
            "align_content": null,
            "align_items": null,
            "align_self": null,
            "border": null,
            "bottom": null,
            "display": null,
            "flex": null,
            "flex_flow": null,
            "grid_area": null,
            "grid_auto_columns": null,
            "grid_auto_flow": null,
            "grid_auto_rows": null,
            "grid_column": null,
            "grid_gap": null,
            "grid_row": null,
            "grid_template_areas": null,
            "grid_template_columns": null,
            "grid_template_rows": null,
            "height": null,
            "justify_content": null,
            "justify_items": null,
            "left": null,
            "margin": null,
            "max_height": null,
            "max_width": null,
            "min_height": null,
            "min_width": null,
            "object_fit": null,
            "object_position": null,
            "order": null,
            "overflow": null,
            "overflow_x": null,
            "overflow_y": null,
            "padding": null,
            "right": null,
            "top": null,
            "visibility": null,
            "width": null
          }
        },
        "9eac356f17914163863f39741c12ccfc": {
          "model_module": "@jupyter-widgets/controls",
          "model_name": "ProgressStyleModel",
          "model_module_version": "1.5.0",
          "state": {
            "_model_module": "@jupyter-widgets/controls",
            "_model_module_version": "1.5.0",
            "_model_name": "ProgressStyleModel",
            "_view_count": null,
            "_view_module": "@jupyter-widgets/base",
            "_view_module_version": "1.2.0",
            "_view_name": "StyleView",
            "bar_color": null,
            "description_width": ""
          }
        },
        "9c5e125cdafa4d31aca3cb9267330490": {
          "model_module": "@jupyter-widgets/base",
          "model_name": "LayoutModel",
          "model_module_version": "1.2.0",
          "state": {
            "_model_module": "@jupyter-widgets/base",
            "_model_module_version": "1.2.0",
            "_model_name": "LayoutModel",
            "_view_count": null,
            "_view_module": "@jupyter-widgets/base",
            "_view_module_version": "1.2.0",
            "_view_name": "LayoutView",
            "align_content": null,
            "align_items": null,
            "align_self": null,
            "border": null,
            "bottom": null,
            "display": null,
            "flex": null,
            "flex_flow": null,
            "grid_area": null,
            "grid_auto_columns": null,
            "grid_auto_flow": null,
            "grid_auto_rows": null,
            "grid_column": null,
            "grid_gap": null,
            "grid_row": null,
            "grid_template_areas": null,
            "grid_template_columns": null,
            "grid_template_rows": null,
            "height": null,
            "justify_content": null,
            "justify_items": null,
            "left": null,
            "margin": null,
            "max_height": null,
            "max_width": null,
            "min_height": null,
            "min_width": null,
            "object_fit": null,
            "object_position": null,
            "order": null,
            "overflow": null,
            "overflow_x": null,
            "overflow_y": null,
            "padding": null,
            "right": null,
            "top": null,
            "visibility": null,
            "width": null
          }
        },
        "df66faff09294c2aaa949ff375d5c8dc": {
          "model_module": "@jupyter-widgets/controls",
          "model_name": "DescriptionStyleModel",
          "model_module_version": "1.5.0",
          "state": {
            "_model_module": "@jupyter-widgets/controls",
            "_model_module_version": "1.5.0",
            "_model_name": "DescriptionStyleModel",
            "_view_count": null,
            "_view_module": "@jupyter-widgets/base",
            "_view_module_version": "1.2.0",
            "_view_name": "StyleView",
            "description_width": ""
          }
        },
        "03ac317470094aea846929a2c63baca2": {
          "model_module": "@jupyter-widgets/controls",
          "model_name": "HBoxModel",
          "model_module_version": "1.5.0",
          "state": {
            "_dom_classes": [],
            "_model_module": "@jupyter-widgets/controls",
            "_model_module_version": "1.5.0",
            "_model_name": "HBoxModel",
            "_view_count": null,
            "_view_module": "@jupyter-widgets/controls",
            "_view_module_version": "1.5.0",
            "_view_name": "HBoxView",
            "box_style": "",
            "children": [
              "IPY_MODEL_d7901db7a61f47c1b52be0dfdc5742ef",
              "IPY_MODEL_cbc330cb3ab9492fb0b5a06055b755d0",
              "IPY_MODEL_bfe789cf4c13404084fdcd81ee1d9aa9"
            ],
            "layout": "IPY_MODEL_d2baf015553d4d709ecd0553c92495a4"
          }
        },
        "d7901db7a61f47c1b52be0dfdc5742ef": {
          "model_module": "@jupyter-widgets/controls",
          "model_name": "HTMLModel",
          "model_module_version": "1.5.0",
          "state": {
            "_dom_classes": [],
            "_model_module": "@jupyter-widgets/controls",
            "_model_module_version": "1.5.0",
            "_model_name": "HTMLModel",
            "_view_count": null,
            "_view_module": "@jupyter-widgets/controls",
            "_view_module_version": "1.5.0",
            "_view_name": "HTMLView",
            "description": "",
            "description_tooltip": null,
            "layout": "IPY_MODEL_85f02193e9b24d6ea3edc182e890849e",
            "placeholder": "​",
            "style": "IPY_MODEL_d0b1799ad0d043ce8c47fd12260c66e7",
            "value": "Downloading: 100%"
          }
        },
        "cbc330cb3ab9492fb0b5a06055b755d0": {
          "model_module": "@jupyter-widgets/controls",
          "model_name": "FloatProgressModel",
          "model_module_version": "1.5.0",
          "state": {
            "_dom_classes": [],
            "_model_module": "@jupyter-widgets/controls",
            "_model_module_version": "1.5.0",
            "_model_name": "FloatProgressModel",
            "_view_count": null,
            "_view_module": "@jupyter-widgets/controls",
            "_view_module_version": "1.5.0",
            "_view_name": "ProgressView",
            "bar_style": "success",
            "description": "",
            "description_tooltip": null,
            "layout": "IPY_MODEL_037f4334e7854f61926c6ecf14ec477c",
            "max": 28,
            "min": 0,
            "orientation": "horizontal",
            "style": "IPY_MODEL_3eef3200aa06400fa700c744697ab902",
            "value": 28
          }
        },
        "bfe789cf4c13404084fdcd81ee1d9aa9": {
          "model_module": "@jupyter-widgets/controls",
          "model_name": "HTMLModel",
          "model_module_version": "1.5.0",
          "state": {
            "_dom_classes": [],
            "_model_module": "@jupyter-widgets/controls",
            "_model_module_version": "1.5.0",
            "_model_name": "HTMLModel",
            "_view_count": null,
            "_view_module": "@jupyter-widgets/controls",
            "_view_module_version": "1.5.0",
            "_view_name": "HTMLView",
            "description": "",
            "description_tooltip": null,
            "layout": "IPY_MODEL_c05fd993665a4aab93d59935db3886f9",
            "placeholder": "​",
            "style": "IPY_MODEL_b6e745177b5841dc9db5850ca6e5d98d",
            "value": " 28.0/28.0 [00:00&lt;00:00, 767B/s]"
          }
        },
        "d2baf015553d4d709ecd0553c92495a4": {
          "model_module": "@jupyter-widgets/base",
          "model_name": "LayoutModel",
          "model_module_version": "1.2.0",
          "state": {
            "_model_module": "@jupyter-widgets/base",
            "_model_module_version": "1.2.0",
            "_model_name": "LayoutModel",
            "_view_count": null,
            "_view_module": "@jupyter-widgets/base",
            "_view_module_version": "1.2.0",
            "_view_name": "LayoutView",
            "align_content": null,
            "align_items": null,
            "align_self": null,
            "border": null,
            "bottom": null,
            "display": null,
            "flex": null,
            "flex_flow": null,
            "grid_area": null,
            "grid_auto_columns": null,
            "grid_auto_flow": null,
            "grid_auto_rows": null,
            "grid_column": null,
            "grid_gap": null,
            "grid_row": null,
            "grid_template_areas": null,
            "grid_template_columns": null,
            "grid_template_rows": null,
            "height": null,
            "justify_content": null,
            "justify_items": null,
            "left": null,
            "margin": null,
            "max_height": null,
            "max_width": null,
            "min_height": null,
            "min_width": null,
            "object_fit": null,
            "object_position": null,
            "order": null,
            "overflow": null,
            "overflow_x": null,
            "overflow_y": null,
            "padding": null,
            "right": null,
            "top": null,
            "visibility": null,
            "width": null
          }
        },
        "85f02193e9b24d6ea3edc182e890849e": {
          "model_module": "@jupyter-widgets/base",
          "model_name": "LayoutModel",
          "model_module_version": "1.2.0",
          "state": {
            "_model_module": "@jupyter-widgets/base",
            "_model_module_version": "1.2.0",
            "_model_name": "LayoutModel",
            "_view_count": null,
            "_view_module": "@jupyter-widgets/base",
            "_view_module_version": "1.2.0",
            "_view_name": "LayoutView",
            "align_content": null,
            "align_items": null,
            "align_self": null,
            "border": null,
            "bottom": null,
            "display": null,
            "flex": null,
            "flex_flow": null,
            "grid_area": null,
            "grid_auto_columns": null,
            "grid_auto_flow": null,
            "grid_auto_rows": null,
            "grid_column": null,
            "grid_gap": null,
            "grid_row": null,
            "grid_template_areas": null,
            "grid_template_columns": null,
            "grid_template_rows": null,
            "height": null,
            "justify_content": null,
            "justify_items": null,
            "left": null,
            "margin": null,
            "max_height": null,
            "max_width": null,
            "min_height": null,
            "min_width": null,
            "object_fit": null,
            "object_position": null,
            "order": null,
            "overflow": null,
            "overflow_x": null,
            "overflow_y": null,
            "padding": null,
            "right": null,
            "top": null,
            "visibility": null,
            "width": null
          }
        },
        "d0b1799ad0d043ce8c47fd12260c66e7": {
          "model_module": "@jupyter-widgets/controls",
          "model_name": "DescriptionStyleModel",
          "model_module_version": "1.5.0",
          "state": {
            "_model_module": "@jupyter-widgets/controls",
            "_model_module_version": "1.5.0",
            "_model_name": "DescriptionStyleModel",
            "_view_count": null,
            "_view_module": "@jupyter-widgets/base",
            "_view_module_version": "1.2.0",
            "_view_name": "StyleView",
            "description_width": ""
          }
        },
        "037f4334e7854f61926c6ecf14ec477c": {
          "model_module": "@jupyter-widgets/base",
          "model_name": "LayoutModel",
          "model_module_version": "1.2.0",
          "state": {
            "_model_module": "@jupyter-widgets/base",
            "_model_module_version": "1.2.0",
            "_model_name": "LayoutModel",
            "_view_count": null,
            "_view_module": "@jupyter-widgets/base",
            "_view_module_version": "1.2.0",
            "_view_name": "LayoutView",
            "align_content": null,
            "align_items": null,
            "align_self": null,
            "border": null,
            "bottom": null,
            "display": null,
            "flex": null,
            "flex_flow": null,
            "grid_area": null,
            "grid_auto_columns": null,
            "grid_auto_flow": null,
            "grid_auto_rows": null,
            "grid_column": null,
            "grid_gap": null,
            "grid_row": null,
            "grid_template_areas": null,
            "grid_template_columns": null,
            "grid_template_rows": null,
            "height": null,
            "justify_content": null,
            "justify_items": null,
            "left": null,
            "margin": null,
            "max_height": null,
            "max_width": null,
            "min_height": null,
            "min_width": null,
            "object_fit": null,
            "object_position": null,
            "order": null,
            "overflow": null,
            "overflow_x": null,
            "overflow_y": null,
            "padding": null,
            "right": null,
            "top": null,
            "visibility": null,
            "width": null
          }
        },
        "3eef3200aa06400fa700c744697ab902": {
          "model_module": "@jupyter-widgets/controls",
          "model_name": "ProgressStyleModel",
          "model_module_version": "1.5.0",
          "state": {
            "_model_module": "@jupyter-widgets/controls",
            "_model_module_version": "1.5.0",
            "_model_name": "ProgressStyleModel",
            "_view_count": null,
            "_view_module": "@jupyter-widgets/base",
            "_view_module_version": "1.2.0",
            "_view_name": "StyleView",
            "bar_color": null,
            "description_width": ""
          }
        },
        "c05fd993665a4aab93d59935db3886f9": {
          "model_module": "@jupyter-widgets/base",
          "model_name": "LayoutModel",
          "model_module_version": "1.2.0",
          "state": {
            "_model_module": "@jupyter-widgets/base",
            "_model_module_version": "1.2.0",
            "_model_name": "LayoutModel",
            "_view_count": null,
            "_view_module": "@jupyter-widgets/base",
            "_view_module_version": "1.2.0",
            "_view_name": "LayoutView",
            "align_content": null,
            "align_items": null,
            "align_self": null,
            "border": null,
            "bottom": null,
            "display": null,
            "flex": null,
            "flex_flow": null,
            "grid_area": null,
            "grid_auto_columns": null,
            "grid_auto_flow": null,
            "grid_auto_rows": null,
            "grid_column": null,
            "grid_gap": null,
            "grid_row": null,
            "grid_template_areas": null,
            "grid_template_columns": null,
            "grid_template_rows": null,
            "height": null,
            "justify_content": null,
            "justify_items": null,
            "left": null,
            "margin": null,
            "max_height": null,
            "max_width": null,
            "min_height": null,
            "min_width": null,
            "object_fit": null,
            "object_position": null,
            "order": null,
            "overflow": null,
            "overflow_x": null,
            "overflow_y": null,
            "padding": null,
            "right": null,
            "top": null,
            "visibility": null,
            "width": null
          }
        },
        "b6e745177b5841dc9db5850ca6e5d98d": {
          "model_module": "@jupyter-widgets/controls",
          "model_name": "DescriptionStyleModel",
          "model_module_version": "1.5.0",
          "state": {
            "_model_module": "@jupyter-widgets/controls",
            "_model_module_version": "1.5.0",
            "_model_name": "DescriptionStyleModel",
            "_view_count": null,
            "_view_module": "@jupyter-widgets/base",
            "_view_module_version": "1.2.0",
            "_view_name": "StyleView",
            "description_width": ""
          }
        },
        "6f9f9dec413a4ae499c2161055cb1504": {
          "model_module": "@jupyter-widgets/controls",
          "model_name": "HBoxModel",
          "model_module_version": "1.5.0",
          "state": {
            "_dom_classes": [],
            "_model_module": "@jupyter-widgets/controls",
            "_model_module_version": "1.5.0",
            "_model_name": "HBoxModel",
            "_view_count": null,
            "_view_module": "@jupyter-widgets/controls",
            "_view_module_version": "1.5.0",
            "_view_name": "HBoxView",
            "box_style": "",
            "children": [
              "IPY_MODEL_ee8813d6162c4316b04ec1be371ef0f1",
              "IPY_MODEL_c03fd6caf89f414d8dc6e0dc7999ef79",
              "IPY_MODEL_a94b270378fa4fa894ea053f198a9692"
            ],
            "layout": "IPY_MODEL_8b6fea79ae2f4c51af7ef04f2bd18335"
          }
        },
        "ee8813d6162c4316b04ec1be371ef0f1": {
          "model_module": "@jupyter-widgets/controls",
          "model_name": "HTMLModel",
          "model_module_version": "1.5.0",
          "state": {
            "_dom_classes": [],
            "_model_module": "@jupyter-widgets/controls",
            "_model_module_version": "1.5.0",
            "_model_name": "HTMLModel",
            "_view_count": null,
            "_view_module": "@jupyter-widgets/controls",
            "_view_module_version": "1.5.0",
            "_view_name": "HTMLView",
            "description": "",
            "description_tooltip": null,
            "layout": "IPY_MODEL_df2ccfcf8158462f8363e1c5aec31754",
            "placeholder": "​",
            "style": "IPY_MODEL_4977c751e1d14eb0a99cc07eea5453e0",
            "value": "Downloading: 100%"
          }
        },
        "c03fd6caf89f414d8dc6e0dc7999ef79": {
          "model_module": "@jupyter-widgets/controls",
          "model_name": "FloatProgressModel",
          "model_module_version": "1.5.0",
          "state": {
            "_dom_classes": [],
            "_model_module": "@jupyter-widgets/controls",
            "_model_module_version": "1.5.0",
            "_model_name": "FloatProgressModel",
            "_view_count": null,
            "_view_module": "@jupyter-widgets/controls",
            "_view_module_version": "1.5.0",
            "_view_name": "ProgressView",
            "bar_style": "success",
            "description": "",
            "description_tooltip": null,
            "layout": "IPY_MODEL_1d6719f8fb374235b8ebaf32f70e74ef",
            "max": 483,
            "min": 0,
            "orientation": "horizontal",
            "style": "IPY_MODEL_b9272c9005a343649fd2dfc827c7b99b",
            "value": 483
          }
        },
        "a94b270378fa4fa894ea053f198a9692": {
          "model_module": "@jupyter-widgets/controls",
          "model_name": "HTMLModel",
          "model_module_version": "1.5.0",
          "state": {
            "_dom_classes": [],
            "_model_module": "@jupyter-widgets/controls",
            "_model_module_version": "1.5.0",
            "_model_name": "HTMLModel",
            "_view_count": null,
            "_view_module": "@jupyter-widgets/controls",
            "_view_module_version": "1.5.0",
            "_view_name": "HTMLView",
            "description": "",
            "description_tooltip": null,
            "layout": "IPY_MODEL_0567d7b79fcf43e9a2aa12064fae9270",
            "placeholder": "​",
            "style": "IPY_MODEL_f6d42b459d1644bd8f1754e1543d1ec9",
            "value": " 483/483 [00:00&lt;00:00, 15.0kB/s]"
          }
        },
        "8b6fea79ae2f4c51af7ef04f2bd18335": {
          "model_module": "@jupyter-widgets/base",
          "model_name": "LayoutModel",
          "model_module_version": "1.2.0",
          "state": {
            "_model_module": "@jupyter-widgets/base",
            "_model_module_version": "1.2.0",
            "_model_name": "LayoutModel",
            "_view_count": null,
            "_view_module": "@jupyter-widgets/base",
            "_view_module_version": "1.2.0",
            "_view_name": "LayoutView",
            "align_content": null,
            "align_items": null,
            "align_self": null,
            "border": null,
            "bottom": null,
            "display": null,
            "flex": null,
            "flex_flow": null,
            "grid_area": null,
            "grid_auto_columns": null,
            "grid_auto_flow": null,
            "grid_auto_rows": null,
            "grid_column": null,
            "grid_gap": null,
            "grid_row": null,
            "grid_template_areas": null,
            "grid_template_columns": null,
            "grid_template_rows": null,
            "height": null,
            "justify_content": null,
            "justify_items": null,
            "left": null,
            "margin": null,
            "max_height": null,
            "max_width": null,
            "min_height": null,
            "min_width": null,
            "object_fit": null,
            "object_position": null,
            "order": null,
            "overflow": null,
            "overflow_x": null,
            "overflow_y": null,
            "padding": null,
            "right": null,
            "top": null,
            "visibility": null,
            "width": null
          }
        },
        "df2ccfcf8158462f8363e1c5aec31754": {
          "model_module": "@jupyter-widgets/base",
          "model_name": "LayoutModel",
          "model_module_version": "1.2.0",
          "state": {
            "_model_module": "@jupyter-widgets/base",
            "_model_module_version": "1.2.0",
            "_model_name": "LayoutModel",
            "_view_count": null,
            "_view_module": "@jupyter-widgets/base",
            "_view_module_version": "1.2.0",
            "_view_name": "LayoutView",
            "align_content": null,
            "align_items": null,
            "align_self": null,
            "border": null,
            "bottom": null,
            "display": null,
            "flex": null,
            "flex_flow": null,
            "grid_area": null,
            "grid_auto_columns": null,
            "grid_auto_flow": null,
            "grid_auto_rows": null,
            "grid_column": null,
            "grid_gap": null,
            "grid_row": null,
            "grid_template_areas": null,
            "grid_template_columns": null,
            "grid_template_rows": null,
            "height": null,
            "justify_content": null,
            "justify_items": null,
            "left": null,
            "margin": null,
            "max_height": null,
            "max_width": null,
            "min_height": null,
            "min_width": null,
            "object_fit": null,
            "object_position": null,
            "order": null,
            "overflow": null,
            "overflow_x": null,
            "overflow_y": null,
            "padding": null,
            "right": null,
            "top": null,
            "visibility": null,
            "width": null
          }
        },
        "4977c751e1d14eb0a99cc07eea5453e0": {
          "model_module": "@jupyter-widgets/controls",
          "model_name": "DescriptionStyleModel",
          "model_module_version": "1.5.0",
          "state": {
            "_model_module": "@jupyter-widgets/controls",
            "_model_module_version": "1.5.0",
            "_model_name": "DescriptionStyleModel",
            "_view_count": null,
            "_view_module": "@jupyter-widgets/base",
            "_view_module_version": "1.2.0",
            "_view_name": "StyleView",
            "description_width": ""
          }
        },
        "1d6719f8fb374235b8ebaf32f70e74ef": {
          "model_module": "@jupyter-widgets/base",
          "model_name": "LayoutModel",
          "model_module_version": "1.2.0",
          "state": {
            "_model_module": "@jupyter-widgets/base",
            "_model_module_version": "1.2.0",
            "_model_name": "LayoutModel",
            "_view_count": null,
            "_view_module": "@jupyter-widgets/base",
            "_view_module_version": "1.2.0",
            "_view_name": "LayoutView",
            "align_content": null,
            "align_items": null,
            "align_self": null,
            "border": null,
            "bottom": null,
            "display": null,
            "flex": null,
            "flex_flow": null,
            "grid_area": null,
            "grid_auto_columns": null,
            "grid_auto_flow": null,
            "grid_auto_rows": null,
            "grid_column": null,
            "grid_gap": null,
            "grid_row": null,
            "grid_template_areas": null,
            "grid_template_columns": null,
            "grid_template_rows": null,
            "height": null,
            "justify_content": null,
            "justify_items": null,
            "left": null,
            "margin": null,
            "max_height": null,
            "max_width": null,
            "min_height": null,
            "min_width": null,
            "object_fit": null,
            "object_position": null,
            "order": null,
            "overflow": null,
            "overflow_x": null,
            "overflow_y": null,
            "padding": null,
            "right": null,
            "top": null,
            "visibility": null,
            "width": null
          }
        },
        "b9272c9005a343649fd2dfc827c7b99b": {
          "model_module": "@jupyter-widgets/controls",
          "model_name": "ProgressStyleModel",
          "model_module_version": "1.5.0",
          "state": {
            "_model_module": "@jupyter-widgets/controls",
            "_model_module_version": "1.5.0",
            "_model_name": "ProgressStyleModel",
            "_view_count": null,
            "_view_module": "@jupyter-widgets/base",
            "_view_module_version": "1.2.0",
            "_view_name": "StyleView",
            "bar_color": null,
            "description_width": ""
          }
        },
        "0567d7b79fcf43e9a2aa12064fae9270": {
          "model_module": "@jupyter-widgets/base",
          "model_name": "LayoutModel",
          "model_module_version": "1.2.0",
          "state": {
            "_model_module": "@jupyter-widgets/base",
            "_model_module_version": "1.2.0",
            "_model_name": "LayoutModel",
            "_view_count": null,
            "_view_module": "@jupyter-widgets/base",
            "_view_module_version": "1.2.0",
            "_view_name": "LayoutView",
            "align_content": null,
            "align_items": null,
            "align_self": null,
            "border": null,
            "bottom": null,
            "display": null,
            "flex": null,
            "flex_flow": null,
            "grid_area": null,
            "grid_auto_columns": null,
            "grid_auto_flow": null,
            "grid_auto_rows": null,
            "grid_column": null,
            "grid_gap": null,
            "grid_row": null,
            "grid_template_areas": null,
            "grid_template_columns": null,
            "grid_template_rows": null,
            "height": null,
            "justify_content": null,
            "justify_items": null,
            "left": null,
            "margin": null,
            "max_height": null,
            "max_width": null,
            "min_height": null,
            "min_width": null,
            "object_fit": null,
            "object_position": null,
            "order": null,
            "overflow": null,
            "overflow_x": null,
            "overflow_y": null,
            "padding": null,
            "right": null,
            "top": null,
            "visibility": null,
            "width": null
          }
        },
        "f6d42b459d1644bd8f1754e1543d1ec9": {
          "model_module": "@jupyter-widgets/controls",
          "model_name": "DescriptionStyleModel",
          "model_module_version": "1.5.0",
          "state": {
            "_model_module": "@jupyter-widgets/controls",
            "_model_module_version": "1.5.0",
            "_model_name": "DescriptionStyleModel",
            "_view_count": null,
            "_view_module": "@jupyter-widgets/base",
            "_view_module_version": "1.2.0",
            "_view_name": "StyleView",
            "description_width": ""
          }
        },
        "d9352020c05f41258a10ad5eb79076da": {
          "model_module": "@jupyter-widgets/controls",
          "model_name": "HBoxModel",
          "model_module_version": "1.5.0",
          "state": {
            "_dom_classes": [],
            "_model_module": "@jupyter-widgets/controls",
            "_model_module_version": "1.5.0",
            "_model_name": "HBoxModel",
            "_view_count": null,
            "_view_module": "@jupyter-widgets/controls",
            "_view_module_version": "1.5.0",
            "_view_name": "HBoxView",
            "box_style": "",
            "children": [
              "IPY_MODEL_72baeb4188554a37acc630d3a4d74381",
              "IPY_MODEL_004996ed893f422aa26ddb4fb2b8cbf1",
              "IPY_MODEL_edc0ad5e0e4f4366b22c5734e3c601e1"
            ],
            "layout": "IPY_MODEL_a5e64c55022345a2b7cf6a0d5dd30999"
          }
        },
        "72baeb4188554a37acc630d3a4d74381": {
          "model_module": "@jupyter-widgets/controls",
          "model_name": "HTMLModel",
          "model_module_version": "1.5.0",
          "state": {
            "_dom_classes": [],
            "_model_module": "@jupyter-widgets/controls",
            "_model_module_version": "1.5.0",
            "_model_name": "HTMLModel",
            "_view_count": null,
            "_view_module": "@jupyter-widgets/controls",
            "_view_module_version": "1.5.0",
            "_view_name": "HTMLView",
            "description": "",
            "description_tooltip": null,
            "layout": "IPY_MODEL_86052c8c950648388e9f0fe7ad26019f",
            "placeholder": "​",
            "style": "IPY_MODEL_572ba2387cc24dd7938fc409a21951c8",
            "value": "Downloading: 100%"
          }
        },
        "004996ed893f422aa26ddb4fb2b8cbf1": {
          "model_module": "@jupyter-widgets/controls",
          "model_name": "FloatProgressModel",
          "model_module_version": "1.5.0",
          "state": {
            "_dom_classes": [],
            "_model_module": "@jupyter-widgets/controls",
            "_model_module_version": "1.5.0",
            "_model_name": "FloatProgressModel",
            "_view_count": null,
            "_view_module": "@jupyter-widgets/controls",
            "_view_module_version": "1.5.0",
            "_view_name": "ProgressView",
            "bar_style": "success",
            "description": "",
            "description_tooltip": null,
            "layout": "IPY_MODEL_7aa3c18395614f899dce12b40fd9f9e6",
            "max": 231508,
            "min": 0,
            "orientation": "horizontal",
            "style": "IPY_MODEL_73d32c241ceb47f9be079afafdf49cbd",
            "value": 231508
          }
        },
        "edc0ad5e0e4f4366b22c5734e3c601e1": {
          "model_module": "@jupyter-widgets/controls",
          "model_name": "HTMLModel",
          "model_module_version": "1.5.0",
          "state": {
            "_dom_classes": [],
            "_model_module": "@jupyter-widgets/controls",
            "_model_module_version": "1.5.0",
            "_model_name": "HTMLModel",
            "_view_count": null,
            "_view_module": "@jupyter-widgets/controls",
            "_view_module_version": "1.5.0",
            "_view_name": "HTMLView",
            "description": "",
            "description_tooltip": null,
            "layout": "IPY_MODEL_9cf616b5770f42f698327c709aba4e59",
            "placeholder": "​",
            "style": "IPY_MODEL_41c8e77bc38a4faab0b6179aa641ff47",
            "value": " 232k/232k [00:00&lt;00:00, 296kB/s]"
          }
        },
        "a5e64c55022345a2b7cf6a0d5dd30999": {
          "model_module": "@jupyter-widgets/base",
          "model_name": "LayoutModel",
          "model_module_version": "1.2.0",
          "state": {
            "_model_module": "@jupyter-widgets/base",
            "_model_module_version": "1.2.0",
            "_model_name": "LayoutModel",
            "_view_count": null,
            "_view_module": "@jupyter-widgets/base",
            "_view_module_version": "1.2.0",
            "_view_name": "LayoutView",
            "align_content": null,
            "align_items": null,
            "align_self": null,
            "border": null,
            "bottom": null,
            "display": null,
            "flex": null,
            "flex_flow": null,
            "grid_area": null,
            "grid_auto_columns": null,
            "grid_auto_flow": null,
            "grid_auto_rows": null,
            "grid_column": null,
            "grid_gap": null,
            "grid_row": null,
            "grid_template_areas": null,
            "grid_template_columns": null,
            "grid_template_rows": null,
            "height": null,
            "justify_content": null,
            "justify_items": null,
            "left": null,
            "margin": null,
            "max_height": null,
            "max_width": null,
            "min_height": null,
            "min_width": null,
            "object_fit": null,
            "object_position": null,
            "order": null,
            "overflow": null,
            "overflow_x": null,
            "overflow_y": null,
            "padding": null,
            "right": null,
            "top": null,
            "visibility": null,
            "width": null
          }
        },
        "86052c8c950648388e9f0fe7ad26019f": {
          "model_module": "@jupyter-widgets/base",
          "model_name": "LayoutModel",
          "model_module_version": "1.2.0",
          "state": {
            "_model_module": "@jupyter-widgets/base",
            "_model_module_version": "1.2.0",
            "_model_name": "LayoutModel",
            "_view_count": null,
            "_view_module": "@jupyter-widgets/base",
            "_view_module_version": "1.2.0",
            "_view_name": "LayoutView",
            "align_content": null,
            "align_items": null,
            "align_self": null,
            "border": null,
            "bottom": null,
            "display": null,
            "flex": null,
            "flex_flow": null,
            "grid_area": null,
            "grid_auto_columns": null,
            "grid_auto_flow": null,
            "grid_auto_rows": null,
            "grid_column": null,
            "grid_gap": null,
            "grid_row": null,
            "grid_template_areas": null,
            "grid_template_columns": null,
            "grid_template_rows": null,
            "height": null,
            "justify_content": null,
            "justify_items": null,
            "left": null,
            "margin": null,
            "max_height": null,
            "max_width": null,
            "min_height": null,
            "min_width": null,
            "object_fit": null,
            "object_position": null,
            "order": null,
            "overflow": null,
            "overflow_x": null,
            "overflow_y": null,
            "padding": null,
            "right": null,
            "top": null,
            "visibility": null,
            "width": null
          }
        },
        "572ba2387cc24dd7938fc409a21951c8": {
          "model_module": "@jupyter-widgets/controls",
          "model_name": "DescriptionStyleModel",
          "model_module_version": "1.5.0",
          "state": {
            "_model_module": "@jupyter-widgets/controls",
            "_model_module_version": "1.5.0",
            "_model_name": "DescriptionStyleModel",
            "_view_count": null,
            "_view_module": "@jupyter-widgets/base",
            "_view_module_version": "1.2.0",
            "_view_name": "StyleView",
            "description_width": ""
          }
        },
        "7aa3c18395614f899dce12b40fd9f9e6": {
          "model_module": "@jupyter-widgets/base",
          "model_name": "LayoutModel",
          "model_module_version": "1.2.0",
          "state": {
            "_model_module": "@jupyter-widgets/base",
            "_model_module_version": "1.2.0",
            "_model_name": "LayoutModel",
            "_view_count": null,
            "_view_module": "@jupyter-widgets/base",
            "_view_module_version": "1.2.0",
            "_view_name": "LayoutView",
            "align_content": null,
            "align_items": null,
            "align_self": null,
            "border": null,
            "bottom": null,
            "display": null,
            "flex": null,
            "flex_flow": null,
            "grid_area": null,
            "grid_auto_columns": null,
            "grid_auto_flow": null,
            "grid_auto_rows": null,
            "grid_column": null,
            "grid_gap": null,
            "grid_row": null,
            "grid_template_areas": null,
            "grid_template_columns": null,
            "grid_template_rows": null,
            "height": null,
            "justify_content": null,
            "justify_items": null,
            "left": null,
            "margin": null,
            "max_height": null,
            "max_width": null,
            "min_height": null,
            "min_width": null,
            "object_fit": null,
            "object_position": null,
            "order": null,
            "overflow": null,
            "overflow_x": null,
            "overflow_y": null,
            "padding": null,
            "right": null,
            "top": null,
            "visibility": null,
            "width": null
          }
        },
        "73d32c241ceb47f9be079afafdf49cbd": {
          "model_module": "@jupyter-widgets/controls",
          "model_name": "ProgressStyleModel",
          "model_module_version": "1.5.0",
          "state": {
            "_model_module": "@jupyter-widgets/controls",
            "_model_module_version": "1.5.0",
            "_model_name": "ProgressStyleModel",
            "_view_count": null,
            "_view_module": "@jupyter-widgets/base",
            "_view_module_version": "1.2.0",
            "_view_name": "StyleView",
            "bar_color": null,
            "description_width": ""
          }
        },
        "9cf616b5770f42f698327c709aba4e59": {
          "model_module": "@jupyter-widgets/base",
          "model_name": "LayoutModel",
          "model_module_version": "1.2.0",
          "state": {
            "_model_module": "@jupyter-widgets/base",
            "_model_module_version": "1.2.0",
            "_model_name": "LayoutModel",
            "_view_count": null,
            "_view_module": "@jupyter-widgets/base",
            "_view_module_version": "1.2.0",
            "_view_name": "LayoutView",
            "align_content": null,
            "align_items": null,
            "align_self": null,
            "border": null,
            "bottom": null,
            "display": null,
            "flex": null,
            "flex_flow": null,
            "grid_area": null,
            "grid_auto_columns": null,
            "grid_auto_flow": null,
            "grid_auto_rows": null,
            "grid_column": null,
            "grid_gap": null,
            "grid_row": null,
            "grid_template_areas": null,
            "grid_template_columns": null,
            "grid_template_rows": null,
            "height": null,
            "justify_content": null,
            "justify_items": null,
            "left": null,
            "margin": null,
            "max_height": null,
            "max_width": null,
            "min_height": null,
            "min_width": null,
            "object_fit": null,
            "object_position": null,
            "order": null,
            "overflow": null,
            "overflow_x": null,
            "overflow_y": null,
            "padding": null,
            "right": null,
            "top": null,
            "visibility": null,
            "width": null
          }
        },
        "41c8e77bc38a4faab0b6179aa641ff47": {
          "model_module": "@jupyter-widgets/controls",
          "model_name": "DescriptionStyleModel",
          "model_module_version": "1.5.0",
          "state": {
            "_model_module": "@jupyter-widgets/controls",
            "_model_module_version": "1.5.0",
            "_model_name": "DescriptionStyleModel",
            "_view_count": null,
            "_view_module": "@jupyter-widgets/base",
            "_view_module_version": "1.2.0",
            "_view_name": "StyleView",
            "description_width": ""
          }
        },
        "4fa704a445f64e91a116447e953ebe1f": {
          "model_module": "@jupyter-widgets/controls",
          "model_name": "HBoxModel",
          "model_module_version": "1.5.0",
          "state": {
            "_dom_classes": [],
            "_model_module": "@jupyter-widgets/controls",
            "_model_module_version": "1.5.0",
            "_model_name": "HBoxModel",
            "_view_count": null,
            "_view_module": "@jupyter-widgets/controls",
            "_view_module_version": "1.5.0",
            "_view_name": "HBoxView",
            "box_style": "",
            "children": [
              "IPY_MODEL_cbf18267b3a0403e85b9e98e517e9d04",
              "IPY_MODEL_b113cb9be98d4130be124cb69f5eeb60",
              "IPY_MODEL_1f184e22029e45c59351f193822ce131"
            ],
            "layout": "IPY_MODEL_64eaa8c3c5054f4b8562d151cab04580"
          }
        },
        "cbf18267b3a0403e85b9e98e517e9d04": {
          "model_module": "@jupyter-widgets/controls",
          "model_name": "HTMLModel",
          "model_module_version": "1.5.0",
          "state": {
            "_dom_classes": [],
            "_model_module": "@jupyter-widgets/controls",
            "_model_module_version": "1.5.0",
            "_model_name": "HTMLModel",
            "_view_count": null,
            "_view_module": "@jupyter-widgets/controls",
            "_view_module_version": "1.5.0",
            "_view_name": "HTMLView",
            "description": "",
            "description_tooltip": null,
            "layout": "IPY_MODEL_25f87a34797b4d91bd31ebe0e4d78cff",
            "placeholder": "​",
            "style": "IPY_MODEL_2a8a6bccbeab4fbd9b157ef696110c2a",
            "value": "Downloading: 100%"
          }
        },
        "b113cb9be98d4130be124cb69f5eeb60": {
          "model_module": "@jupyter-widgets/controls",
          "model_name": "FloatProgressModel",
          "model_module_version": "1.5.0",
          "state": {
            "_dom_classes": [],
            "_model_module": "@jupyter-widgets/controls",
            "_model_module_version": "1.5.0",
            "_model_name": "FloatProgressModel",
            "_view_count": null,
            "_view_module": "@jupyter-widgets/controls",
            "_view_module_version": "1.5.0",
            "_view_name": "ProgressView",
            "bar_style": "success",
            "description": "",
            "description_tooltip": null,
            "layout": "IPY_MODEL_d37ea8a4f9244b3b8e4feac19bd75552",
            "max": 466062,
            "min": 0,
            "orientation": "horizontal",
            "style": "IPY_MODEL_ecbe4af5ff8a4bb3b6aaa58b3efecfb7",
            "value": 466062
          }
        },
        "1f184e22029e45c59351f193822ce131": {
          "model_module": "@jupyter-widgets/controls",
          "model_name": "HTMLModel",
          "model_module_version": "1.5.0",
          "state": {
            "_dom_classes": [],
            "_model_module": "@jupyter-widgets/controls",
            "_model_module_version": "1.5.0",
            "_model_name": "HTMLModel",
            "_view_count": null,
            "_view_module": "@jupyter-widgets/controls",
            "_view_module_version": "1.5.0",
            "_view_name": "HTMLView",
            "description": "",
            "description_tooltip": null,
            "layout": "IPY_MODEL_c05476d5eac04073b925892f45c98be0",
            "placeholder": "​",
            "style": "IPY_MODEL_30a5082197254aef85860f9674e63152",
            "value": " 466k/466k [00:01&lt;00:00, 486kB/s]"
          }
        },
        "64eaa8c3c5054f4b8562d151cab04580": {
          "model_module": "@jupyter-widgets/base",
          "model_name": "LayoutModel",
          "model_module_version": "1.2.0",
          "state": {
            "_model_module": "@jupyter-widgets/base",
            "_model_module_version": "1.2.0",
            "_model_name": "LayoutModel",
            "_view_count": null,
            "_view_module": "@jupyter-widgets/base",
            "_view_module_version": "1.2.0",
            "_view_name": "LayoutView",
            "align_content": null,
            "align_items": null,
            "align_self": null,
            "border": null,
            "bottom": null,
            "display": null,
            "flex": null,
            "flex_flow": null,
            "grid_area": null,
            "grid_auto_columns": null,
            "grid_auto_flow": null,
            "grid_auto_rows": null,
            "grid_column": null,
            "grid_gap": null,
            "grid_row": null,
            "grid_template_areas": null,
            "grid_template_columns": null,
            "grid_template_rows": null,
            "height": null,
            "justify_content": null,
            "justify_items": null,
            "left": null,
            "margin": null,
            "max_height": null,
            "max_width": null,
            "min_height": null,
            "min_width": null,
            "object_fit": null,
            "object_position": null,
            "order": null,
            "overflow": null,
            "overflow_x": null,
            "overflow_y": null,
            "padding": null,
            "right": null,
            "top": null,
            "visibility": null,
            "width": null
          }
        },
        "25f87a34797b4d91bd31ebe0e4d78cff": {
          "model_module": "@jupyter-widgets/base",
          "model_name": "LayoutModel",
          "model_module_version": "1.2.0",
          "state": {
            "_model_module": "@jupyter-widgets/base",
            "_model_module_version": "1.2.0",
            "_model_name": "LayoutModel",
            "_view_count": null,
            "_view_module": "@jupyter-widgets/base",
            "_view_module_version": "1.2.0",
            "_view_name": "LayoutView",
            "align_content": null,
            "align_items": null,
            "align_self": null,
            "border": null,
            "bottom": null,
            "display": null,
            "flex": null,
            "flex_flow": null,
            "grid_area": null,
            "grid_auto_columns": null,
            "grid_auto_flow": null,
            "grid_auto_rows": null,
            "grid_column": null,
            "grid_gap": null,
            "grid_row": null,
            "grid_template_areas": null,
            "grid_template_columns": null,
            "grid_template_rows": null,
            "height": null,
            "justify_content": null,
            "justify_items": null,
            "left": null,
            "margin": null,
            "max_height": null,
            "max_width": null,
            "min_height": null,
            "min_width": null,
            "object_fit": null,
            "object_position": null,
            "order": null,
            "overflow": null,
            "overflow_x": null,
            "overflow_y": null,
            "padding": null,
            "right": null,
            "top": null,
            "visibility": null,
            "width": null
          }
        },
        "2a8a6bccbeab4fbd9b157ef696110c2a": {
          "model_module": "@jupyter-widgets/controls",
          "model_name": "DescriptionStyleModel",
          "model_module_version": "1.5.0",
          "state": {
            "_model_module": "@jupyter-widgets/controls",
            "_model_module_version": "1.5.0",
            "_model_name": "DescriptionStyleModel",
            "_view_count": null,
            "_view_module": "@jupyter-widgets/base",
            "_view_module_version": "1.2.0",
            "_view_name": "StyleView",
            "description_width": ""
          }
        },
        "d37ea8a4f9244b3b8e4feac19bd75552": {
          "model_module": "@jupyter-widgets/base",
          "model_name": "LayoutModel",
          "model_module_version": "1.2.0",
          "state": {
            "_model_module": "@jupyter-widgets/base",
            "_model_module_version": "1.2.0",
            "_model_name": "LayoutModel",
            "_view_count": null,
            "_view_module": "@jupyter-widgets/base",
            "_view_module_version": "1.2.0",
            "_view_name": "LayoutView",
            "align_content": null,
            "align_items": null,
            "align_self": null,
            "border": null,
            "bottom": null,
            "display": null,
            "flex": null,
            "flex_flow": null,
            "grid_area": null,
            "grid_auto_columns": null,
            "grid_auto_flow": null,
            "grid_auto_rows": null,
            "grid_column": null,
            "grid_gap": null,
            "grid_row": null,
            "grid_template_areas": null,
            "grid_template_columns": null,
            "grid_template_rows": null,
            "height": null,
            "justify_content": null,
            "justify_items": null,
            "left": null,
            "margin": null,
            "max_height": null,
            "max_width": null,
            "min_height": null,
            "min_width": null,
            "object_fit": null,
            "object_position": null,
            "order": null,
            "overflow": null,
            "overflow_x": null,
            "overflow_y": null,
            "padding": null,
            "right": null,
            "top": null,
            "visibility": null,
            "width": null
          }
        },
        "ecbe4af5ff8a4bb3b6aaa58b3efecfb7": {
          "model_module": "@jupyter-widgets/controls",
          "model_name": "ProgressStyleModel",
          "model_module_version": "1.5.0",
          "state": {
            "_model_module": "@jupyter-widgets/controls",
            "_model_module_version": "1.5.0",
            "_model_name": "ProgressStyleModel",
            "_view_count": null,
            "_view_module": "@jupyter-widgets/base",
            "_view_module_version": "1.2.0",
            "_view_name": "StyleView",
            "bar_color": null,
            "description_width": ""
          }
        },
        "c05476d5eac04073b925892f45c98be0": {
          "model_module": "@jupyter-widgets/base",
          "model_name": "LayoutModel",
          "model_module_version": "1.2.0",
          "state": {
            "_model_module": "@jupyter-widgets/base",
            "_model_module_version": "1.2.0",
            "_model_name": "LayoutModel",
            "_view_count": null,
            "_view_module": "@jupyter-widgets/base",
            "_view_module_version": "1.2.0",
            "_view_name": "LayoutView",
            "align_content": null,
            "align_items": null,
            "align_self": null,
            "border": null,
            "bottom": null,
            "display": null,
            "flex": null,
            "flex_flow": null,
            "grid_area": null,
            "grid_auto_columns": null,
            "grid_auto_flow": null,
            "grid_auto_rows": null,
            "grid_column": null,
            "grid_gap": null,
            "grid_row": null,
            "grid_template_areas": null,
            "grid_template_columns": null,
            "grid_template_rows": null,
            "height": null,
            "justify_content": null,
            "justify_items": null,
            "left": null,
            "margin": null,
            "max_height": null,
            "max_width": null,
            "min_height": null,
            "min_width": null,
            "object_fit": null,
            "object_position": null,
            "order": null,
            "overflow": null,
            "overflow_x": null,
            "overflow_y": null,
            "padding": null,
            "right": null,
            "top": null,
            "visibility": null,
            "width": null
          }
        },
        "30a5082197254aef85860f9674e63152": {
          "model_module": "@jupyter-widgets/controls",
          "model_name": "DescriptionStyleModel",
          "model_module_version": "1.5.0",
          "state": {
            "_model_module": "@jupyter-widgets/controls",
            "_model_module_version": "1.5.0",
            "_model_name": "DescriptionStyleModel",
            "_view_count": null,
            "_view_module": "@jupyter-widgets/base",
            "_view_module_version": "1.2.0",
            "_view_name": "StyleView",
            "description_width": ""
          }
        },
        "611ffb47b9d848d58f6e3984bab8d336": {
          "model_module": "@jupyter-widgets/controls",
          "model_name": "HBoxModel",
          "model_module_version": "1.5.0",
          "state": {
            "_dom_classes": [],
            "_model_module": "@jupyter-widgets/controls",
            "_model_module_version": "1.5.0",
            "_model_name": "HBoxModel",
            "_view_count": null,
            "_view_module": "@jupyter-widgets/controls",
            "_view_module_version": "1.5.0",
            "_view_name": "HBoxView",
            "box_style": "",
            "children": [
              "IPY_MODEL_e2f78cd661b34bdbb020b49a7f17cf72",
              "IPY_MODEL_84a78a91d6b54e2b88022a4830fe6f2e",
              "IPY_MODEL_e9a6abe0077b41099c91e7e2b6a9c8df"
            ],
            "layout": "IPY_MODEL_43e3c72ca8ef4cf4946a26f3f59708cc"
          }
        },
        "e2f78cd661b34bdbb020b49a7f17cf72": {
          "model_module": "@jupyter-widgets/controls",
          "model_name": "HTMLModel",
          "model_module_version": "1.5.0",
          "state": {
            "_dom_classes": [],
            "_model_module": "@jupyter-widgets/controls",
            "_model_module_version": "1.5.0",
            "_model_name": "HTMLModel",
            "_view_count": null,
            "_view_module": "@jupyter-widgets/controls",
            "_view_module_version": "1.5.0",
            "_view_name": "HTMLView",
            "description": "",
            "description_tooltip": null,
            "layout": "IPY_MODEL_97308887a1cc4156b48c7ce8e5991d84",
            "placeholder": "​",
            "style": "IPY_MODEL_d925c68162c6423ca19bf83a11f964de",
            "value": "100%"
          }
        },
        "84a78a91d6b54e2b88022a4830fe6f2e": {
          "model_module": "@jupyter-widgets/controls",
          "model_name": "FloatProgressModel",
          "model_module_version": "1.5.0",
          "state": {
            "_dom_classes": [],
            "_model_module": "@jupyter-widgets/controls",
            "_model_module_version": "1.5.0",
            "_model_name": "FloatProgressModel",
            "_view_count": null,
            "_view_module": "@jupyter-widgets/controls",
            "_view_module_version": "1.5.0",
            "_view_name": "ProgressView",
            "bar_style": "success",
            "description": "",
            "description_tooltip": null,
            "layout": "IPY_MODEL_1c4bed20e0114848b92eb517ef771306",
            "max": 1,
            "min": 0,
            "orientation": "horizontal",
            "style": "IPY_MODEL_a72e8ab65ac34676b20f444e95d3af2b",
            "value": 1
          }
        },
        "e9a6abe0077b41099c91e7e2b6a9c8df": {
          "model_module": "@jupyter-widgets/controls",
          "model_name": "HTMLModel",
          "model_module_version": "1.5.0",
          "state": {
            "_dom_classes": [],
            "_model_module": "@jupyter-widgets/controls",
            "_model_module_version": "1.5.0",
            "_model_name": "HTMLModel",
            "_view_count": null,
            "_view_module": "@jupyter-widgets/controls",
            "_view_module_version": "1.5.0",
            "_view_name": "HTMLView",
            "description": "",
            "description_tooltip": null,
            "layout": "IPY_MODEL_8ac720d6daf741139e2e970cee8f4de1",
            "placeholder": "​",
            "style": "IPY_MODEL_bc0a6adebfe44a8da22b89fe7b6a3718",
            "value": " 1/1 [00:06&lt;00:00,  6.84s/ba]"
          }
        },
        "43e3c72ca8ef4cf4946a26f3f59708cc": {
          "model_module": "@jupyter-widgets/base",
          "model_name": "LayoutModel",
          "model_module_version": "1.2.0",
          "state": {
            "_model_module": "@jupyter-widgets/base",
            "_model_module_version": "1.2.0",
            "_model_name": "LayoutModel",
            "_view_count": null,
            "_view_module": "@jupyter-widgets/base",
            "_view_module_version": "1.2.0",
            "_view_name": "LayoutView",
            "align_content": null,
            "align_items": null,
            "align_self": null,
            "border": null,
            "bottom": null,
            "display": null,
            "flex": null,
            "flex_flow": null,
            "grid_area": null,
            "grid_auto_columns": null,
            "grid_auto_flow": null,
            "grid_auto_rows": null,
            "grid_column": null,
            "grid_gap": null,
            "grid_row": null,
            "grid_template_areas": null,
            "grid_template_columns": null,
            "grid_template_rows": null,
            "height": null,
            "justify_content": null,
            "justify_items": null,
            "left": null,
            "margin": null,
            "max_height": null,
            "max_width": null,
            "min_height": null,
            "min_width": null,
            "object_fit": null,
            "object_position": null,
            "order": null,
            "overflow": null,
            "overflow_x": null,
            "overflow_y": null,
            "padding": null,
            "right": null,
            "top": null,
            "visibility": null,
            "width": null
          }
        },
        "97308887a1cc4156b48c7ce8e5991d84": {
          "model_module": "@jupyter-widgets/base",
          "model_name": "LayoutModel",
          "model_module_version": "1.2.0",
          "state": {
            "_model_module": "@jupyter-widgets/base",
            "_model_module_version": "1.2.0",
            "_model_name": "LayoutModel",
            "_view_count": null,
            "_view_module": "@jupyter-widgets/base",
            "_view_module_version": "1.2.0",
            "_view_name": "LayoutView",
            "align_content": null,
            "align_items": null,
            "align_self": null,
            "border": null,
            "bottom": null,
            "display": null,
            "flex": null,
            "flex_flow": null,
            "grid_area": null,
            "grid_auto_columns": null,
            "grid_auto_flow": null,
            "grid_auto_rows": null,
            "grid_column": null,
            "grid_gap": null,
            "grid_row": null,
            "grid_template_areas": null,
            "grid_template_columns": null,
            "grid_template_rows": null,
            "height": null,
            "justify_content": null,
            "justify_items": null,
            "left": null,
            "margin": null,
            "max_height": null,
            "max_width": null,
            "min_height": null,
            "min_width": null,
            "object_fit": null,
            "object_position": null,
            "order": null,
            "overflow": null,
            "overflow_x": null,
            "overflow_y": null,
            "padding": null,
            "right": null,
            "top": null,
            "visibility": null,
            "width": null
          }
        },
        "d925c68162c6423ca19bf83a11f964de": {
          "model_module": "@jupyter-widgets/controls",
          "model_name": "DescriptionStyleModel",
          "model_module_version": "1.5.0",
          "state": {
            "_model_module": "@jupyter-widgets/controls",
            "_model_module_version": "1.5.0",
            "_model_name": "DescriptionStyleModel",
            "_view_count": null,
            "_view_module": "@jupyter-widgets/base",
            "_view_module_version": "1.2.0",
            "_view_name": "StyleView",
            "description_width": ""
          }
        },
        "1c4bed20e0114848b92eb517ef771306": {
          "model_module": "@jupyter-widgets/base",
          "model_name": "LayoutModel",
          "model_module_version": "1.2.0",
          "state": {
            "_model_module": "@jupyter-widgets/base",
            "_model_module_version": "1.2.0",
            "_model_name": "LayoutModel",
            "_view_count": null,
            "_view_module": "@jupyter-widgets/base",
            "_view_module_version": "1.2.0",
            "_view_name": "LayoutView",
            "align_content": null,
            "align_items": null,
            "align_self": null,
            "border": null,
            "bottom": null,
            "display": null,
            "flex": null,
            "flex_flow": null,
            "grid_area": null,
            "grid_auto_columns": null,
            "grid_auto_flow": null,
            "grid_auto_rows": null,
            "grid_column": null,
            "grid_gap": null,
            "grid_row": null,
            "grid_template_areas": null,
            "grid_template_columns": null,
            "grid_template_rows": null,
            "height": null,
            "justify_content": null,
            "justify_items": null,
            "left": null,
            "margin": null,
            "max_height": null,
            "max_width": null,
            "min_height": null,
            "min_width": null,
            "object_fit": null,
            "object_position": null,
            "order": null,
            "overflow": null,
            "overflow_x": null,
            "overflow_y": null,
            "padding": null,
            "right": null,
            "top": null,
            "visibility": null,
            "width": null
          }
        },
        "a72e8ab65ac34676b20f444e95d3af2b": {
          "model_module": "@jupyter-widgets/controls",
          "model_name": "ProgressStyleModel",
          "model_module_version": "1.5.0",
          "state": {
            "_model_module": "@jupyter-widgets/controls",
            "_model_module_version": "1.5.0",
            "_model_name": "ProgressStyleModel",
            "_view_count": null,
            "_view_module": "@jupyter-widgets/base",
            "_view_module_version": "1.2.0",
            "_view_name": "StyleView",
            "bar_color": null,
            "description_width": ""
          }
        },
        "8ac720d6daf741139e2e970cee8f4de1": {
          "model_module": "@jupyter-widgets/base",
          "model_name": "LayoutModel",
          "model_module_version": "1.2.0",
          "state": {
            "_model_module": "@jupyter-widgets/base",
            "_model_module_version": "1.2.0",
            "_model_name": "LayoutModel",
            "_view_count": null,
            "_view_module": "@jupyter-widgets/base",
            "_view_module_version": "1.2.0",
            "_view_name": "LayoutView",
            "align_content": null,
            "align_items": null,
            "align_self": null,
            "border": null,
            "bottom": null,
            "display": null,
            "flex": null,
            "flex_flow": null,
            "grid_area": null,
            "grid_auto_columns": null,
            "grid_auto_flow": null,
            "grid_auto_rows": null,
            "grid_column": null,
            "grid_gap": null,
            "grid_row": null,
            "grid_template_areas": null,
            "grid_template_columns": null,
            "grid_template_rows": null,
            "height": null,
            "justify_content": null,
            "justify_items": null,
            "left": null,
            "margin": null,
            "max_height": null,
            "max_width": null,
            "min_height": null,
            "min_width": null,
            "object_fit": null,
            "object_position": null,
            "order": null,
            "overflow": null,
            "overflow_x": null,
            "overflow_y": null,
            "padding": null,
            "right": null,
            "top": null,
            "visibility": null,
            "width": null
          }
        },
        "bc0a6adebfe44a8da22b89fe7b6a3718": {
          "model_module": "@jupyter-widgets/controls",
          "model_name": "DescriptionStyleModel",
          "model_module_version": "1.5.0",
          "state": {
            "_model_module": "@jupyter-widgets/controls",
            "_model_module_version": "1.5.0",
            "_model_name": "DescriptionStyleModel",
            "_view_count": null,
            "_view_module": "@jupyter-widgets/base",
            "_view_module_version": "1.2.0",
            "_view_name": "StyleView",
            "description_width": ""
          }
        },
        "6043090d7ddb48469e14b0d10abb09af": {
          "model_module": "@jupyter-widgets/controls",
          "model_name": "HBoxModel",
          "model_module_version": "1.5.0",
          "state": {
            "_dom_classes": [],
            "_model_module": "@jupyter-widgets/controls",
            "_model_module_version": "1.5.0",
            "_model_name": "HBoxModel",
            "_view_count": null,
            "_view_module": "@jupyter-widgets/controls",
            "_view_module_version": "1.5.0",
            "_view_name": "HBoxView",
            "box_style": "",
            "children": [
              "IPY_MODEL_d285ab76fa8b4b03af06fcda4efe15b6",
              "IPY_MODEL_e68ded6be92640e781b2cdd78153d773",
              "IPY_MODEL_fff7a66d962447a28fc6081467bea3b6"
            ],
            "layout": "IPY_MODEL_b288d39a5fd54181bf8a7e44df039258"
          }
        },
        "d285ab76fa8b4b03af06fcda4efe15b6": {
          "model_module": "@jupyter-widgets/controls",
          "model_name": "HTMLModel",
          "model_module_version": "1.5.0",
          "state": {
            "_dom_classes": [],
            "_model_module": "@jupyter-widgets/controls",
            "_model_module_version": "1.5.0",
            "_model_name": "HTMLModel",
            "_view_count": null,
            "_view_module": "@jupyter-widgets/controls",
            "_view_module_version": "1.5.0",
            "_view_name": "HTMLView",
            "description": "",
            "description_tooltip": null,
            "layout": "IPY_MODEL_c30d38d18441412f9c74847d9ae4fead",
            "placeholder": "​",
            "style": "IPY_MODEL_50745d723338452b88ee1a1956a7bbfe",
            "value": "100%"
          }
        },
        "e68ded6be92640e781b2cdd78153d773": {
          "model_module": "@jupyter-widgets/controls",
          "model_name": "FloatProgressModel",
          "model_module_version": "1.5.0",
          "state": {
            "_dom_classes": [],
            "_model_module": "@jupyter-widgets/controls",
            "_model_module_version": "1.5.0",
            "_model_name": "FloatProgressModel",
            "_view_count": null,
            "_view_module": "@jupyter-widgets/controls",
            "_view_module_version": "1.5.0",
            "_view_name": "ProgressView",
            "bar_style": "success",
            "description": "",
            "description_tooltip": null,
            "layout": "IPY_MODEL_0ffd43c255d34df1ad9506e7966162eb",
            "max": 1,
            "min": 0,
            "orientation": "horizontal",
            "style": "IPY_MODEL_5e1847e28d7d40d38c6706df676097ef",
            "value": 1
          }
        },
        "fff7a66d962447a28fc6081467bea3b6": {
          "model_module": "@jupyter-widgets/controls",
          "model_name": "HTMLModel",
          "model_module_version": "1.5.0",
          "state": {
            "_dom_classes": [],
            "_model_module": "@jupyter-widgets/controls",
            "_model_module_version": "1.5.0",
            "_model_name": "HTMLModel",
            "_view_count": null,
            "_view_module": "@jupyter-widgets/controls",
            "_view_module_version": "1.5.0",
            "_view_name": "HTMLView",
            "description": "",
            "description_tooltip": null,
            "layout": "IPY_MODEL_da59d62a1d0e49419ea4a4f13dd01d1f",
            "placeholder": "​",
            "style": "IPY_MODEL_67775f54d5084956b6ed1db70f050feb",
            "value": " 1/1 [00:01&lt;00:00,  1.39s/ba]"
          }
        },
        "b288d39a5fd54181bf8a7e44df039258": {
          "model_module": "@jupyter-widgets/base",
          "model_name": "LayoutModel",
          "model_module_version": "1.2.0",
          "state": {
            "_model_module": "@jupyter-widgets/base",
            "_model_module_version": "1.2.0",
            "_model_name": "LayoutModel",
            "_view_count": null,
            "_view_module": "@jupyter-widgets/base",
            "_view_module_version": "1.2.0",
            "_view_name": "LayoutView",
            "align_content": null,
            "align_items": null,
            "align_self": null,
            "border": null,
            "bottom": null,
            "display": null,
            "flex": null,
            "flex_flow": null,
            "grid_area": null,
            "grid_auto_columns": null,
            "grid_auto_flow": null,
            "grid_auto_rows": null,
            "grid_column": null,
            "grid_gap": null,
            "grid_row": null,
            "grid_template_areas": null,
            "grid_template_columns": null,
            "grid_template_rows": null,
            "height": null,
            "justify_content": null,
            "justify_items": null,
            "left": null,
            "margin": null,
            "max_height": null,
            "max_width": null,
            "min_height": null,
            "min_width": null,
            "object_fit": null,
            "object_position": null,
            "order": null,
            "overflow": null,
            "overflow_x": null,
            "overflow_y": null,
            "padding": null,
            "right": null,
            "top": null,
            "visibility": null,
            "width": null
          }
        },
        "c30d38d18441412f9c74847d9ae4fead": {
          "model_module": "@jupyter-widgets/base",
          "model_name": "LayoutModel",
          "model_module_version": "1.2.0",
          "state": {
            "_model_module": "@jupyter-widgets/base",
            "_model_module_version": "1.2.0",
            "_model_name": "LayoutModel",
            "_view_count": null,
            "_view_module": "@jupyter-widgets/base",
            "_view_module_version": "1.2.0",
            "_view_name": "LayoutView",
            "align_content": null,
            "align_items": null,
            "align_self": null,
            "border": null,
            "bottom": null,
            "display": null,
            "flex": null,
            "flex_flow": null,
            "grid_area": null,
            "grid_auto_columns": null,
            "grid_auto_flow": null,
            "grid_auto_rows": null,
            "grid_column": null,
            "grid_gap": null,
            "grid_row": null,
            "grid_template_areas": null,
            "grid_template_columns": null,
            "grid_template_rows": null,
            "height": null,
            "justify_content": null,
            "justify_items": null,
            "left": null,
            "margin": null,
            "max_height": null,
            "max_width": null,
            "min_height": null,
            "min_width": null,
            "object_fit": null,
            "object_position": null,
            "order": null,
            "overflow": null,
            "overflow_x": null,
            "overflow_y": null,
            "padding": null,
            "right": null,
            "top": null,
            "visibility": null,
            "width": null
          }
        },
        "50745d723338452b88ee1a1956a7bbfe": {
          "model_module": "@jupyter-widgets/controls",
          "model_name": "DescriptionStyleModel",
          "model_module_version": "1.5.0",
          "state": {
            "_model_module": "@jupyter-widgets/controls",
            "_model_module_version": "1.5.0",
            "_model_name": "DescriptionStyleModel",
            "_view_count": null,
            "_view_module": "@jupyter-widgets/base",
            "_view_module_version": "1.2.0",
            "_view_name": "StyleView",
            "description_width": ""
          }
        },
        "0ffd43c255d34df1ad9506e7966162eb": {
          "model_module": "@jupyter-widgets/base",
          "model_name": "LayoutModel",
          "model_module_version": "1.2.0",
          "state": {
            "_model_module": "@jupyter-widgets/base",
            "_model_module_version": "1.2.0",
            "_model_name": "LayoutModel",
            "_view_count": null,
            "_view_module": "@jupyter-widgets/base",
            "_view_module_version": "1.2.0",
            "_view_name": "LayoutView",
            "align_content": null,
            "align_items": null,
            "align_self": null,
            "border": null,
            "bottom": null,
            "display": null,
            "flex": null,
            "flex_flow": null,
            "grid_area": null,
            "grid_auto_columns": null,
            "grid_auto_flow": null,
            "grid_auto_rows": null,
            "grid_column": null,
            "grid_gap": null,
            "grid_row": null,
            "grid_template_areas": null,
            "grid_template_columns": null,
            "grid_template_rows": null,
            "height": null,
            "justify_content": null,
            "justify_items": null,
            "left": null,
            "margin": null,
            "max_height": null,
            "max_width": null,
            "min_height": null,
            "min_width": null,
            "object_fit": null,
            "object_position": null,
            "order": null,
            "overflow": null,
            "overflow_x": null,
            "overflow_y": null,
            "padding": null,
            "right": null,
            "top": null,
            "visibility": null,
            "width": null
          }
        },
        "5e1847e28d7d40d38c6706df676097ef": {
          "model_module": "@jupyter-widgets/controls",
          "model_name": "ProgressStyleModel",
          "model_module_version": "1.5.0",
          "state": {
            "_model_module": "@jupyter-widgets/controls",
            "_model_module_version": "1.5.0",
            "_model_name": "ProgressStyleModel",
            "_view_count": null,
            "_view_module": "@jupyter-widgets/base",
            "_view_module_version": "1.2.0",
            "_view_name": "StyleView",
            "bar_color": null,
            "description_width": ""
          }
        },
        "da59d62a1d0e49419ea4a4f13dd01d1f": {
          "model_module": "@jupyter-widgets/base",
          "model_name": "LayoutModel",
          "model_module_version": "1.2.0",
          "state": {
            "_model_module": "@jupyter-widgets/base",
            "_model_module_version": "1.2.0",
            "_model_name": "LayoutModel",
            "_view_count": null,
            "_view_module": "@jupyter-widgets/base",
            "_view_module_version": "1.2.0",
            "_view_name": "LayoutView",
            "align_content": null,
            "align_items": null,
            "align_self": null,
            "border": null,
            "bottom": null,
            "display": null,
            "flex": null,
            "flex_flow": null,
            "grid_area": null,
            "grid_auto_columns": null,
            "grid_auto_flow": null,
            "grid_auto_rows": null,
            "grid_column": null,
            "grid_gap": null,
            "grid_row": null,
            "grid_template_areas": null,
            "grid_template_columns": null,
            "grid_template_rows": null,
            "height": null,
            "justify_content": null,
            "justify_items": null,
            "left": null,
            "margin": null,
            "max_height": null,
            "max_width": null,
            "min_height": null,
            "min_width": null,
            "object_fit": null,
            "object_position": null,
            "order": null,
            "overflow": null,
            "overflow_x": null,
            "overflow_y": null,
            "padding": null,
            "right": null,
            "top": null,
            "visibility": null,
            "width": null
          }
        },
        "67775f54d5084956b6ed1db70f050feb": {
          "model_module": "@jupyter-widgets/controls",
          "model_name": "DescriptionStyleModel",
          "model_module_version": "1.5.0",
          "state": {
            "_model_module": "@jupyter-widgets/controls",
            "_model_module_version": "1.5.0",
            "_model_name": "DescriptionStyleModel",
            "_view_count": null,
            "_view_module": "@jupyter-widgets/base",
            "_view_module_version": "1.2.0",
            "_view_name": "StyleView",
            "description_width": ""
          }
        }
      }
    }
  },
  "nbformat": 4,
  "nbformat_minor": 0
}